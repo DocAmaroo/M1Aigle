{
 "cells": [
  {
   "cell_type": "markdown",
   "metadata": {},
   "source": [
    "<H1>Introduction à Pandas</H1>"
   ]
  },
  {
   "cell_type": "markdown",
   "metadata": {},
   "source": [
    "Pandas est une librairie python qui permet de manipuler facilement des données que l'on souhaite analyser. Elle considère trois types de structures :\n",
    "* les séries : un tableau à une dimension où les données sont de même type\n",
    "* les dataframes : un tableau à deux dimensions où les données peuvent être de types différents\n",
    "* les panels : un tableau à trois dimensions où les données peuvent être de types différents\n",
    "\n",
    "Le **dataframe** est le plus utilisé dans pandas car il permet  de pouvoir manipuler des tableaux avec les noms des colonnes ou des lignes, offre de nombreuses fonctionalités similaires à celles de système de gestion de base de données (séléction, group-by, etc), offre des facilités pour pouvoir sauvegarder ou afficher des résultats.\n",
    "\n"
   ]
  },
  {
   "cell_type": "markdown",
   "metadata": {},
   "source": [
    "Les différents types pandas :  \n",
    "\n"
   ]
  },
  {
   "cell_type": "markdown",
   "metadata": {},
   "source": [
    "Etant donné qu'il y a trois structure de données manipulables avec Pandas il va exister différentes manières de les indexer.  \n",
    "\n",
    "Les séries ont un seul dimension appelé index (axis ==0)  \n",
    "Les dataframes ont deux axes l'axe *index* (axis == 0), and l'axe des *colonnes* (axis == 1). Ils peuvent être vus comme des dictionnaires Python où la clé correspond aux noms des colonnes et la valeurs aux séries des colonnes.   \n",
    "Les panels peuvent être vus comme des dictionnaires Python de dataframes. Ils ont donc des *items* ou *index* (axis == 0), des *axes majeurs* (axis == 1) et des *axes mineurs*(axis == 2)."
   ]
  },
  {
   "cell_type": "markdown",
   "metadata": {},
   "source": [
    "|dtype Pandas\t| type Python\t| type NumPy\t |Utilisation |\n",
    "| :-------------: |:-------------:| :----------:|:-----------:|\n",
    "| object        | str           | string_, unicode_  | Texte|\n",
    "| int64        | int           | int_, int8, int16, int32, int64, uint8, uint16, uint32, uint64 | Integer|\n",
    "| float64        | float           | float_, float16, float32, float64  | Float|\n",
    "| bool        | bool           | bool_  | True/False|\n",
    "| datetime64        | NA           | datetime64  | Date et Heure|\n",
    "| timedelta        | NA           | NA  | Différence entre deux datetime|\n",
    "| category        | NA           | NA  | Liste finie de valeurs textuelles|"
   ]
  },
  {
   "cell_type": "markdown",
   "metadata": {},
   "source": [
    "Remarque : un dataframe peut être affiché par print ou par display."
   ]
  },
  {
   "cell_type": "markdown",
   "metadata": {},
   "source": [
    "## Petit rappel sur les tableaux en python "
   ]
  },
  {
   "cell_type": "markdown",
   "metadata": {},
   "source": [
    "Un tableau peut être créé à l'aide de la fonction *np.array()* "
   ]
  },
  {
   "cell_type": "code",
   "execution_count": 1,
   "metadata": {},
   "outputs": [
    {
     "name": "stdout",
     "output_type": "stream",
     "text": [
      "Création d'un tableau à 1 dimension \n",
      "[5 4 3 2 1]\n",
      "\n",
      "Création d'un tableau à 1 dimension dont le type est float\n",
      "[5. 4. 3. 2. 1.]\n",
      "\n",
      "Création d'un tableau à 2 dimensions (2 lignes, 5 colonnes)\n",
      "[[5 4 3 2 1]\n",
      " [1 2 3 4 5]]\n"
     ]
    }
   ],
   "source": [
    "import numpy as np\n",
    "print (\"Création d'un tableau à 1 dimension \")\n",
    "tableau_une_dimension = np.array([5, 4, 3, 2, 1])\n",
    "print (tableau_une_dimension)\n",
    "\n",
    "print (\"\\nCréation d'un tableau à 1 dimension dont le type est float\")\n",
    "tableau_une_dimension_float = np.array([5, 4, 3, 2, 1],dtype='float')\n",
    "print (tableau_une_dimension_float)\n",
    "\n",
    "print (\"\\nCréation d'un tableau à 2 dimensions (2 lignes, 5 colonnes)\")\n",
    "tableau_deux_dimensions = np.array([[5, 4, 3, 2, 1],\n",
    "                                    [1, 2, 3, 4, 5]])\n",
    "\n",
    "print (tableau_deux_dimensions)\n",
    "\n"
   ]
  },
  {
   "cell_type": "markdown",
   "metadata": {},
   "source": [
    "**Autres types d'initialisation**"
   ]
  },
  {
   "cell_type": "code",
   "execution_count": 2,
   "metadata": {},
   "outputs": [
    {
     "name": "stdout",
     "output_type": "stream",
     "text": [
      "\n",
      "Création d'un tableau à 2 dimensions initialisé à 0 et de type float \n",
      "[[0. 0. 0.]\n",
      " [0. 0. 0.]]\n",
      "\n",
      "Création d'un tableau à 2 dimensions initialisé à 1 et de type integer \n",
      "[[1 1 1 1 1]\n",
      " [1 1 1 1 1]\n",
      " [1 1 1 1 1]]\n",
      "\n",
      "Création d'un tableau à 1 dimension initialisé avec des valeurs régulièrement espacées \n",
      "[0 1 2 3 4 5 6 7 8 9]\n",
      "\n",
      "Création d'un tableau à 1 dimension initialisé de 1 à 3 avec un espace de 0.5 \n",
      "[1.  1.5 2.  2.5]\n",
      "\n",
      "Création d'un tableau à 2 dimensions initialisé avec arange \n",
      "[[1.  1.5 2.  2.5]\n",
      " [3.  2.5 2.  1.5]]\n",
      "\n",
      "Création d'un tableau à 2 dimensions initialisé aléatoirement suivant une loi normale centrée sur 0 avec une dispersion de 1\n",
      "[[1.  1.5 2.  2.5]\n",
      " [3.  2.5 2.  1.5]]\n"
     ]
    }
   ],
   "source": [
    "print (\"\\nCréation d'un tableau à 2 dimensions initialisé à 0 et de type float \")\n",
    "tableau_deux_dimensions_zero_float = np.zeros((2, 3), dtype='f')    \n",
    "print (tableau_deux_dimensions_zero_float)\n",
    "\n",
    "print (\"\\nCréation d'un tableau à 2 dimensions initialisé à 1 et de type integer \")\n",
    "tableau_deux_dimensions_un_entier = np.ones((3, 5), dtype='i')    \n",
    "print (tableau_deux_dimensions_un_entier)\n",
    "\n",
    "print (\"\\nCréation d'un tableau à 1 dimension initialisé avec des valeurs régulièrement espacées \")\n",
    "tableau_une_dimension_arrange= np.arange(10)\n",
    "print (tableau_une_dimension_arrange)\n",
    "\n",
    "print (\"\\nCréation d'un tableau à 1 dimension initialisé de 1 à 3 avec un espace de 0.5 \")\n",
    "tableau_une_dimension_arrange2= np.arange(1,3,0.5)\n",
    "print (tableau_une_dimension_arrange2)\n",
    "\n",
    "print (\"\\nCréation d'un tableau à 2 dimensions initialisé avec arange \")\n",
    "line_0=np.arange(1,3,0.5)\n",
    "line_1=np.arange(3,1,-0.5)\n",
    "tableau_deux_dimensions_arrange = np.array([line_0,\n",
    "                                    line_1])\n",
    "print (tableau_deux_dimensions_arrange)\n",
    "\n",
    "print (\"\\nCréation d'un tableau à 2 dimensions initialisé aléatoirement suivant une loi normale centrée sur 0 avec une dispersion de 1\")\n",
    "tableau_deux_dimensions_aleatoire = np.random.normal(0, 1, (4, 4)) \n",
    "print (tableau_deux_dimensions_arrange)"
   ]
  },
  {
   "cell_type": "markdown",
   "metadata": {},
   "source": [
    "**Copie d'un tableau**"
   ]
  },
  {
   "cell_type": "code",
   "execution_count": 3,
   "metadata": {},
   "outputs": [
    {
     "name": "stdout",
     "output_type": "stream",
     "text": [
      "Tableau initial\n",
      " [5 4 3 2 1]\n",
      "\n",
      "Copie directe\n",
      " [5 4 3 2 1]\n",
      "\n",
      "Attention une copie directe est un pointeur vers le tableau initial\n",
      "\n",
      "Modification d'une valeur de copie directe - copie_directe[0]=1\n",
      "\n",
      "Tableau initial\n",
      " [1 4 3 2 1]\n",
      "\n",
      "Utilisation de la fonction .copy\n",
      "\n",
      "Copie par .copy\n",
      " [1 4 3 2 1]\n",
      "\n",
      "Modification d'une valeur de copie par copy - copie_copy[0]=5\n",
      "\n",
      "Il n'y a pas de modification dans tableau initial\n",
      " [1 4 3 2 1]\n"
     ]
    }
   ],
   "source": [
    "tableau_une_dimension = np.array([5, 4, 3, 2, 1])\n",
    "print (\"Tableau initial\\n\",tableau_une_dimension)\n",
    "copie_directe=tableau_une_dimension\n",
    "print (\"\\nCopie directe\\n\",copie_directe)\n",
    "print (\"\\nAttention une copie directe est un pointeur vers le tableau initial\")\n",
    "print (\"\\nModification d'une valeur de copie directe - copie_directe[0]=1\")\n",
    "copie_directe[0]=1\n",
    "print (\"\\nTableau initial\\n\",tableau_une_dimension)\n",
    "\n",
    "print (\"\\nUtilisation de la fonction .copy\")\n",
    "copie_copy=tableau_une_dimension.copy()\n",
    "print (\"\\nCopie par .copy\\n\",copie_copy)\n",
    "print (\"\\nModification d'une valeur de copie par copy - copie_copy[0]=5\")\n",
    "copie_copy[0]=5\n",
    "print (\"\\nIl n'y a pas de modification dans tableau initial\\n\",tableau_une_dimension)"
   ]
  },
  {
   "cell_type": "markdown",
   "metadata": {},
   "source": [
    "**Shape, size, len et accès aux valeurs**  \n",
    "\n",
    "*shape* permet de connaître les dimensions d'un tableau. Il est possibe d'accéder aux valeurs en utilisant [nb]. Attention les index des tableaux commencent à 0. "
   ]
  },
  {
   "cell_type": "code",
   "execution_count": 4,
   "metadata": {},
   "outputs": [
    {
     "name": "stdout",
     "output_type": "stream",
     "text": [
      "Tableau à 1 dimension \n",
      " [5 4 3 2 1]\n",
      "\n",
      "Les dimensions du tableau :  (5,)\n",
      "\n",
      "Accès au 3 ième élément du tableau :  3\n",
      "\n",
      "Accès au dernier élément du tableau avec -1 :  1\n",
      "\n",
      "Tableau à 2 dimensions \n",
      " [[5 4 3 2 1]\n",
      " [1 2 3 4 5]]\n",
      "\n",
      "Les dimensions du tableau  (2, 5)\n",
      "\n",
      "shape[0] correspond au nombre de lignes 2\n",
      "\n",
      "shape[1] correspond au nombre de colonnes 5\n",
      "\n",
      "Valeur pour la 2 ligne et colonne 3 :  3\n",
      "\n",
      "Valeur de la seconde colonne, laisser la partie après la virgule vide :  [1 2 3 4 5]\n",
      "\n",
      "Attention size et différent de len pour un tableau 2D\n",
      "\n",
      "size retourne le nombre d'éléments du tableau :  10\n",
      "\n",
      "len retourne combien il y a de lignes dans le tableau :  2\n"
     ]
    }
   ],
   "source": [
    "\n",
    "tableau_une_dimension = np.array([5, 4, 3, 2, 1])\n",
    "print (\"Tableau à 1 dimension \\n\",tableau_une_dimension)\n",
    "print (\"\\nLes dimensions du tableau : \",tableau_une_dimension.shape)\n",
    "print (\"\\nAccès au 3 ième élément du tableau : \", tableau_une_dimension[2])\n",
    "print (\"\\nAccès au dernier élément du tableau avec -1 : \", tableau_une_dimension[-1])\n",
    "\n",
    "tableau_deux_dimensions = np.array([[5, 4, 3, 2, 1],\n",
    "                                    [1, 2, 3, 4, 5]])\n",
    "\n",
    "print (\"\\nTableau à 2 dimensions \\n\",tableau_deux_dimensions)\n",
    "print (\"\\nLes dimensions du tableau \",tableau_deux_dimensions.shape)\n",
    "print (\"\\nshape[0] correspond au nombre de lignes\", tableau_deux_dimensions.shape[0])\n",
    "print (\"\\nshape[1] correspond au nombre de colonnes\", tableau_deux_dimensions.shape[1])\n",
    "\n",
    "print (\"\\nValeur pour la 2 ligne et colonne 3 : \",tableau_deux_dimensions[1,2])\n",
    "print (\"\\nValeur de la seconde colonne, laisser la partie après la virgule vide : \", tableau_deux_dimensions[1,])\n",
    "print (\"\\nAttention size et différent de len pour un tableau 2D\")\n",
    "print (\"\\nsize retourne le nombre d'éléments du tableau : \",np.size(tableau_deux_dimensions))\n",
    "print (\"\\nlen retourne combien il y a de lignes dans le tableau : \",len(tableau_deux_dimensions))"
   ]
  },
  {
   "cell_type": "markdown",
   "metadata": {},
   "source": [
    "**Slicing**  \n",
    "\n",
    "Il est possible d'utiliser des techniques de \"tranchage\" (*slicing*) pour obtenir des parties de tableaux.  \n",
    "Elle consiste à indiquer entre crochets des indices pour définir le début et la fin de la tranche (non comprise) et le pas éventuel et à les séparer par deux-points ':'. Syntaxe :  [début:fin:pas].  \n",
    "\n",
    "Le principe est le même pour un tableau à deux dimensions, il suffit de séparer par des , les parties.\n"
   ]
  },
  {
   "cell_type": "code",
   "execution_count": 5,
   "metadata": {},
   "outputs": [
    {
     "name": "stdout",
     "output_type": "stream",
     "text": [
      "Tableau à 1 dimension\n",
      " [9 8 7 6 5 4 3 2 1 0]\n",
      "\n",
      "Obtention des trois premiers éléments du tableau : [9 8 7]\n",
      "\n",
      "Obtention des trois premiers éléments du tableau sans spécifier à gauche des ':' : [9 8 7]\n",
      "\n",
      "Obtention des derniers éléments après le troisième sans spécifier à droite des ':' : [6 5 4 3 2 1 0]\n",
      "\n",
      "Obtention des éléments du premier au dernier non compris avec un pas de 3 : [8 5 2]\n",
      "\n",
      "Tableau à 2 dimensions\n",
      " [[9 8 7 6 5 4 3 2 1 0]\n",
      " [0 1 2 3 4 5 6 7 8 9]\n",
      " [9 8 7 6 5 4 3 2 1 0]\n",
      " [0 1 2 3 4 5 6 7 8 9]]\n",
      "\n",
      "Valeur pour la 2 ligne et colonne 3 : 2\n",
      "\n",
      "Tableau qui va de la ligne 1 à 3 et des colonnes 0 à 5 :\n",
      " [[0 1 2 3 4]\n",
      " [9 8 7 6 5]\n",
      " [0 1 2 3 4]]\n",
      "\n",
      "Tableau avec un saut de 2 dans les valeurs :\n",
      " [[9 7 5 3 1]\n",
      " [9 7 5 3 1]]\n"
     ]
    }
   ],
   "source": [
    "tableau_une_dimension = np.array([9, 8, 7, 6, 5, 4, 3, 2, 1, 0])\n",
    "print (\"Tableau à 1 dimension\\n\",tableau_une_dimension)\n",
    "print (\"\\nObtention des trois premiers éléments du tableau :\",tableau_une_dimension[0:3])\n",
    "print (\"\\nObtention des trois premiers éléments du tableau sans spécifier à gauche des ':' :\",tableau_une_dimension[:3])\n",
    "print (\"\\nObtention des derniers éléments après le troisième sans spécifier à droite des ':' :\",tableau_une_dimension[3:])\n",
    "print (\"\\nObtention des éléments du premier au dernier non compris avec un pas de 3 :\",tableau_une_dimension[1:9:3])\n",
    "\n",
    "print ()\n",
    "tableau_deux_dimensions = np.array([[9, 8, 7, 6, 5, 4, 3, 2, 1, 0],\n",
    "                                    [0, 1, 2, 3, 4, 5, 6, 7, 8, 9],\n",
    "                                    [9, 8, 7, 6, 5, 4, 3, 2, 1, 0],\n",
    "                                    [0, 1, 2, 3, 4, 5, 6, 7, 8, 9]])\n",
    "print (\"Tableau à 2 dimensions\\n\",tableau_deux_dimensions)\n",
    "print (\"\\nValeur pour la 2 ligne et colonne 3 :\",tableau_deux_dimensions[1,2])\n",
    "print (\"\\nTableau qui va de la ligne 1 à 3 et des colonnes 0 à 5 :\\n\",tableau_deux_dimensions[1:4,0:5])\n",
    "print (\"\\nTableau avec un saut de 2 dans les valeurs :\\n\",tableau_deux_dimensions[::2, ::2])"
   ]
  },
  {
   "cell_type": "markdown",
   "metadata": {},
   "source": [
    "**Redimensionnement d'un tableau**  \n",
    "\n",
    "Il est parfois très utile de pouvoir redimensionner un tableau (certaines fonctions scikit learn nécessite d'avoir une vision en deux dimensions pour un tableau en une dimension). Il faut utiliser la fonction *reshape*. Syntaxe : namearray.reshape((un tuple de valeurs))"
   ]
  },
  {
   "cell_type": "code",
   "execution_count": 6,
   "metadata": {},
   "outputs": [
    {
     "name": "stdout",
     "output_type": "stream",
     "text": [
      "Transformation 1 dimension en 2 dimensions\n",
      "\n",
      "Tableau initial  [5 4 3 2 1 0]\n",
      "\n",
      "Shape du tableau (6,)\n",
      "\n",
      "Tableau transformé en 2 dimensions \n",
      " [[5]\n",
      " [4]\n",
      " [3]\n",
      " [2]\n",
      " [1]\n",
      " [0]]\n",
      "\n",
      "Shape du tableau (6, 1)\n",
      "\n",
      "Transformation 2 dimensions en 3 dimensions\n",
      "\n",
      "Tableau initial \n",
      " [[5 4 3 2 1]\n",
      " [1 2 3 4 5]]\n",
      "\n",
      "Shape du tableau (2, 5)\n",
      "\n",
      "Tableau transformé en 3 dimensions \n",
      " [[[5]\n",
      "  [4]\n",
      "  [3]\n",
      "  [2]\n",
      "  [1]]\n",
      "\n",
      " [[1]\n",
      "  [2]\n",
      "  [3]\n",
      "  [4]\n",
      "  [5]]]\n",
      "\n",
      "Shape du tableau (2, 5, 1)\n"
     ]
    }
   ],
   "source": [
    "tableau_une_dimension = np.array([5, 4, 3, 2, 1, 0])\n",
    "print (\"Transformation 1 dimension en 2 dimensions\")\n",
    "print (\"\\nTableau initial \",tableau_une_dimension)\n",
    "print (\"\\nShape du tableau\", tableau_une_dimension.shape)\n",
    "tableau_reshape_2D=tableau_une_dimension.reshape((tableau_une_dimension.shape[0], 1))\n",
    "print (\"\\nTableau transformé en 2 dimensions \\n\",tableau_reshape_2D)\n",
    "print (\"\\nShape du tableau\", tableau_reshape_2D.shape)\n",
    "\n",
    "print (\"\\nTransformation 2 dimensions en 3 dimensions\")\n",
    "tableau_deux_dimensions = np.array([[5, 4, 3, 2, 1],\n",
    "                                    [1, 2, 3, 4, 5]])\n",
    "print (\"\\nTableau initial \\n\",tableau_deux_dimensions)\n",
    "print (\"\\nShape du tableau\", tableau_deux_dimensions.shape)\n",
    "tableau_reshape_3D=tableau_deux_dimensions.reshape((tableau_deux_dimensions.shape[0],tableau_deux_dimensions.shape[1],1))\n",
    "print (\"\\nTableau transformé en 3 dimensions \\n\",tableau_reshape_3D)\n",
    "print (\"\\nShape du tableau\", tableau_reshape_3D.shape)"
   ]
  },
  {
   "cell_type": "markdown",
   "metadata": {},
   "source": [
    "**Transposition**   \n",
    "\n",
    "Il est possible de faire une transposition en utilisation la fonction *.transpose()* ou *.T*"
   ]
  },
  {
   "cell_type": "code",
   "execution_count": 7,
   "metadata": {},
   "outputs": [
    {
     "name": "stdout",
     "output_type": "stream",
     "text": [
      "\n",
      "Tableau initial \n",
      " [[5 4 3 2 1]\n",
      " [1 2 3 4 5]]\n",
      "\n",
      "Transposition avec .transpose() [[5 1]\n",
      " [4 2]\n",
      " [3 3]\n",
      " [2 4]\n",
      " [1 5]]\n",
      "\n",
      "Transposition avec .T [[5 1]\n",
      " [4 2]\n",
      " [3 3]\n",
      " [2 4]\n",
      " [1 5]]\n"
     ]
    }
   ],
   "source": [
    "tableau_deux_dimensions = np.array([[5, 4, 3, 2, 1],\n",
    "                                    [1, 2, 3, 4, 5]])\n",
    "print (\"\\nTableau initial \\n\",tableau_deux_dimensions)\n",
    "print (\"\\nTransposition avec .transpose()\",tableau_deux_dimensions.transpose())\n",
    "print (\"\\nTransposition avec .T\",tableau_deux_dimensions.T)"
   ]
  },
  {
   "cell_type": "markdown",
   "metadata": {},
   "source": [
    "**Produit scalaire**  \n",
    "Le produit scalaire de deux tableaux (matrices) peut se faire via la fonction *.dot* appliquée à une matrice ou par la fonction *np.dot(matrice1,matrice2)*"
   ]
  },
  {
   "cell_type": "code",
   "execution_count": 8,
   "metadata": {},
   "outputs": [
    {
     "name": "stdout",
     "output_type": "stream",
     "text": [
      "Produit scalaire de la matrice \n",
      " [[5 4 3 2 1]\n",
      " [1 2 3 4 5]]\n",
      "\n",
      "avec \n",
      " [[5 4 3 2 1]\n",
      " [1 2 3 4 5]]\n",
      "\n",
      "Dans un premier temps il faut faire un transpose de la seconde matrice\n",
      " \n",
      "[[5 1]\n",
      " [4 2]\n",
      " [3 3]\n",
      " [2 4]\n",
      " [1 5]]\n",
      "\n",
      "Produit scalaire des 2 matrices avec .dot sur la première matrice\n",
      " [[55 35]\n",
      " [35 55]]\n",
      "\n",
      "Produit scalaire des 2 matrices avec np.dot\n",
      " [[55 35]\n",
      " [35 55]]\n"
     ]
    }
   ],
   "source": [
    "tableau_deux_dimensions = np.array([[5, 4, 3, 2, 1],\n",
    "                                    [1, 2, 3, 4, 5]])\n",
    "tableau_deux_dimensions2 = np.array([[5, 4, 3, 2, 1],\n",
    "                                    [1, 2, 3, 4, 5]])\n",
    "print (\"Produit scalaire de la matrice \\n\",tableau_deux_dimensions)\n",
    "print (\"\\navec \\n\",tableau_deux_dimensions2)\n",
    "print (\"\\nDans un premier temps il faut faire un transpose de la seconde matrice\\n \")\n",
    "tableau2_transpose=tableau_deux_dimensions2.transpose()\n",
    "print (tableau2_transpose)\n",
    "print (\"\\nProduit scalaire des 2 matrices avec .dot sur la première matrice\\n\",tableau_deux_dimensions.dot(tableau2_transpose))\n",
    "print (\"\\nProduit scalaire des 2 matrices avec np.dot\\n\",np.dot(tableau_deux_dimensions,tableau2_transpose))"
   ]
  },
  {
   "cell_type": "markdown",
   "metadata": {},
   "source": [
    "**Quelques fonctions utiles**"
   ]
  },
  {
   "cell_type": "code",
   "execution_count": 9,
   "metadata": {},
   "outputs": [
    {
     "name": "stdout",
     "output_type": "stream",
     "text": [
      "Nombre d'éléments du tableau\n",
      " 10   10\n",
      "\n",
      "Minimum du tableau 0\n",
      "\n",
      "Maximum du tableau 9\n",
      "\n",
      "Moyenne du tableau 4.5\n",
      "\n",
      "Somme des éléments du tableau 45\n",
      "\n",
      "Tri du tableau  [0 1 2 3 4 5 6 7 8 9]\n"
     ]
    }
   ],
   "source": [
    "tableau_une_dimension = np.array([9, 8, 7, 6, 5, 4, 3, 2, 1, 0])\n",
    "\n",
    "print (\"Nombre d'éléments du tableau\\n\",len(tableau_une_dimension),' ',tableau_une_dimension.size)\n",
    "print (\"\\nMinimum du tableau\", tableau_une_dimension.min())\n",
    "print (\"\\nMaximum du tableau\", tableau_une_dimension.max())\n",
    "print (\"\\nMoyenne du tableau\", tableau_une_dimension.mean())\n",
    "print (\"\\nSomme des éléments du tableau\", tableau_une_dimension.sum())\n",
    "print (\"\\nTri du tableau \",np.sort(tableau_une_dimension))"
   ]
  },
  {
   "cell_type": "markdown",
   "metadata": {},
   "source": [
    "## Les séries "
   ]
  },
  {
   "cell_type": "markdown",
   "metadata": {},
   "source": [
    "Une série pandas peut être créée à partir du constructeur :"
   ]
  },
  {
   "cell_type": "markdown",
   "metadata": {},
   "source": [
    "    pandas.Series( data, index, dtype, copy)  \n",
    "où  \n",
    "*data* peut être un ndarray, une liste, des constantes  \n",
    "*index* doit être unique est hachable.  Par défaut : np.arrange(n) s'il n'y a pas d'index passé  \n",
    "*dtype* type de données. Déterminé automatiquement s'il n'est pas indiqué  \n",
    "*copy* copie des données. Par défaut : false  \n",
    "\n",
    "\n",
    "Il est nécessaire d'importer la librairie : "
   ]
  },
  {
   "cell_type": "code",
   "execution_count": 10,
   "metadata": {},
   "outputs": [],
   "source": [
    "import pandas as pd"
   ]
  },
  {
   "cell_type": "markdown",
   "metadata": {},
   "source": [
    "### Exemples de création de séries"
   ]
  },
  {
   "cell_type": "code",
   "execution_count": 11,
   "metadata": {},
   "outputs": [
    {
     "name": "stdout",
     "output_type": "stream",
     "text": [
      "Une série pandas vide :\n",
      "Series([], dtype: float64)\n",
      "\n",
      "Une série pandas par np.array sans index :\n",
      "0    a\n",
      "1    b\n",
      "2    c\n",
      "3    d\n",
      "dtype: object\n",
      "\n",
      "Forme de la série :\n",
      "(4,)\n",
      "\n",
      "Une série pandas par np.array avec index :\n",
      "100    a\n",
      "101    b\n",
      "102    c\n",
      "103    d\n",
      "dtype: object\n",
      "\n",
      "Une série pandas par dictionnaire sans index :\n",
      "a    5.1\n",
      "b    2.0\n",
      "c    6.3\n",
      "dtype: float64\n",
      "\n",
      "remarque : l'index change l'ordre par rapport au précédent\n",
      "\n",
      "Une série pandas par dictionnaire avec index :\n",
      "c    6.3\n",
      "b    2.0\n",
      "a    5.1\n",
      "dtype: float64\n",
      "\n",
      "Quand l'index est plus grand, la valeur prend NaN (Not a Number)\n",
      "\n",
      "Une série pandas par dictionnaire avec index trop grand :\n",
      "c    6.3\n",
      "e    NaN\n",
      "a    5.1\n",
      "b    2.0\n",
      "dtype: float64\n",
      "\n",
      "Une série pandas par un scalaire avec index :\n",
      "100    10\n",
      "200    10\n",
      "300    10\n",
      "dtype: int64\n"
     ]
    }
   ],
   "source": [
    "# création d'une série vide\n",
    "s=pd.Series()\n",
    "print ('Une série pandas vide :')\n",
    "print (s)\n",
    "\n",
    "import numpy as np\n",
    "# création d'une série par np.array\n",
    "data = np.array(['a','b','c','d'])\n",
    "s = pd.Series(data)\n",
    "print ('\\nUne série pandas par np.array sans index :')\n",
    "print (s)\n",
    "print ('\\nForme de la série :')\n",
    "print (s.shape)\n",
    "\n",
    "# création d'une série par np.array avec index\n",
    "data = np.array(['a','b','c','d'])\n",
    "s = pd.Series(data,index=[100,101,102,103])\n",
    "print ('\\nUne série pandas par np.array avec index :')\n",
    "print (s)\n",
    "\n",
    "\n",
    "# création d'une série par dictionnaire sans index\n",
    "data = {'a' : 5.1, 'b' : 2., 'c' : 6.3}\n",
    "s = pd.Series(data)\n",
    "print ('\\nUne série pandas par dictionnaire sans index :')\n",
    "print (s)\n",
    "\n",
    "# création d'une série par dictionnaire avec index\n",
    "data = {'a' : 5.1, 'b' : 2., 'c' : 6.3}\n",
    "s = pd.Series(data, index=['c','b','a'])\n",
    "print (\"\\nremarque : l'index change l'ordre par rapport au précédent\")\n",
    "print ('\\nUne série pandas par dictionnaire avec index :')\n",
    "print (s)\n",
    "\n",
    "\n",
    "# création d'une série par dictionnaire avec index\n",
    "data = {'a' : 5.1, 'b' : 2., 'c' : 6.3}\n",
    "s = pd.Series(data, index=['c','e','a','b'])\n",
    "print (\"\\nQuand l'index est plus grand, la valeur prend NaN (Not a Number)\")\n",
    "print ('\\nUne série pandas par dictionnaire avec index trop grand :')\n",
    "print (s)\n",
    "\n",
    "\n",
    "# création d'une série avec un scalaire et un index\n",
    "s = pd.Series(10, index=[100,200,300])\n",
    "print ('\\nUne série pandas par un scalaire avec index :')\n",
    "print (s)"
   ]
  },
  {
   "cell_type": "markdown",
   "metadata": {},
   "source": [
    "### Accès aux éléments d'une série"
   ]
  },
  {
   "cell_type": "markdown",
   "metadata": {},
   "source": [
    "Les éléments peuvent être accédés par leur position de la même manière qu'un ndarray (début position 0).  \n",
    "\n",
    "Retrouver un élément d'une liste"
   ]
  },
  {
   "cell_type": "code",
   "execution_count": 12,
   "metadata": {},
   "outputs": [],
   "source": [
    "s = pd.Series([1,2,3,4,5,6,7,8,9,10],\n",
    "              index = ['a','b','c','d','e','f','g','h','i','j'])"
   ]
  },
  {
   "cell_type": "code",
   "execution_count": 13,
   "metadata": {},
   "outputs": [
    {
     "name": "stdout",
     "output_type": "stream",
     "text": [
      "Le premier élément de la liste : \n",
      "1\n",
      "\n",
      " Le dernier élément de la liste : \n",
      "10\n"
     ]
    }
   ],
   "source": [
    "print ('Le premier élément de la liste : ')\n",
    "print (s[0])\n",
    "\n",
    "print ('\\n Le dernier élément de la liste : ')\n",
    "print (s[len(s)-1])"
   ]
  },
  {
   "cell_type": "markdown",
   "metadata": {},
   "source": [
    "Retrouver les quatre premiers éléments de la liste. Si la valeur est précédée par : alors toutes les valeurs le précédent seront renvoyées "
   ]
  },
  {
   "cell_type": "code",
   "execution_count": 14,
   "metadata": {},
   "outputs": [
    {
     "name": "stdout",
     "output_type": "stream",
     "text": [
      "Les quatre premiers éléments\n",
      "a    1\n",
      "b    2\n",
      "c    3\n",
      "d    4\n",
      "dtype: int64\n",
      "\n",
      " Les éléments entre 4 et 6\n",
      "d    4\n",
      "e    5\n",
      "f    6\n",
      "dtype: int64\n",
      "\n",
      "Les quatre derniers éléments\n",
      "g     7\n",
      "h     8\n",
      "i     9\n",
      "j    10\n",
      "dtype: int64\n"
     ]
    }
   ],
   "source": [
    "# Les quatre premiers éléments\n",
    "print ('Les quatre premiers éléments')\n",
    "print (s[:4])\n",
    "\n",
    "# Les éléments entre 3 et 6\n",
    "print ('\\n Les éléments entre 4 et 6')\n",
    "print (s[3:6])\n",
    "\n",
    "# Les quatre derniers éléments \n",
    "print ('\\nLes quatre derniers éléments')\n",
    "print (s[-4:])"
   ]
  },
  {
   "cell_type": "markdown",
   "metadata": {},
   "source": [
    "Utilisation du nom de l'index"
   ]
  },
  {
   "cell_type": "code",
   "execution_count": 15,
   "metadata": {},
   "outputs": [
    {
     "name": "stdout",
     "output_type": "stream",
     "text": [
      "Le premier élément de la liste : \n",
      "1\n",
      "Le dernier élément de la liste : \n",
      "10\n"
     ]
    }
   ],
   "source": [
    "# La première valeur de l'index\n",
    "print ('Le premier élément de la liste : ')\n",
    "print (s['a'])\n",
    "\n",
    "# La dernière valeur de l'index\n",
    "print ('Le dernier élément de la liste : ')\n",
    "print (s['j'])"
   ]
  },
  {
   "cell_type": "markdown",
   "metadata": {},
   "source": [
    "Il est possible d'indexer plusieurs valeurs"
   ]
  },
  {
   "cell_type": "code",
   "execution_count": 16,
   "metadata": {},
   "outputs": [
    {
     "name": "stdout",
     "output_type": "stream",
     "text": [
      "Les valeurs pour les index a, h, j : \n",
      "a     1\n",
      "h     8\n",
      "j    10\n",
      "dtype: int64\n"
     ]
    }
   ],
   "source": [
    "# indexation de plusieurs valeurs\n",
    "print (\"Les valeurs pour les index a, h, j : \")\n",
    "print (s[['a','h','j']])"
   ]
  },
  {
   "cell_type": "markdown",
   "metadata": {},
   "source": [
    "## Les dataframes "
   ]
  },
  {
   "cell_type": "markdown",
   "metadata": {},
   "source": [
    "Un dataframe pandas peut être créé à partir du constructeur :"
   ]
  },
  {
   "cell_type": "markdown",
   "metadata": {},
   "source": [
    "    pandas.DataFrame( data, index, columns, dtype, copy)  \n",
    "où  \n",
    "*data* peut être un ndarray, des séries, des map, des listes, des constantes ou un autre dataframe   \n",
    "*index* doit être unique est hachable.  Par défaut : np.arrange(n) s'il n'y a pas d'index passé    \n",
    "*columns* pour le nom des colonnes. Par défaut : np.arrange(n)  \n",
    "*dtype* le type de données de chaque colonne.    \n",
    "*copy* copie des données. Par défaut : false  \n",
    "\n",
    "Un dataframe peut être créé directement, importé d'un fichier CSV, importé d'une page HTML, de SQL, etc. Ici nous ne considérons que la création directe ou celle à partir d'un CSV. Pour de plus amples information ne pas hésiter à ce reporter à la page officielle de pandas (https://pandas.pydata.org).  \n",
    "\n",
    "Il est nécessaire d'importer la librairie :"
   ]
  },
  {
   "cell_type": "code",
   "execution_count": 17,
   "metadata": {},
   "outputs": [],
   "source": [
    "import pandas as pd"
   ]
  },
  {
   "cell_type": "markdown",
   "metadata": {},
   "source": [
    "### Exemple de création de dataframe "
   ]
  },
  {
   "cell_type": "code",
   "execution_count": 18,
   "metadata": {},
   "outputs": [
    {
     "name": "stdout",
     "output_type": "stream",
     "text": [
      "Un dataframe pandas vide :\n",
      "Empty DataFrame\n",
      "Columns: []\n",
      "Index: []\n",
      "\n",
      "Un dataframe pandas à partir d'une liste :\n",
      "   0\n",
      "0  a\n",
      "1  b\n",
      "2  c\n",
      "3  d\n"
     ]
    },
    {
     "data": {
      "text/html": [
       "<div>\n",
       "<style scoped>\n",
       "    .dataframe tbody tr th:only-of-type {\n",
       "        vertical-align: middle;\n",
       "    }\n",
       "\n",
       "    .dataframe tbody tr th {\n",
       "        vertical-align: top;\n",
       "    }\n",
       "\n",
       "    .dataframe thead th {\n",
       "        text-align: right;\n",
       "    }\n",
       "</style>\n",
       "<table border=\"1\" class=\"dataframe\">\n",
       "  <thead>\n",
       "    <tr style=\"text-align: right;\">\n",
       "      <th></th>\n",
       "      <th>0</th>\n",
       "    </tr>\n",
       "  </thead>\n",
       "  <tbody>\n",
       "    <tr>\n",
       "      <th>0</th>\n",
       "      <td>a</td>\n",
       "    </tr>\n",
       "    <tr>\n",
       "      <th>1</th>\n",
       "      <td>b</td>\n",
       "    </tr>\n",
       "    <tr>\n",
       "      <th>2</th>\n",
       "      <td>c</td>\n",
       "    </tr>\n",
       "    <tr>\n",
       "      <th>3</th>\n",
       "      <td>d</td>\n",
       "    </tr>\n",
       "  </tbody>\n",
       "</table>\n",
       "</div>"
      ],
      "text/plain": [
       "   0\n",
       "0  a\n",
       "1  b\n",
       "2  c\n",
       "3  d"
      ]
     },
     "metadata": {},
     "output_type": "display_data"
    },
    {
     "name": "stdout",
     "output_type": "stream",
     "text": [
      "\n",
      "Un dataframe pandas à partir d'une liste :\n",
      "           0       1\n",
      "0     France   Paris\n",
      "1  Allemagne  Berlin\n",
      "2     Italie    Rome\n",
      "\n",
      "Un dataframe pandas à partir d'une liste :\n",
      "           0       1\n",
      "0     France   Paris\n",
      "1  Allemagne  Berlin\n",
      "2     Italie    Rome\n",
      "\n",
      "Un dataframe pandas à partir d'une liste avec noms de colonnes :\n",
      "        Pays Capitale\n",
      "0     France    Paris\n",
      "1  Allemagne   Berlin\n",
      "2     Italie     Rome\n",
      "\n",
      "Un dataframe pandas à partir d'une liste avec noms de colonnes et typage :\n",
      "        Pays  Habitants\n",
      "0     France   67186640\n",
      "1  Allemagne   82695000\n",
      "2     Italie   59464644\n",
      "Les types des colonnes sont :\n",
      "<class 'pandas.core.frame.DataFrame'>\n",
      "RangeIndex: 3 entries, 0 to 2\n",
      "Data columns (total 2 columns):\n",
      "Pays         3 non-null object\n",
      "Habitants    3 non-null int64\n",
      "dtypes: int64(1), object(1)\n",
      "memory usage: 128.0+ bytes\n",
      "None\n",
      "\n",
      "Un dataframe pandas à partir d'un dictionnaire :\n",
      "      Nom  Age\n",
      "0  Pierre   25\n",
      "1    Paul   32\n",
      "2    Jean   43\n",
      "3  Michel   60\n",
      "\n",
      "Un dataframe pandas à partir d'un dictionnaire en renommant les index :\n",
      "       Nom  Age\n",
      "i1  Pierre   25\n",
      "i2    Paul   32\n",
      "i3    Jean   43\n",
      "i4  Michel   60\n",
      "\n",
      "Un dataframe pandas à partir d'une liste de dictionnaires :\n",
      "    a   b     c   d\n",
      "0  10  15  30.0  40\n",
      "1  25  32   NaN  60\n",
      "\n",
      "Noter le NaN (Not a Numeric number) quand il n'y a pas de valeur\n",
      "\n",
      "Un dataframe pandas à partir d'une liste de dictionnaires en renommant les index :\n",
      "          a   b     c   d\n",
      "premier  10  15  30.0  40\n",
      "second   25  32   NaN  60\n",
      "\n",
      "Noter le NaN (Not a Numeric number quand il n'y a pas de valeur\n",
      "\n",
      "Un dataframe pandas à partir d'une liste de dictionnaires en sélectionnant des colonnes :\n",
      "          a   d\n",
      "premier  10  40\n",
      "second   25  60\n"
     ]
    }
   ],
   "source": [
    "# création d'un dataframe vide\n",
    "df=pd.DataFrame()\n",
    "print ('Un dataframe pandas vide :')\n",
    "print (df)\n",
    "\n",
    "\n",
    "# création d'un dataframe à partir d'une liste\n",
    "data = ['a','b','c','d']\n",
    "df = pd.DataFrame(data)\n",
    "print (\"\\nUn dataframe pandas à partir d'une liste :\")\n",
    "print (df)\n",
    "# il est possible d'utiliser display (df)\n",
    "display(df)\n",
    "# création d'un dataframe à partir d'une liste\n",
    "data = [['France','Paris'],['Allemagne','Berlin'],\n",
    "        ['Italie','Rome']]\n",
    "df = pd.DataFrame(data)\n",
    "print (\"\\nUn dataframe pandas à partir d'une liste :\")\n",
    "print (df)\n",
    "\n",
    "\n",
    "# création d'un dataframe à partir d'une liste\n",
    "data = [['France','Paris'],['Allemagne','Berlin'],\n",
    "        ['Italie','Rome']]\n",
    "df = pd.DataFrame(data, )\n",
    "print (\"\\nUn dataframe pandas à partir d'une liste :\")\n",
    "print (df)\n",
    "\n",
    "# création d'un dataframe à partir d'une liste avec noms de colonnes\n",
    "data = [['France','Paris'],['Allemagne','Berlin'],['Italie','Rome']]\n",
    "df = pd.DataFrame(data, columns=['Pays','Capitale'])\n",
    "print (\"\\nUn dataframe pandas à partir d'une liste avec noms de colonnes :\")\n",
    "print (df)\n",
    "\n",
    "\n",
    "# création d'un dataframe à partir d'une liste avec noms de colonnes et typage\n",
    "data = [['France',67186640],['Allemagne',82695000],\n",
    "        ['Italie',59464644]]\n",
    "df = pd.DataFrame(data, \n",
    "                  columns=['Pays','Habitants'], \n",
    "                  dtype=int)\n",
    "print (\"\\nUn dataframe pandas à partir d'une liste avec noms de colonnes et typage :\")\n",
    "print (df)\n",
    "print (\"Les types des colonnes sont :\")\n",
    "print (df.info())\n",
    "\n",
    "# Création d'un dataframe à partir d'un dictionnaire\n",
    "df = pd.DataFrame(\n",
    "    {'Nom': ['Pierre', 'Paul', 'Jean','Michel'], \n",
    "     'Age': [25, 32, 43,60]})\n",
    "print (\"\\nUn dataframe pandas à partir d'un dictionnaire :\")\n",
    "print(df)\n",
    "\n",
    "# Création d'un dataframe à partir d'un dictionnaire en renommant les index\n",
    "df = pd.DataFrame(\n",
    "    {'Nom': ['Pierre', 'Paul', 'Jean','Michel'], \n",
    "     'Age': [25, 32, 43,60]},\n",
    "      index = ['i1', 'i2', 'i3','i4'])\n",
    "print (\"\\nUn dataframe pandas à partir d'un dictionnaire en renommant les index :\")\n",
    "print(df)\n",
    "\n",
    "# Création d'un dataframe à partir d'une liste de dictionnaires \n",
    "df = pd.DataFrame(\n",
    "    [{'a':10, 'b':15,'c':30,'d':40 }, \n",
    "     {'a':25, 'b':32, 'd':60}])\n",
    "print (\"\\nUn dataframe pandas à partir d'une liste de dictionnaires :\")\n",
    "print(df)\n",
    "\n",
    "# Création d'un dataframe à partir d'une liste de dictionnaires en renommant les index\n",
    "df = pd.DataFrame(\n",
    "    [{'a':10, 'b':15,'c':30,'d':40 }, \n",
    "     {'a':25, 'b':32, 'd':60}],\n",
    "    index=['premier', 'second'])\n",
    "print (\"\\nNoter le NaN (Not a Numeric number) quand il n'y a pas de valeur\")\n",
    "print (\"\\nUn dataframe pandas à partir d'une liste de dictionnaires en renommant les index :\")\n",
    "print(df)\n",
    "\n",
    "# Création d'un dataframe à partir d'une liste de dictionnaires et sélection des colonnes\n",
    "data=[{'a':10, 'b':15,'c':30,'d':40 }, \n",
    "     {'a':25, 'b':32, 'd':60}]\n",
    "df = pd.DataFrame(data,\n",
    "                  index=['premier', 'second'],\n",
    "                  columns=['a','d'])\n",
    "print (\"\\nNoter le NaN (Not a Numeric number quand il n'y a pas de valeur\")\n",
    "print (\"\\nUn dataframe pandas à partir d'une liste de dictionnaires en sélectionnant des colonnes :\")\n",
    "print(df)\n",
    "\n"
   ]
  },
  {
   "cell_type": "markdown",
   "metadata": {},
   "source": [
    "### Création de dataframe à partir d'un fichier CSV "
   ]
  },
  {
   "cell_type": "markdown",
   "metadata": {},
   "source": [
    "Il est possible de créer un data frame à partir d'un fichier csv :\n",
    "\n",
    "    df = pandas.read_csv('myFile.csv')  \n",
    "    \n",
    "Il existe de très nombreuses options (voir https://pandas.pydata.org/pandas-docs/stable/generated/pandas.read_csv.html).  \n",
    "\n",
    "Par défaut suppose qu'il y a un header (header = 0) et qu'il n'y a pas de noms de colonnes.  \n",
    "encoding='latin1' indique que le contenu doit être converti. Par défaut 'UTF-8'. \n",
    "sep = '\\t' indique que le séparateur est une tabulation plutôt qu'une virgule.  \n",
    "Pour donner un nom aux colonnes : names = ['col1','col2',...,'coln'].\n",
    "Pour préciser les types de certaines colonnes, dtype = {'col1': str, 'col2': int, ...'col4': float}.  \n",
    "Pour sauter des lignes au début du fichier : skiprows = nombre de lignes à sauter. Attention la première ligne sera considérée comme celle des attributs  \n",
    "Pour lire un nombre limité de lignes : nrows = nombre de lignes à lire  \n"
   ]
  },
  {
   "cell_type": "code",
   "execution_count": 19,
   "metadata": {},
   "outputs": [
    {
     "data": {
      "text/html": [
       "<div>\n",
       "<style scoped>\n",
       "    .dataframe tbody tr th:only-of-type {\n",
       "        vertical-align: middle;\n",
       "    }\n",
       "\n",
       "    .dataframe tbody tr th {\n",
       "        vertical-align: top;\n",
       "    }\n",
       "\n",
       "    .dataframe thead th {\n",
       "        text-align: right;\n",
       "    }\n",
       "</style>\n",
       "<table border=\"1\" class=\"dataframe\">\n",
       "  <thead>\n",
       "    <tr style=\"text-align: right;\">\n",
       "      <th></th>\n",
       "      <th>sepal-length</th>\n",
       "      <th>sepal-width</th>\n",
       "      <th>petal-length</th>\n",
       "      <th>petal-width</th>\n",
       "      <th>class</th>\n",
       "    </tr>\n",
       "  </thead>\n",
       "  <tbody>\n",
       "    <tr>\n",
       "      <th>0</th>\n",
       "      <td>5.1</td>\n",
       "      <td>3.5</td>\n",
       "      <td>1.4</td>\n",
       "      <td>0.2</td>\n",
       "      <td>Iris-setosa</td>\n",
       "    </tr>\n",
       "    <tr>\n",
       "      <th>1</th>\n",
       "      <td>4.9</td>\n",
       "      <td>3.0</td>\n",
       "      <td>1.4</td>\n",
       "      <td>0.2</td>\n",
       "      <td>Iris-setosa</td>\n",
       "    </tr>\n",
       "    <tr>\n",
       "      <th>2</th>\n",
       "      <td>4.7</td>\n",
       "      <td>3.2</td>\n",
       "      <td>1.3</td>\n",
       "      <td>0.2</td>\n",
       "      <td>Iris-setosa</td>\n",
       "    </tr>\n",
       "    <tr>\n",
       "      <th>3</th>\n",
       "      <td>4.6</td>\n",
       "      <td>3.1</td>\n",
       "      <td>1.5</td>\n",
       "      <td>0.2</td>\n",
       "      <td>Iris-setosa</td>\n",
       "    </tr>\n",
       "    <tr>\n",
       "      <th>4</th>\n",
       "      <td>5.0</td>\n",
       "      <td>3.6</td>\n",
       "      <td>1.4</td>\n",
       "      <td>0.2</td>\n",
       "      <td>Iris-setosa</td>\n",
       "    </tr>\n",
       "  </tbody>\n",
       "</table>\n",
       "</div>"
      ],
      "text/plain": [
       "   sepal-length  sepal-width  petal-length  petal-width        class\n",
       "0           5.1          3.5           1.4          0.2  Iris-setosa\n",
       "1           4.9          3.0           1.4          0.2  Iris-setosa\n",
       "2           4.7          3.2           1.3          0.2  Iris-setosa\n",
       "3           4.6          3.1           1.5          0.2  Iris-setosa\n",
       "4           5.0          3.6           1.4          0.2  Iris-setosa"
      ]
     },
     "execution_count": 19,
     "metadata": {},
     "output_type": "execute_result"
    }
   ],
   "source": [
    "# A partir d'un fichier csv\n",
    "#\"https://archive.ics.uci.edu/ml/machine-learning-databases/iris/iris.data\"\n",
    "url = \"https://archive.ics.uci.edu/ml/machine-learning-databases/iris/iris.data\"\n",
    "names = ['sepal-length', 'sepal-width', \n",
    "         'petal-length', 'petal-width', 'class']\n",
    "\n",
    "df = pd.read_csv(url, names=names)\n",
    "# 5 premières lignes du fichier\n",
    "df.head()\n"
   ]
  },
  {
   "cell_type": "markdown",
   "metadata": {},
   "source": [
    "Considérer le fichier exemple.csv suivant :  "
   ]
  },
  {
   "cell_type": "code",
   "execution_count": 20,
   "metadata": {},
   "outputs": [],
   "source": [
    "#Création d'un fichier exemple\n",
    "fichier = open(\"exemple.csv\", \"w\")\n",
    "fichier.write(\"A;B;C;D\\n\")\n",
    "fichier.write(\"Pierre;10;18.5;14.5\\n\")\n",
    "fichier.write(\"Paul;12;18.7;15.5\\n\")\n",
    "fichier.write(\"Jacques;11;15.3;15.5\\n\")\n",
    "fichier.close()"
   ]
  },
  {
   "cell_type": "code",
   "execution_count": 21,
   "metadata": {},
   "outputs": [
    {
     "name": "stdout",
     "output_type": "stream",
     "text": [
      "Lecture du fichier exemple.csv avec un séparateur ;\n",
      "\n",
      "         A   B     C     D\n",
      "0   Pierre  10  18.5  14.5\n",
      "1     Paul  12  18.7  15.5\n",
      "2  Jacques  11  15.3  15.5\n",
      "\n",
      "Lecture du fichier exemple.csv en sautant\n",
      "une ligne attention la première ligne devient la liste des attributs.\n",
      "\n",
      "    Pierre  10  18.5  14.5\n",
      "0     Paul  12  18.7  15.5\n",
      "1  Jacques  11  15.3  15.5\n",
      "\n",
      "Lecture du fichier exemple.csv en sautant\n",
      "une ligne et en mettant des noms aux attributs.\n",
      "La première ligne commence au bon index. \n",
      "\n",
      "       Nom  Age  Note1  Note2\n",
      "0   Pierre   10   18.5   14.5\n",
      "1     Paul   12   18.7   15.5\n",
      "2  Jacques   11   15.3   15.5\n"
     ]
    }
   ],
   "source": [
    "# lecture du fichier en changeant de séparateur\n",
    "df = pd.read_csv('exemple.csv',sep=';')\n",
    "print (\"Lecture du fichier exemple.csv avec un séparateur ;\\n\")\n",
    "print (df)\n",
    "\n",
    "# lecture du fichier sans lire la première ligne\n",
    "df = pd.read_csv('exemple.csv',sep=';', skiprows=1)\n",
    "print (\"\\nLecture du fichier exemple.csv en sautant\")\n",
    "print (\"une ligne attention la première ligne devient la liste des attributs.\\n\")\n",
    "print (df)\n",
    "\n",
    "\n",
    "# lecture du fichier en mettant des noms aux colonnes\n",
    "df = pd.read_csv('exemple.csv',sep=';',skiprows=1,\n",
    "                 names=['Nom','Age','Note1','Note2'])\n",
    "print (\"\\nLecture du fichier exemple.csv en sautant\")\n",
    "print (\"une ligne et en mettant des noms aux attributs.\")\n",
    "print (\"La première ligne commence au bon index. \\n\")\n",
    "print (df)\n"
   ]
  },
  {
   "cell_type": "markdown",
   "metadata": {},
   "source": [
    "### Accès aux éléments d'un dataframe "
   ]
  },
  {
   "cell_type": "markdown",
   "metadata": {},
   "source": [
    "Comme les séries les dataframes peuvent être accédés par leur position de la même manière qu'un ndarray (début position 0), par les index ou par le nom de la colonne. L'intérêt des dataframe est justement de pouvoir utiliser le nom des colonnes pour les accès."
   ]
  },
  {
   "cell_type": "code",
   "execution_count": 22,
   "metadata": {},
   "outputs": [
    {
     "name": "stdout",
     "output_type": "stream",
     "text": [
      "Le dataframe : \n",
      "\n",
      "        Nom  Age\n",
      "i1  Pierre   25\n",
      "i2    Paul   32\n",
      "i3    Jean   43\n",
      "i4  Michel   60\n",
      "\n",
      "La colonne correspondant au Nom dans le dataframe :  \n",
      "\n",
      " i1    Pierre\n",
      "i2      Paul\n",
      "i3      Jean\n",
      "i4    Michel\n",
      "Name: Nom, dtype: object\n"
     ]
    }
   ],
   "source": [
    "df = pd.DataFrame(\n",
    "    {'Nom': ['Pierre', 'Paul', 'Jean','Michel'], \n",
    "     'Age': [25, 32, 43,60]},\n",
    "      index = ['i1', 'i2', 'i3','i4'])\n",
    "\n",
    "print('Le dataframe : ')\n",
    "print (\"\\n\",df)\n",
    "\n",
    "print ('\\nLa colonne correspondant au Nom dans le dataframe :  ')\n",
    "print (\"\\n\",df['Nom'])\n"
   ]
  },
  {
   "cell_type": "markdown",
   "metadata": {},
   "source": [
    "**Accès aux lignes d'un dataframe**  \n",
    "Il est possible d'accéder aux lignes d'un dataframe par leur nom ou bien en précisant l'intervalle."
   ]
  },
  {
   "cell_type": "code",
   "execution_count": 23,
   "metadata": {},
   "outputs": [
    {
     "name": "stdout",
     "output_type": "stream",
     "text": [
      "La ligne corrspondant à l'index i3 avec loc :\n",
      "     Nom  Age\n",
      "i3  Jean   43\n",
      "\n",
      "Les trois premières lignes avec loc :\n",
      "       Nom  Age\n",
      "i1  Pierre   25\n",
      "i2    Paul   32\n",
      "i3    Jean   43\n",
      "\n",
      "La première ligne du dataframe en utilisant la position : \n",
      "       Nom  Age\n",
      "i1  Pierre   25\n",
      "\n",
      "La dernière ligne du dataframe en utilisant la position :  \n",
      "       Nom  Age\n",
      "i4  Michel   60\n",
      "\n",
      "Les lignes 2 et 3 du dataframe en utilisant la position :  \n",
      "     Nom  Age\n",
      "i2  Paul   32\n",
      "i3  Jean   43\n",
      "\n",
      "Les lignes 2 et 3 du dataframe avec iloc : \n",
      "     Nom  Age\n",
      "i2  Paul   32\n",
      "i3  Jean   43\n"
     ]
    }
   ],
   "source": [
    "print (\"La ligne corrspondant à l'index i3 avec loc :\")\n",
    "print (df.loc[['i3']])\n",
    "\n",
    "print (\"\\nLes trois premières lignes avec loc :\")\n",
    "# df.loc[inclusive:inclusive]\n",
    "print (df.loc['i1':'i3'])\n",
    "\n",
    "\n",
    "print ('\\nLa première ligne du dataframe en utilisant la position : ')\n",
    "print (df[:1])\n",
    "\n",
    "\n",
    "print ('\\nLa dernière ligne du dataframe en utilisant la position :  ')\n",
    "print (df[len(df)-1:])\n",
    "\n",
    "print ('\\nLes lignes 2 et 3 du dataframe en utilisant la position :  ')\n",
    "print (df[1:3])\n",
    "# df.iloc[inclusive:exclusive]\n",
    "# Note: .iloc est uniquement lié à \n",
    "#la position et non pas au nom de l'index\n",
    "print (\"\\nLes lignes 2 et 3 du dataframe avec iloc : \")\n",
    "print (df.iloc[1:3])"
   ]
  },
  {
   "cell_type": "markdown",
   "metadata": {},
   "source": [
    "Il est possible de spécifier les colonnes dans le résultat "
   ]
  },
  {
   "cell_type": "code",
   "execution_count": 24,
   "metadata": {},
   "outputs": [
    {
     "data": {
      "text/html": [
       "<div>\n",
       "<style scoped>\n",
       "    .dataframe tbody tr th:only-of-type {\n",
       "        vertical-align: middle;\n",
       "    }\n",
       "\n",
       "    .dataframe tbody tr th {\n",
       "        vertical-align: top;\n",
       "    }\n",
       "\n",
       "    .dataframe thead th {\n",
       "        text-align: right;\n",
       "    }\n",
       "</style>\n",
       "<table border=\"1\" class=\"dataframe\">\n",
       "  <thead>\n",
       "    <tr style=\"text-align: right;\">\n",
       "      <th></th>\n",
       "      <th>Age</th>\n",
       "    </tr>\n",
       "  </thead>\n",
       "  <tbody>\n",
       "    <tr>\n",
       "      <th>i3</th>\n",
       "      <td>43</td>\n",
       "    </tr>\n",
       "  </tbody>\n",
       "</table>\n",
       "</div>"
      ],
      "text/plain": [
       "    Age\n",
       "i3   43"
      ]
     },
     "execution_count": 24,
     "metadata": {},
     "output_type": "execute_result"
    }
   ],
   "source": [
    "df.loc[['i3'],['Age']]"
   ]
  },
  {
   "cell_type": "markdown",
   "metadata": {},
   "source": [
    "## Manipulation des dataframes"
   ]
  },
  {
   "cell_type": "markdown",
   "metadata": {},
   "source": [
    "### Information sur les dataframes"
   ]
  },
  {
   "cell_type": "markdown",
   "metadata": {},
   "source": [
    "pandas propose de nombreuses fonctions pour connaître les informations des dataframes."
   ]
  },
  {
   "cell_type": "markdown",
   "metadata": {},
   "source": [
    "   *df.info()* : donne des infos sur le dataframe  \n",
    "    *df.head()* : retourne les 5 premières lignes  \n",
    "    *df.tail()* : retourne les 5 dernières lignes  \n",
    "    *df.sample()* : retourne un ensemble aléatoire de données\n",
    "    *df.head(10)* (*df.tail(10)*) : retourne les 10 premières lignes (resp. les 10 dernières)\n",
    "    *df.shape* : renvoie la taille du dataframe avec nombre de lignes, nombre de colonnes \n",
    "    *df.ndim* : retourne le nombre de dimensions  \n",
    "    *df.columns* : retourne les noms des colonnes    \n",
    "    *df.columns.values* : le nom des colonnes sous forme d'array numpy    \n",
    "    *df.dtypes* : retourne les différents types du dataframe    \n",
    "    *df.index* : les noms des lignes (individus)    \n",
    "    *df.index.values* : le nom des lignes sous forme d'array numpy    \n",
    "    *df.values* : pour récupérer le dataframe sous forme d'array numpy 2d  \n",
    "    *df.describe()* : renvoie un dataframe donnant des statistiques, pour les colonnes numériques, sur les valeurs (nombres de valeurs, moyenne, écart-type, ...)"
   ]
  },
  {
   "cell_type": "code",
   "execution_count": 25,
   "metadata": {},
   "outputs": [
    {
     "name": "stdout",
     "output_type": "stream",
     "text": [
      "Info \n",
      "\n",
      "<class 'pandas.core.frame.DataFrame'>\n",
      "RangeIndex: 150 entries, 0 to 149\n",
      "Data columns (total 5 columns):\n",
      "SepalLengthCm    150 non-null float64\n",
      "SepalWidthCm     150 non-null float64\n",
      "PetalLengthCm    150 non-null float64\n",
      "PetalWidthCm     150 non-null float64\n",
      "Species          150 non-null object\n",
      "dtypes: float64(4), object(1)\n",
      "memory usage: 5.9+ KB\n",
      "None\n",
      "\n",
      "Les deux premières lignes\n",
      "\n",
      "   SepalLengthCm  SepalWidthCm  PetalLengthCm  PetalWidthCm      Species\n",
      "0            5.1           3.5            1.4           0.2  Iris-setosa\n",
      "1            4.9           3.0            1.4           0.2  Iris-setosa\n",
      "\n",
      "Les deux dernières lignes\n",
      "\n",
      "     SepalLengthCm  SepalWidthCm  PetalLengthCm  PetalWidthCm         Species\n",
      "148            6.2           3.4            5.4           2.3  Iris-virginica\n",
      "149            5.9           3.0            5.1           1.8  Iris-virginica\n",
      "\n",
      "Cinq lignes au hasard\n",
      "\n",
      "    SepalLengthCm  SepalWidthCm  PetalLengthCm  PetalWidthCm          Species\n",
      "41            4.5           2.3            1.3           0.3      Iris-setosa\n",
      "89            5.5           2.5            4.0           1.3  Iris-versicolor\n",
      "13            4.3           3.0            1.1           0.1      Iris-setosa\n",
      "77            6.7           3.0            5.0           1.7  Iris-versicolor\n",
      "37            4.9           3.1            1.5           0.1      Iris-setosa\n",
      "\n",
      "Dimension du dataframe\n",
      "\n",
      "(150, 5)\n",
      "\n",
      "\t Il y a : 150 lignes et 5 colonnes\n",
      "\n",
      "\n",
      "Le nombre de dimensions\n",
      "\n",
      "2\n",
      "\n",
      "Les différents type du dataframe\n",
      "\n",
      "SepalLengthCm    float64\n",
      "SepalWidthCm     float64\n",
      "PetalLengthCm    float64\n",
      "PetalWidthCm     float64\n",
      "Species           object\n",
      "dtype: object\n",
      "\n",
      "Noms des colonnes\n",
      "\n",
      "Index(['SepalLengthCm', 'SepalWidthCm', 'PetalLengthCm', 'PetalWidthCm',\n",
      "       'Species'],\n",
      "      dtype='object')\n",
      "\n",
      "Nom des index\n",
      "\n",
      "RangeIndex(start=0, stop=150, step=1)\n",
      "\n",
      "Statistiques élémentaires\n",
      "\n",
      "       SepalLengthCm  SepalWidthCm  PetalLengthCm  PetalWidthCm\n",
      "count     150.000000    150.000000     150.000000    150.000000\n",
      "mean        5.843333      3.054000       3.758667      1.198667\n",
      "std         0.828066      0.433594       1.764420      0.763161\n",
      "min         4.300000      2.000000       1.000000      0.100000\n",
      "25%         5.100000      2.800000       1.600000      0.300000\n",
      "50%         5.800000      3.000000       4.350000      1.300000\n",
      "75%         6.400000      3.300000       5.100000      1.800000\n",
      "max         7.900000      4.400000       6.900000      2.500000\n"
     ]
    }
   ],
   "source": [
    "url = \"https://archive.ics.uci.edu/ml/machine-learning-databases/iris/iris.data\"\n",
    "names = ['SepalLengthCm', 'SepalWidthCm', \n",
    "         'PetalLengthCm', 'PetalWidthCm', 'Species']\n",
    "\n",
    "df = pd.read_csv(url, names=names)\n",
    "\n",
    "print (\"Info \\n\")\n",
    "print (df.info())\n",
    "print (\"\\nLes deux premières lignes\\n\")\n",
    "print (df.head(2))\n",
    "print (\"\\nLes deux dernières lignes\\n\")\n",
    "print (df.tail(2))\n",
    "print (\"\\nCinq lignes au hasard\\n\")\n",
    "print (df.sample(5))\n",
    "print ('\\nDimension du dataframe\\n')\n",
    "print (df.shape)\n",
    "print ('\\n\\t Il y a :',df.shape[0],'lignes et',\n",
    "       df.shape[1], 'colonnes\\n')\n",
    "print ('\\nLe nombre de dimensions\\n')\n",
    "print (df.ndim)\n",
    "print ('\\nLes différents type du dataframe\\n')\n",
    "print (df.dtypes)\n",
    "\n",
    "print (\"\\nNoms des colonnes\\n\")\n",
    "print (df.columns)\n",
    "print ('\\nNom des index\\n')\n",
    "print (df.index)\n",
    "print ('\\nStatistiques élémentaires\\n')\n",
    "print (df.describe())"
   ]
  },
  {
   "cell_type": "markdown",
   "metadata": {},
   "source": [
    "<H2> Faire une copie d'un dataframe </H2>\n",
    "\n",
    "Il est parfois utile de faire une copie d'un dataframe. Il existe deux manières différentes.  \n",
    "\n",
    "df2=df  \n",
    "\n",
    "**Attention** toute modification faite sur df2 sera aussi reportée sur df  \n",
    "\n",
    "df2=df.copy()  \n",
    "\n",
    "Deux versions indépendantes sont créées."
   ]
  },
  {
   "cell_type": "markdown",
   "metadata": {},
   "source": [
    "### Manipulation des colonnes et des lignes "
   ]
  },
  {
   "cell_type": "code",
   "execution_count": 26,
   "metadata": {},
   "outputs": [
    {
     "name": "stdout",
     "output_type": "stream",
     "text": [
      "   0\n",
      "0  1\n",
      "1  2\n",
      "2  3\n",
      "3  4\n",
      "4  5\n"
     ]
    }
   ],
   "source": [
    "#Dataframe  \n",
    "d = [1,2,3,4,5]\n",
    "\n",
    "df = pd.DataFrame(d)\n",
    "print (df)"
   ]
  },
  {
   "cell_type": "markdown",
   "metadata": {},
   "source": [
    "**Changement du nom de colonne**"
   ]
  },
  {
   "cell_type": "code",
   "execution_count": 27,
   "metadata": {},
   "outputs": [
    {
     "name": "stdout",
     "output_type": "stream",
     "text": [
      "   Colonne\n",
      "0        1\n",
      "1        2\n",
      "2        3\n",
      "3        4\n",
      "4        5\n"
     ]
    }
   ],
   "source": [
    "# Changement du nom de colonne\n",
    "df.columns = ['Colonne']\n",
    "print (df)"
   ]
  },
  {
   "cell_type": "markdown",
   "metadata": {},
   "source": [
    "**Selection par valeur**"
   ]
  },
  {
   "cell_type": "code",
   "execution_count": 28,
   "metadata": {},
   "outputs": [
    {
     "name": "stdout",
     "output_type": "stream",
     "text": [
      "Pour une valeur :\n",
      "   Colonne\n",
      "0        1\n",
      "\n",
      "En prenant plusieurs valeurs avec isin :\n",
      "   Colonne\n",
      "0        1\n",
      "1        2\n"
     ]
    }
   ],
   "source": [
    "print (\"Pour une valeur :\")\n",
    "print (df.loc[df['Colonne']==1])\n",
    "\n",
    "print (\"\\nEn prenant plusieurs valeurs avec isin :\")\n",
    "print(df.loc[df['Colonne'].isin([1,2])])"
   ]
  },
  {
   "cell_type": "markdown",
   "metadata": {},
   "source": [
    "**Trier les valeurs d'une colonne**"
   ]
  },
  {
   "cell_type": "code",
   "execution_count": 29,
   "metadata": {},
   "outputs": [
    {
     "name": "stdout",
     "output_type": "stream",
     "text": [
      "Tri par ordre décroissant :\n",
      "   Colonne\n",
      "4        5\n",
      "3        4\n",
      "2        3\n",
      "1        2\n",
      "0        1\n",
      "\n",
      "Tri par ordre croissant (par défaut) : \n",
      "   Colonne\n",
      "0        1\n",
      "1        2\n",
      "2        3\n",
      "3        4\n",
      "4        5\n"
     ]
    }
   ],
   "source": [
    "print ('Tri par ordre décroissant :')\n",
    "print(df.sort_values(by='Colonne',ascending=False))\n",
    "\n",
    "print ('\\nTri par ordre croissant (par défaut) : ')\n",
    "print(df.sort_values(by='Colonne'))"
   ]
  },
  {
   "cell_type": "markdown",
   "metadata": {},
   "source": [
    "**Statistiques sur une colonne **"
   ]
  },
  {
   "cell_type": "code",
   "execution_count": 30,
   "metadata": {},
   "outputs": [
    {
     "name": "stdout",
     "output_type": "stream",
     "text": [
      "Moyenne de la colonne : \n",
      "3.0\n",
      "\n",
      "Maximum de la colonne :\n",
      "5\n",
      "\n",
      "Minimul de la colonne :\n",
      "1\n",
      "\n",
      "Comptage des différentes valeurs de la colonne :\n",
      "5    1\n",
      "4    1\n",
      "3    1\n",
      "2    1\n",
      "1    1\n",
      "Name: Colonne, dtype: int64\n",
      "\n",
      "Ajout d'une nouvelle ligne avec 5 pour vérifier : \n",
      "   Colonne\n",
      "0        1\n",
      "1        2\n",
      "2        3\n",
      "3        4\n",
      "4        5\n",
      "5        5\n",
      "5    2\n",
      "4    1\n",
      "3    1\n",
      "2    1\n",
      "1    1\n",
      "Name: Colonne, dtype: int64\n"
     ]
    }
   ],
   "source": [
    "print (\"Moyenne de la colonne : \")\n",
    "print(df['Colonne'].mean())\n",
    "\n",
    "print ('\\nMaximum de la colonne :')\n",
    "print(df['Colonne'].max())\n",
    "\n",
    "print ('\\nMinimul de la colonne :')\n",
    "print(df['Colonne'].min())\n",
    "\n",
    "print (\"\\nComptage des différentes valeurs de la colonne :\")\n",
    "print(df['Colonne'].value_counts())\n",
    "print (\"\\nAjout d'une nouvelle ligne avec 5 pour vérifier : \")\n",
    "df.loc[len(df)] = [5]\n",
    "print (df)\n",
    "print(df['Colonne'].value_counts())\n",
    "df=df.drop(df.index[-1])\n"
   ]
  },
  {
   "cell_type": "markdown",
   "metadata": {},
   "source": [
    "**Ajout d'une colonne**"
   ]
  },
  {
   "cell_type": "code",
   "execution_count": 31,
   "metadata": {},
   "outputs": [
    {
     "name": "stdout",
     "output_type": "stream",
     "text": [
      "   Colonne  Nouvelle Colonne\n",
      "0        1                 1\n",
      "1        2                 1\n",
      "2        3                 1\n",
      "3        4                 1\n",
      "4        5                 1\n",
      "\n",
      "Sélection par valeur sur plusieurs colonnes avec un ET : \n",
      "   Colonne  Nouvelle Colonne\n",
      "2        3                 1\n",
      "\n",
      "Sélection par valeur sur plusieurs colonnes avec un OU : \n",
      "   Colonne  Nouvelle Colonne\n",
      "0        1                 1\n",
      "1        2                 1\n",
      "2        3                 1\n",
      "3        4                 1\n",
      "4        5                 1\n"
     ]
    }
   ],
   "source": [
    "# Ajout d'une colonne avec 1 comme valeur\n",
    "df['Nouvelle Colonne'] = 1\n",
    "print (df)\n",
    "\n",
    "print (\"\\nSélection par valeur sur plusieurs colonnes avec un ET : \")\n",
    "print (df.loc[(df['Colonne']==3) & (df['Nouvelle Colonne']==1)])\n",
    "\n",
    "print (\"\\nSélection par valeur sur plusieurs colonnes avec un OU : \")\n",
    "print (df.loc[(df['Colonne']==3) | (df['Nouvelle Colonne']==1)])"
   ]
  },
  {
   "cell_type": "markdown",
   "metadata": {},
   "source": [
    "**Modification d'une colonne**"
   ]
  },
  {
   "cell_type": "code",
   "execution_count": 32,
   "metadata": {},
   "outputs": [
    {
     "data": {
      "text/html": [
       "<div>\n",
       "<style scoped>\n",
       "    .dataframe tbody tr th:only-of-type {\n",
       "        vertical-align: middle;\n",
       "    }\n",
       "\n",
       "    .dataframe tbody tr th {\n",
       "        vertical-align: top;\n",
       "    }\n",
       "\n",
       "    .dataframe thead th {\n",
       "        text-align: right;\n",
       "    }\n",
       "</style>\n",
       "<table border=\"1\" class=\"dataframe\">\n",
       "  <thead>\n",
       "    <tr style=\"text-align: right;\">\n",
       "      <th></th>\n",
       "      <th>Colonne</th>\n",
       "      <th>Nouvelle Colonne</th>\n",
       "    </tr>\n",
       "  </thead>\n",
       "  <tbody>\n",
       "    <tr>\n",
       "      <th>0</th>\n",
       "      <td>1</td>\n",
       "      <td>5</td>\n",
       "    </tr>\n",
       "    <tr>\n",
       "      <th>1</th>\n",
       "      <td>2</td>\n",
       "      <td>5</td>\n",
       "    </tr>\n",
       "    <tr>\n",
       "      <th>2</th>\n",
       "      <td>3</td>\n",
       "      <td>5</td>\n",
       "    </tr>\n",
       "    <tr>\n",
       "      <th>3</th>\n",
       "      <td>4</td>\n",
       "      <td>5</td>\n",
       "    </tr>\n",
       "    <tr>\n",
       "      <th>4</th>\n",
       "      <td>5</td>\n",
       "      <td>5</td>\n",
       "    </tr>\n",
       "  </tbody>\n",
       "</table>\n",
       "</div>"
      ],
      "text/plain": [
       "   Colonne  Nouvelle Colonne\n",
       "0        1                 5\n",
       "1        2                 5\n",
       "2        3                 5\n",
       "3        4                 5\n",
       "4        5                 5"
      ]
     },
     "execution_count": 32,
     "metadata": {},
     "output_type": "execute_result"
    }
   ],
   "source": [
    "# Modification de la colonne en ajoutant un nombre aléaloire\n",
    "import random\n",
    "nb=random.randint(1, 6)\n",
    "df['Nouvelle Colonne'] = df['Nouvelle Colonne'] + nb\n",
    "df"
   ]
  },
  {
   "cell_type": "markdown",
   "metadata": {},
   "source": [
    "**Supression d'une colonne**"
   ]
  },
  {
   "cell_type": "code",
   "execution_count": 33,
   "metadata": {},
   "outputs": [
    {
     "data": {
      "text/html": [
       "<div>\n",
       "<style scoped>\n",
       "    .dataframe tbody tr th:only-of-type {\n",
       "        vertical-align: middle;\n",
       "    }\n",
       "\n",
       "    .dataframe tbody tr th {\n",
       "        vertical-align: top;\n",
       "    }\n",
       "\n",
       "    .dataframe thead th {\n",
       "        text-align: right;\n",
       "    }\n",
       "</style>\n",
       "<table border=\"1\" class=\"dataframe\">\n",
       "  <thead>\n",
       "    <tr style=\"text-align: right;\">\n",
       "      <th></th>\n",
       "      <th>Colonne</th>\n",
       "    </tr>\n",
       "  </thead>\n",
       "  <tbody>\n",
       "    <tr>\n",
       "      <th>0</th>\n",
       "      <td>1</td>\n",
       "    </tr>\n",
       "    <tr>\n",
       "      <th>1</th>\n",
       "      <td>2</td>\n",
       "    </tr>\n",
       "    <tr>\n",
       "      <th>2</th>\n",
       "      <td>3</td>\n",
       "    </tr>\n",
       "    <tr>\n",
       "      <th>3</th>\n",
       "      <td>4</td>\n",
       "    </tr>\n",
       "    <tr>\n",
       "      <th>4</th>\n",
       "      <td>5</td>\n",
       "    </tr>\n",
       "  </tbody>\n",
       "</table>\n",
       "</div>"
      ],
      "text/plain": [
       "   Colonne\n",
       "0        1\n",
       "1        2\n",
       "2        3\n",
       "3        4\n",
       "4        5"
      ]
     },
     "execution_count": 33,
     "metadata": {},
     "output_type": "execute_result"
    }
   ],
   "source": [
    "# Supression d'une colonne\n",
    "del df['Nouvelle Colonne']\n",
    "df"
   ]
  },
  {
   "cell_type": "markdown",
   "metadata": {},
   "source": [
    "**Ajout d'une ligne**"
   ]
  },
  {
   "cell_type": "code",
   "execution_count": 34,
   "metadata": {},
   "outputs": [
    {
     "name": "stdout",
     "output_type": "stream",
     "text": [
      "Ajout d'une ligne à la fin : \n",
      "   Colonne\n",
      "0        1\n",
      "1        2\n",
      "2        3\n",
      "3        4\n",
      "4        5\n",
      "5        6\n",
      "\n",
      "Ajout d'une ligne au début attention il faut reorganiser les index : \n",
      "   Colonne\n",
      "0        7\n",
      "1        1\n",
      "2        2\n",
      "3        3\n",
      "4        4\n",
      "5        5\n",
      "6        6\n"
     ]
    }
   ],
   "source": [
    "print (\"Ajout d'une ligne à la fin : \")\n",
    "df.loc[len(df)] = [6]\n",
    "print (df)\n",
    "\n",
    "print (\"\\nAjout d'une ligne au début attention il faut reorganiser les index : \")\n",
    "df.loc[-1]=[7]\n",
    "df.index = df.index + 1  # reorganiser les index\n",
    "df = df.sort_index()  # trier les index\n",
    "print (df)"
   ]
  },
  {
   "cell_type": "markdown",
   "metadata": {},
   "source": [
    "**Modification d'une ligne**"
   ]
  },
  {
   "cell_type": "code",
   "execution_count": 35,
   "metadata": {},
   "outputs": [
    {
     "name": "stdout",
     "output_type": "stream",
     "text": [
      "   Colonne\n",
      "0        7\n",
      "1        1\n",
      "2        2\n",
      "3        3\n",
      "4        4\n",
      "5        5\n",
      "6        6\n",
      "Modification de la valeur de la troisième ligne\n",
      "   Colonne\n",
      "0        7\n",
      "1        1\n",
      "2        2\n",
      "3       10\n",
      "4        4\n",
      "5        5\n",
      "6        6\n"
     ]
    }
   ],
   "source": [
    "print (df)\n",
    "print (\"Modification de la valeur de la troisième ligne\")\n",
    "df.loc[3] = [10]\n",
    "print (df)"
   ]
  },
  {
   "cell_type": "markdown",
   "metadata": {},
   "source": [
    "**Suppression d'une ligne**"
   ]
  },
  {
   "cell_type": "code",
   "execution_count": 36,
   "metadata": {},
   "outputs": [
    {
     "name": "stdout",
     "output_type": "stream",
     "text": [
      "En utilisant une condition sur la colone : \n",
      "\n",
      "Avant     Colonne\n",
      "0        7\n",
      "1        1\n",
      "2        2\n",
      "3       10\n",
      "4        4\n",
      "5        5\n",
      "6        6\n",
      "\n",
      "Après     Colonne\n",
      "0        7\n",
      "1        1\n",
      "2        2\n",
      "3       10\n",
      "4        4\n",
      "5        5\n",
      "6        6\n",
      "\n",
      "En utilisant les index (suppression de la dernière ligne) : \n",
      "   Colonne\n",
      "0        7\n",
      "1        1\n",
      "2        2\n",
      "3       10\n",
      "4        4\n",
      "5        5\n"
     ]
    }
   ],
   "source": [
    "print (\"En utilisant une condition sur la colone : \\n\")\n",
    "print (\"Avant \",df)\n",
    "df=df[df['Colonne']!=3]\n",
    "print (\"\\nAprès \",df)\n",
    "\n",
    "print (\"\\nEn utilisant les index (suppression de la dernière ligne) : \")\n",
    "df=df.drop(df.index[-1])\n",
    "print (df)"
   ]
  },
  {
   "cell_type": "markdown",
   "metadata": {},
   "source": [
    "**Suppression d'une ligne dont la valeur est NaN**"
   ]
  },
  {
   "cell_type": "code",
   "execution_count": 37,
   "metadata": {},
   "outputs": [
    {
     "name": "stdout",
     "output_type": "stream",
     "text": [
      "Ajout d'une ligne à la fin ne contenant rien (utilisant de numpy nan) : \n",
      "   Colonne\n",
      "0      7.0\n",
      "1      1.0\n",
      "2      2.0\n",
      "3     10.0\n",
      "4      4.0\n",
      "5      5.0\n",
      "6      NaN\n",
      "\n",
      "Suppression des lignes n'ayant pas de valeur : \n",
      "   Colonne\n",
      "0      7.0\n",
      "1      1.0\n",
      "2      2.0\n",
      "3     10.0\n",
      "4      4.0\n",
      "5      5.0\n"
     ]
    }
   ],
   "source": [
    "import numpy as np\n",
    "print (\"Ajout d'une ligne à la fin ne contenant rien (utilisant de numpy nan) : \")\n",
    "df.loc[len(df)] = [np.nan]\n",
    "print (df)\n",
    "\n",
    "print (\"\\nSuppression des lignes n'ayant pas de valeur : \")\n",
    "df=df.dropna()\n",
    "print (df)"
   ]
  },
  {
   "cell_type": "markdown",
   "metadata": {},
   "source": [
    "**re-indexer un index**"
   ]
  },
  {
   "cell_type": "code",
   "execution_count": 38,
   "metadata": {},
   "outputs": [
    {
     "data": {
      "text/html": [
       "<div>\n",
       "<style scoped>\n",
       "    .dataframe tbody tr th:only-of-type {\n",
       "        vertical-align: middle;\n",
       "    }\n",
       "\n",
       "    .dataframe tbody tr th {\n",
       "        vertical-align: top;\n",
       "    }\n",
       "\n",
       "    .dataframe thead th {\n",
       "        text-align: right;\n",
       "    }\n",
       "</style>\n",
       "<table border=\"1\" class=\"dataframe\">\n",
       "  <thead>\n",
       "    <tr style=\"text-align: right;\">\n",
       "      <th></th>\n",
       "      <th>Colonne</th>\n",
       "    </tr>\n",
       "  </thead>\n",
       "  <tbody>\n",
       "    <tr>\n",
       "      <th>0</th>\n",
       "      <td>7.0</td>\n",
       "    </tr>\n",
       "    <tr>\n",
       "      <th>1</th>\n",
       "      <td>1.0</td>\n",
       "    </tr>\n",
       "    <tr>\n",
       "      <th>2</th>\n",
       "      <td>2.0</td>\n",
       "    </tr>\n",
       "    <tr>\n",
       "      <th>3</th>\n",
       "      <td>10.0</td>\n",
       "    </tr>\n",
       "    <tr>\n",
       "      <th>4</th>\n",
       "      <td>4.0</td>\n",
       "    </tr>\n",
       "    <tr>\n",
       "      <th>5</th>\n",
       "      <td>5.0</td>\n",
       "    </tr>\n",
       "  </tbody>\n",
       "</table>\n",
       "</div>"
      ],
      "text/plain": [
       "   Colonne\n",
       "0      7.0\n",
       "1      1.0\n",
       "2      2.0\n",
       "3     10.0\n",
       "4      4.0\n",
       "5      5.0"
      ]
     },
     "execution_count": 38,
     "metadata": {},
     "output_type": "execute_result"
    }
   ],
   "source": [
    "df = df.reset_index(drop=True)\n",
    "df"
   ]
  },
  {
   "cell_type": "markdown",
   "metadata": {},
   "source": [
    "** Changement du nom des index**"
   ]
  },
  {
   "cell_type": "code",
   "execution_count": 39,
   "metadata": {},
   "outputs": [
    {
     "name": "stdout",
     "output_type": "stream",
     "text": [
      "Dataframe initial :\n",
      "     Colonne\n",
      "0        1\n",
      "1        2\n",
      "2        3\n",
      "3        4\n",
      "4        5\n",
      "\n",
      "Dataframe en changeant de valeur d'index : \n",
      "      Colonne\n",
      "100        1\n",
      "200        2\n",
      "300        3\n",
      "400        4\n",
      "500        5\n",
      "\n",
      "Dataframe en changeant de valeur d'index avec des lettres : \n",
      "    Colonne\n",
      "a        1\n",
      "b        2\n",
      "c        3\n",
      "d        4\n",
      "e        5\n"
     ]
    }
   ],
   "source": [
    "#il est possible de changer les noms ou valeurs des index\n",
    "d = [1,2,3,4,5]\n",
    "\n",
    "df = pd.DataFrame(d,columns = ['Colonne'])\n",
    "print (\"Dataframe initial :\\n \",df)\n",
    "i = [100,200,300,400,500]\n",
    "df.index = i\n",
    "print (\"\\nDataframe en changeant de valeur d'index : \\n\",df)\n",
    "\n",
    "i = ['a','b','c','d','e']\n",
    "df.index = i\n",
    "print (\"\\nDataframe en changeant de valeur d'index avec des lettres : \\n\",df)"
   ]
  },
  {
   "cell_type": "markdown",
   "metadata": {},
   "source": [
    "**Application d'une fonction à un dataframe**"
   ]
  },
  {
   "cell_type": "code",
   "execution_count": 40,
   "metadata": {},
   "outputs": [
    {
     "name": "stdout",
     "output_type": "stream",
     "text": [
      "a    100\n",
      "b    200\n",
      "c    300\n",
      "d    400\n",
      "e    500\n",
      "Name: Colonne, dtype: int64\n"
     ]
    }
   ],
   "source": [
    "def multiplication (x):\n",
    "    return 100*x\n",
    "\n",
    "print (df['Colonne'].apply(multiplication))"
   ]
  },
  {
   "cell_type": "markdown",
   "metadata": {},
   "source": [
    "**Boucler sur les colonnes**"
   ]
  },
  {
   "cell_type": "code",
   "execution_count": 41,
   "metadata": {},
   "outputs": [],
   "source": [
    "df = pd.DataFrame(\n",
    "    {'Nom': ['Pierre', 'Paul', 'Jean','Michel'], \n",
    "     'Age': [23, 22, 23,20],\n",
    "     'Note' : [15, 13, 14, 16]},\n",
    "      index = ['i1', 'i2', 'i3','i4'])\n",
    "\n"
   ]
  },
  {
   "cell_type": "code",
   "execution_count": 42,
   "metadata": {},
   "outputs": [
    {
     "name": "stdout",
     "output_type": "stream",
     "text": [
      "object\n",
      "int64\n",
      "int64\n"
     ]
    }
   ],
   "source": [
    "# il est possible de boucler sur les colonnes\n",
    "for col in df.columns:\n",
    "              print(df[col].dtype)"
   ]
  },
  {
   "cell_type": "markdown",
   "metadata": {},
   "source": [
    "**Trier les colonnes**"
   ]
  },
  {
   "cell_type": "markdown",
   "metadata": {},
   "source": [
    "Il est possible de trier l'ensemble du dataframe par en fonction de valeur de colonnes à l'aide de la fonction sort_values."
   ]
  },
  {
   "cell_type": "code",
   "execution_count": 43,
   "metadata": {},
   "outputs": [
    {
     "name": "stdout",
     "output_type": "stream",
     "text": [
      "Dataframe initial : \n",
      "\n",
      "       Nom  Age  Note\n",
      "i1  Pierre   23    15\n",
      "i2    Paul   22    13\n",
      "i3    Jean   23    14\n",
      "i4  Michel   20    16\n",
      "\n",
      "Dataframe trié par Age : \n",
      "\n",
      "       Nom  Age  Note\n",
      "i4  Michel   20    16\n",
      "i2    Paul   22    13\n",
      "i1  Pierre   23    15\n",
      "i3    Jean   23    14\n",
      "\n",
      "Dataframe trié par Age et Note : \n",
      "\n",
      "       Nom  Age  Note\n",
      "i4  Michel   20    16\n",
      "i2    Paul   22    13\n",
      "i3    Jean   23    14\n",
      "i1  Pierre   23    15\n"
     ]
    }
   ],
   "source": [
    "print (\"Dataframe initial : \\n\")\n",
    "print (df)\n",
    "\n",
    "print (\"\\nDataframe trié par Age : \\n\")\n",
    "print (df.sort_values(by=['Age'], ascending=True))\n",
    "\n",
    "print (\"\\nDataframe trié par Age et Note : \\n\")\n",
    "print (df.sort_values(by=['Age','Note'], \n",
    "                      ascending=True))"
   ]
  },
  {
   "cell_type": "markdown",
   "metadata": {},
   "source": [
    "**Groupby**"
   ]
  },
  {
   "cell_type": "markdown",
   "metadata": {},
   "source": [
    "Il est possible de faire des group by comme en SQL : "
   ]
  },
  {
   "cell_type": "code",
   "execution_count": 44,
   "metadata": {},
   "outputs": [
    {
     "name": "stdout",
     "output_type": "stream",
     "text": [
      "13\n",
      "     Nom  Age  Note\n",
      "i2  Paul   22    13\n",
      "\n",
      "\n",
      "14\n",
      "     Nom  Age  Note\n",
      "i3  Jean   23    14\n",
      "\n",
      "\n",
      "15\n",
      "       Nom  Age  Note\n",
      "i1  Pierre   23    15\n",
      "\n",
      "\n",
      "16\n",
      "       Nom  Age  Note\n",
      "i4  Michel   20    16\n",
      "\n",
      "\n"
     ]
    }
   ],
   "source": [
    "# Definition du groupby sur la colonne note\n",
    "g = df.groupby('Note')\n",
    "\n",
    "# Il est possible de faire une boucle sur toutes les partitions\n",
    "for groupe in g:\n",
    "    #groupe est un tuple\n",
    "    print(groupe[0]) # valeur du partitionnement\n",
    "    # Affichage des valeurs \n",
    "    print(groupe[1])\n",
    "    print (\"\\n\")\n",
    "    "
   ]
  },
  {
   "cell_type": "markdown",
   "metadata": {},
   "source": [
    "### Travailler avec plusieurs dataframes"
   ]
  },
  {
   "cell_type": "markdown",
   "metadata": {},
   "source": [
    "**Concaténation**  \n",
    "Il est possible de concaténer des dataframes à l'aide de la fonction *concat*"
   ]
  },
  {
   "cell_type": "code",
   "execution_count": 45,
   "metadata": {},
   "outputs": [
    {
     "name": "stdout",
     "output_type": "stream",
     "text": [
      "Dataframe 1 : \n",
      "        Nom  Age  Note  Sujet_id\n",
      "i1  Pierre   25    14         5\n",
      "i2    Paul   32    13         3\n",
      "i3    Jean   43    14         1\n",
      "i4  Michel   60    16         4\n",
      "\n",
      "Dataframe 1 : \n",
      "    Sujet_id       Libelle\n",
      "0         1          Math\n",
      "1         2  Informatique\n",
      "2         3      Physique\n",
      "3         4        Chimie\n",
      "\n",
      "Concaténation de deux dataframes en ligne : \n",
      "     Age       Libelle     Nom  Note  Sujet_id\n",
      "i1  25.0           NaN  Pierre  14.0         5\n",
      "i2  32.0           NaN    Paul  13.0         3\n",
      "i3  43.0           NaN    Jean  14.0         1\n",
      "i4  60.0           NaN  Michel  16.0         4\n",
      "0    NaN          Math     NaN   NaN         1\n",
      "1    NaN  Informatique     NaN   NaN         2\n",
      "2    NaN      Physique     NaN   NaN         3\n",
      "3    NaN        Chimie     NaN   NaN         4\n",
      "\n",
      "Concaténation de deux dataframes en colonne : \n",
      "       Nom   Age  Note  Sujet_id  Sujet_id       Libelle\n",
      "i1  Pierre  25.0  14.0       5.0       NaN           NaN\n",
      "i2    Paul  32.0  13.0       3.0       NaN           NaN\n",
      "i3    Jean  43.0  14.0       1.0       NaN           NaN\n",
      "i4  Michel  60.0  16.0       4.0       NaN           NaN\n",
      "0      NaN   NaN   NaN       NaN       1.0          Math\n",
      "1      NaN   NaN   NaN       NaN       2.0  Informatique\n",
      "2      NaN   NaN   NaN       NaN       3.0      Physique\n",
      "3      NaN   NaN   NaN       NaN       4.0        Chimie\n"
     ]
    },
    {
     "name": "stderr",
     "output_type": "stream",
     "text": [
      "/Users/pascalponcelet/Desktop/Sicki-learn/Tools/tools/lib/python3.6/site-packages/ipykernel_launcher.py:16: FutureWarning: Sorting because non-concatenation axis is not aligned. A future version\n",
      "of pandas will change to not sort by default.\n",
      "\n",
      "To accept the future behavior, pass 'sort=False'.\n",
      "\n",
      "To retain the current behavior and silence the warning, pass 'sort=True'.\n",
      "\n",
      "  app.launch_new_instance()\n"
     ]
    }
   ],
   "source": [
    "df = pd.DataFrame(\n",
    "    {'Nom': ['Pierre', 'Paul', 'Jean','Michel'], \n",
    "     'Age': [25, 32, 43,60],\n",
    "     'Note' : [14, 13, 14, 16],\n",
    "     'Sujet_id' : [5,3,1,4]},\n",
    "      index = ['i1', 'i2', 'i3','i4'])\n",
    "\n",
    "df2 = pd.DataFrame(\n",
    "    { 'Sujet_id' : [1, 2, 3, 4],\n",
    "      'Libelle' : ['Math','Informatique','Physique','Chimie']})\n",
    "    \n",
    "print ('Dataframe 1 : \\n',df)\n",
    "print ('\\nDataframe 1 : \\n',df2)\n",
    "\n",
    "print ('\\nConcaténation de deux dataframes en ligne : ')\n",
    "print (pd.concat([df, df2]))\n",
    "\n",
    "print ('\\nConcaténation de deux dataframes en colonne : ')\n",
    "print (pd.concat([df, df2], axis=1))\n"
   ]
  },
  {
   "cell_type": "markdown",
   "metadata": {},
   "source": [
    "**Jointure**  \n",
    "Il est possible d'exprimer différentes jointures (inner, outer, left, right) à l'aide de *merge*  "
   ]
  },
  {
   "cell_type": "code",
   "execution_count": 46,
   "metadata": {},
   "outputs": [
    {
     "name": "stdout",
     "output_type": "stream",
     "text": [
      "\n",
      "Jointure de deux dataframes en fonction de Sujet_id : \n",
      "      Nom  Age  Note  Sujet_id   Libelle\n",
      "0    Paul   32    13         3  Physique\n",
      "1    Jean   43    14         1      Math\n",
      "2  Michel   60    16         4    Chimie\n",
      "\n",
      "Jointure externe (outer join) de deux dataframes en fonction de Sujet_id : \n",
      "      Nom   Age  Note  Sujet_id       Libelle\n",
      "0  Pierre  25.0  14.0         5           NaN\n",
      "1    Paul  32.0  13.0         3      Physique\n",
      "2    Jean  43.0  14.0         1          Math\n",
      "3  Michel  60.0  16.0         4        Chimie\n",
      "4     NaN   NaN   NaN         2  Informatique\n",
      "\n",
      "Jointure externe droite (right outer join) : \n",
      "\n",
      "      Nom   Age  Note  Sujet_id       Libelle\n",
      "0    Paul  32.0  13.0         3      Physique\n",
      "1    Jean  43.0  14.0         1          Math\n",
      "2  Michel  60.0  16.0         4        Chimie\n",
      "3     NaN   NaN   NaN         2  Informatique\n",
      "\n",
      "Jointure externe gauche (left outer join) : \n",
      "\n",
      "      Nom  Age  Note  Sujet_id   Libelle\n",
      "0  Pierre   25    14         5       NaN\n",
      "1    Paul   32    13         3  Physique\n",
      "2    Jean   43    14         1      Math\n",
      "3  Michel   60    16         4    Chimie\n"
     ]
    }
   ],
   "source": [
    "print (\"\\nJointure de deux dataframes en fonction de Sujet_id : \")\n",
    "print (pd.merge(df, df2, on='Sujet_id', how='inner'))\n",
    "\n",
    "print (\"\\nJointure externe (outer join) de deux dataframes en fonction de Sujet_id : \")\n",
    "print (pd.merge(df, df2, on='Sujet_id', how='outer'))\n",
    "\n",
    "\n",
    "print (\"\\nJointure externe droite (right outer join) : \\n\")\n",
    "print (pd.merge(df, df2, on='Sujet_id', how='right'))\n",
    "\n",
    "print (\"\\nJointure externe gauche (left outer join) : \\n\")\n",
    "print (pd.merge(df, df2, on='Sujet_id', how='left'))\n",
    "\n"
   ]
  },
  {
   "cell_type": "markdown",
   "metadata": {},
   "source": [
    "### Sauvegarde des dataframes "
   ]
  },
  {
   "cell_type": "markdown",
   "metadata": {},
   "source": [
    "Un dataframe peut être sauvegardé dans un fichier CSV."
   ]
  },
  {
   "cell_type": "code",
   "execution_count": 47,
   "metadata": {},
   "outputs": [],
   "source": [
    "df.to_csv('myFile.csv')  "
   ]
  },
  {
   "cell_type": "markdown",
   "metadata": {},
   "source": [
    "\n",
    "*Separateur*. Par défaut le séparateur est une virgule. df.to_csv('myFile.csv', sep = '\\t') utilise une tabulation comme séparateur  \n",
    "*Header* Par defaut le header est sauvegardé. df.to_csv('myFile.csv', header=false) pour ne pas sauver l'entête  \n",
    "*Index* Par défaut le nom des lignes est sauvegardé. df.to_csv('myFile.csv', index=false) pour ne pas les sauvegarder  \n",
    "*NaN* Par défaut les NaN sont considérées comme des chaînes vides. Il est possible de remplacer le caractère. df.to_csv('myFile.csv', na_rep='-') remplace les valeurs manquantes par des -.  \n"
   ]
  },
  {
   "cell_type": "code",
   "execution_count": 48,
   "metadata": {},
   "outputs": [
    {
     "name": "stdout",
     "output_type": "stream",
     "text": [
      "Affichage du fichier sauvegardé sur stdout \n",
      "\n",
      ",Nom,Age,Note,Sujet_id\n",
      "i1,Pierre,25,14,5\n",
      "i2,Paul,32,13,3\n",
      "i3,Jean,43,14,1\n",
      "i4,Michel,60,16,4\n",
      "\n",
      "Affichage du fichier sauvegardé avec tabulation \n",
      "\n",
      "\tNom\tAge\tNote\tSujet_id\n",
      "i1\tPierre\t25\t14\t5\n",
      "i2\tPaul\t32\t13\t3\n",
      "i3\tJean\t43\t14\t1\n",
      "i4\tMichel\t60\t16\t4\n",
      "\n",
      "Affichage du fichier sauvegardé avec tabulation sans header\n",
      "\n",
      "i1\tPierre\t25\t14\t5\n",
      "i2\tPaul\t32\t13\t3\n",
      "i3\tJean\t43\t14\t1\n",
      "i4\tMichel\t60\t16\t4\n",
      "\n",
      "Affichage du fichier sauvegardé avec tabulation sans index \n",
      "\n",
      "Nom\tAge\tNote\tSujet_id\n",
      "Pierre\t25\t14\t5\n",
      "Paul\t32\t13\t3\n",
      "Jean\t43\t14\t1\n",
      "Michel\t60\t16\t4\n",
      "\n",
      "Sauvegarde du fichier monfichier.csv \n",
      "\n",
      "\n",
      "Lecture pour vérification \n",
      "\n",
      "      Nom  Age  Note  Sujet_id\n",
      "0  Pierre   25    14         5\n",
      "1    Paul   32    13         3\n",
      "2    Jean   43    14         1\n",
      "3  Michel   60    16         4\n"
     ]
    }
   ],
   "source": [
    "df = pd.DataFrame(\n",
    "    {'Nom': ['Pierre', 'Paul', 'Jean','Michel'], \n",
    "     'Age': [25, 32, 43,60],\n",
    "     'Note' : [14, 13, 14, 16],\n",
    "     'Sujet_id' : [5,3,1,4]},\n",
    "      index = ['i1', 'i2', 'i3','i4'])\n",
    "\n",
    "import sys\n",
    "print ('Affichage du fichier sauvegardé sur stdout \\n')\n",
    "df.to_csv(sys.stdout)\n",
    "\n",
    "print ('\\nAffichage du fichier sauvegardé avec tabulation \\n')\n",
    "df.to_csv(sys.stdout,sep='\\t')\n",
    "\n",
    "print ('\\nAffichage du fichier sauvegardé avec tabulation sans header\\n')\n",
    "df.to_csv(sys.stdout,sep='\\t', header=False)\n",
    "\n",
    "\n",
    "print ('\\nAffichage du fichier sauvegardé avec tabulation sans index \\n')\n",
    "df.to_csv(sys.stdout,sep='\\t', index=False)\n",
    "\n",
    "print ('\\nSauvegarde du fichier monfichier.csv \\n')\n",
    "df.to_csv('monfichier.csv',sep='\\t', index=False)\n",
    "\n",
    "print ('\\nLecture pour vérification \\n')\n",
    "df = pd.read_csv('monfichier.csv',sep='\\t')\n",
    "print (df)"
   ]
  }
 ],
 "metadata": {
  "kernelspec": {
   "display_name": "Python 3",
   "language": "python",
   "name": "python3"
  },
  "language_info": {
   "codemirror_mode": {
    "name": "ipython",
    "version": 3
   },
   "file_extension": ".py",
   "mimetype": "text/x-python",
   "name": "python",
   "nbconvert_exporter": "python",
   "pygments_lexer": "ipython3",
   "version": "3.6.4"
  }
 },
 "nbformat": 4,
 "nbformat_minor": 2
}
