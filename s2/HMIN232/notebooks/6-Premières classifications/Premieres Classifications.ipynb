{
 "cells": [
  {
   "cell_type": "markdown",
   "metadata": {},
   "source": [
    "<H1> Premières classifications </H1>"
   ]
  },
  {
   "cell_type": "markdown",
   "metadata": {},
   "source": [
    "Le but de ce notebook est de faire des premières classifications. Pour cela nous utilisons le jeu de données IRIS qui est très connu dans la communauté.  \n",
    "\n",
    "Dans un premier temps, nous présentons une première classification pour apprendre à utiliser un classifieur et à prédire une valeur. Les jeux de données d'apprentissage et de de test sont présentés par la suite. Nous présentons ensuite différentes mesures pour évaluer un modèle.   \n",
    "Etant donné qu'il n'est pas possible d'avoir un classifieur universel (NO FREE LUNCH THEOREM), nous verrons comment utiliser différents classifieurs et comment rechercher les meilleurs paramètres d'un classifieur. Enfin nous verrons comment sauvegarder et ré-utiliser un modèle appris.\n"
   ]
  },
  {
   "cell_type": "code",
   "execution_count": 1,
   "metadata": {},
   "outputs": [],
   "source": [
    "#Sickit learn met régulièrement à jour des versions et \n",
    "#indique des futurs warnings. \n",
    "#ces deux lignes permettent de ne pas les afficher.\n",
    "import warnings\n",
    "warnings.filterwarnings(\"ignore\", category=FutureWarning)"
   ]
  },
  {
   "cell_type": "markdown",
   "metadata": {},
   "source": [
    "<H2> Le jeu de données IRIS </H2>"
   ]
  },
  {
   "cell_type": "markdown",
   "metadata": {},
   "source": [
    "Nous considérons par la suite le jeu de données des IRIS"
   ]
  },
  {
   "cell_type": "code",
   "execution_count": 2,
   "metadata": {},
   "outputs": [
    {
     "data": {
      "text/html": [
       "<div>\n",
       "<style scoped>\n",
       "    .dataframe tbody tr th:only-of-type {\n",
       "        vertical-align: middle;\n",
       "    }\n",
       "\n",
       "    .dataframe tbody tr th {\n",
       "        vertical-align: top;\n",
       "    }\n",
       "\n",
       "    .dataframe thead th {\n",
       "        text-align: right;\n",
       "    }\n",
       "</style>\n",
       "<table border=\"1\" class=\"dataframe\">\n",
       "  <thead>\n",
       "    <tr style=\"text-align: right;\">\n",
       "      <th></th>\n",
       "      <th>SepalLengthCm</th>\n",
       "      <th>SepalWidthCm</th>\n",
       "      <th>PetalLengthCm</th>\n",
       "      <th>PetalWidthCm</th>\n",
       "      <th>Species</th>\n",
       "    </tr>\n",
       "  </thead>\n",
       "  <tbody>\n",
       "    <tr>\n",
       "      <th>0</th>\n",
       "      <td>5.1</td>\n",
       "      <td>3.5</td>\n",
       "      <td>1.4</td>\n",
       "      <td>0.2</td>\n",
       "      <td>Iris-setosa</td>\n",
       "    </tr>\n",
       "    <tr>\n",
       "      <th>1</th>\n",
       "      <td>4.9</td>\n",
       "      <td>3.0</td>\n",
       "      <td>1.4</td>\n",
       "      <td>0.2</td>\n",
       "      <td>Iris-setosa</td>\n",
       "    </tr>\n",
       "    <tr>\n",
       "      <th>2</th>\n",
       "      <td>4.7</td>\n",
       "      <td>3.2</td>\n",
       "      <td>1.3</td>\n",
       "      <td>0.2</td>\n",
       "      <td>Iris-setosa</td>\n",
       "    </tr>\n",
       "    <tr>\n",
       "      <th>3</th>\n",
       "      <td>4.6</td>\n",
       "      <td>3.1</td>\n",
       "      <td>1.5</td>\n",
       "      <td>0.2</td>\n",
       "      <td>Iris-setosa</td>\n",
       "    </tr>\n",
       "    <tr>\n",
       "      <th>4</th>\n",
       "      <td>5.0</td>\n",
       "      <td>3.6</td>\n",
       "      <td>1.4</td>\n",
       "      <td>0.2</td>\n",
       "      <td>Iris-setosa</td>\n",
       "    </tr>\n",
       "  </tbody>\n",
       "</table>\n",
       "</div>"
      ],
      "text/plain": [
       "   SepalLengthCm  SepalWidthCm  PetalLengthCm  PetalWidthCm      Species\n",
       "0            5.1           3.5            1.4           0.2  Iris-setosa\n",
       "1            4.9           3.0            1.4           0.2  Iris-setosa\n",
       "2            4.7           3.2            1.3           0.2  Iris-setosa\n",
       "3            4.6           3.1            1.5           0.2  Iris-setosa\n",
       "4            5.0           3.6            1.4           0.2  Iris-setosa"
      ]
     },
     "metadata": {},
     "output_type": "display_data"
    }
   ],
   "source": [
    "import pandas as pd\n",
    "import numpy as np\n",
    "#https://archive.ics.uci.edu/ml/machine-learning-databases/iris/iris.data\n",
    "url=\"https://archive.ics.uci.edu/ml/machine-learning-databases/iris/iris.data\"\n",
    "names = ['SepalLengthCm', 'SepalWidthCm', \n",
    "         'PetalLengthCm', 'PetalWidthCm', \n",
    "         'Species']\n",
    "\n",
    "df = pd.read_csv(url, names=names)\n",
    "# 5 premières lignes du fichier\n",
    "display(df.head())"
   ]
  },
  {
   "cell_type": "markdown",
   "metadata": {},
   "source": [
    "## Toute première classification"
   ]
  },
  {
   "cell_type": "markdown",
   "metadata": {},
   "source": [
    "La classification supervisée considère les données sous la forme ($X$,$Y$) où $X$ correspond aux variables prédictives et $Y$ le résultat d'une observation, i.e. la variable à prédire. \n",
    "En se basant sur un jeu d'apprentissage, un algorithme de classification supervisée cherche une fonction mathématique $F$ qui permet de transformer (au mieux) $X$ vers $Y$, i.e. $F(X) \\approx Y$.  \n",
    "\n",
    "Convention : les variables prédictives sont celles associées aux objets, généralement stockées sous la forme d'une matrice aussi, par convention, elles sont souvent notées en majuscule (notation d'une matrice). Les variables à prédire sont généralement stockées dans un vecteur et sont souvent notées avec une lettre majuscle (notation d'un vecteur).  \n",
    "\n",
    "Autrement il est tout à fait possible d'utiliser des noms de variables significatives comme data, target."
   ]
  },
  {
   "cell_type": "code",
   "execution_count": 3,
   "metadata": {},
   "outputs": [],
   "source": [
    "array = df.values #necessité de convertir le dataframe en numpy\n",
    "#X matrice - utilisation du X majuscule\n",
    "X = array[:,0:4] \n",
    "#y vecteur - utilisation du y minuscule\n",
    "y = array[:,4]\n"
   ]
  },
  {
   "cell_type": "markdown",
   "metadata": {},
   "source": [
    "Dans scikit-learn, pour apprendre un modèle, un estimateur est créé en appelant sa méthode *fit(X, y)*.  \n",
    "Dans l'exemple qui suit nous utilisons un classifieur naïve Bayes (https://scikit-learn.org/stable/modules/naive_bayes.html)."
   ]
  },
  {
   "cell_type": "code",
   "execution_count": 4,
   "metadata": {},
   "outputs": [
    {
     "data": {
      "text/plain": [
       "GaussianNB(priors=None, var_smoothing=1e-09)"
      ]
     },
     "execution_count": 4,
     "metadata": {},
     "output_type": "execute_result"
    }
   ],
   "source": [
    "import sklearn\n",
    "from sklearn.naive_bayes import GaussianNB\n",
    "\n",
    "clf = GaussianNB()\n",
    "\n",
    "clf.fit(X, y) \n",
    "# la ligne affichée dans le Out indique les hyperparamètres \n",
    "#du classifieur s'ils existent"
   ]
  },
  {
   "cell_type": "markdown",
   "metadata": {},
   "source": [
    "La ligne affichée dans le Out indique les hyperparamètres du classifieur s'ils existent. \n",
    "Il est également possible de les obtenir à l'aide de :"
   ]
  },
  {
   "cell_type": "code",
   "execution_count": 5,
   "metadata": {},
   "outputs": [
    {
     "data": {
      "text/plain": [
       "{'priors': None, 'var_smoothing': 1e-09}"
      ]
     },
     "execution_count": 5,
     "metadata": {},
     "output_type": "execute_result"
    }
   ],
   "source": [
    "clf.get_params()"
   ]
  },
  {
   "cell_type": "markdown",
   "metadata": {},
   "source": [
    "Il est alors possible de prédire une valeur non lue à l'aide de la méthode *predict*. Par exemple, nous savons que les valeurs du 5ième IRIS sont 5.0,\t3.6,\t1.4,\t0.2 et qu'il appartient à la classe Iris-setosa."
   ]
  },
  {
   "cell_type": "code",
   "execution_count": 6,
   "metadata": {},
   "outputs": [
    {
     "name": "stdout",
     "output_type": "stream",
     "text": [
      "La prédiction du modèle pour [ 5.0,  3.6,  1.4,  0.2] est ['Iris-setosa']\n"
     ]
    }
   ],
   "source": [
    "#Prediction du résultat\n",
    "result = clf.predict([[ 5.0,  3.6,  1.4,  0.2]])\n",
    "print ('La prédiction du modèle pour [ 5.0,  3.6,  1.4,  0.2] est', \n",
    "       result)\n",
    "\n"
   ]
  },
  {
   "cell_type": "markdown",
   "metadata": {},
   "source": [
    "Test de la prédiction sur les données d'apprentissage. "
   ]
  },
  {
   "cell_type": "code",
   "execution_count": 7,
   "metadata": {},
   "outputs": [
    {
     "name": "stdout",
     "output_type": "stream",
     "text": [
      "['Iris-setosa' 'Iris-setosa' 'Iris-setosa' 'Iris-setosa' 'Iris-setosa'\n",
      " 'Iris-setosa' 'Iris-setosa' 'Iris-setosa' 'Iris-setosa' 'Iris-setosa'\n",
      " 'Iris-setosa' 'Iris-setosa' 'Iris-setosa' 'Iris-setosa' 'Iris-setosa'\n",
      " 'Iris-setosa' 'Iris-setosa' 'Iris-setosa' 'Iris-setosa' 'Iris-setosa'\n",
      " 'Iris-setosa' 'Iris-setosa' 'Iris-setosa' 'Iris-setosa' 'Iris-setosa'\n",
      " 'Iris-setosa' 'Iris-setosa' 'Iris-setosa' 'Iris-setosa' 'Iris-setosa'\n",
      " 'Iris-setosa' 'Iris-setosa' 'Iris-setosa' 'Iris-setosa' 'Iris-setosa'\n",
      " 'Iris-setosa' 'Iris-setosa' 'Iris-setosa' 'Iris-setosa' 'Iris-setosa'\n",
      " 'Iris-setosa' 'Iris-setosa' 'Iris-setosa' 'Iris-setosa' 'Iris-setosa'\n",
      " 'Iris-setosa' 'Iris-setosa' 'Iris-setosa' 'Iris-setosa' 'Iris-setosa'\n",
      " 'Iris-versicolor' 'Iris-versicolor' 'Iris-virginica' 'Iris-versicolor'\n",
      " 'Iris-versicolor' 'Iris-versicolor' 'Iris-versicolor' 'Iris-versicolor'\n",
      " 'Iris-versicolor' 'Iris-versicolor' 'Iris-versicolor' 'Iris-versicolor'\n",
      " 'Iris-versicolor' 'Iris-versicolor' 'Iris-versicolor' 'Iris-versicolor'\n",
      " 'Iris-versicolor' 'Iris-versicolor' 'Iris-versicolor' 'Iris-versicolor'\n",
      " 'Iris-virginica' 'Iris-versicolor' 'Iris-versicolor' 'Iris-versicolor'\n",
      " 'Iris-versicolor' 'Iris-versicolor' 'Iris-versicolor' 'Iris-virginica'\n",
      " 'Iris-versicolor' 'Iris-versicolor' 'Iris-versicolor' 'Iris-versicolor'\n",
      " 'Iris-versicolor' 'Iris-versicolor' 'Iris-versicolor' 'Iris-versicolor'\n",
      " 'Iris-versicolor' 'Iris-versicolor' 'Iris-versicolor' 'Iris-versicolor'\n",
      " 'Iris-versicolor' 'Iris-versicolor' 'Iris-versicolor' 'Iris-versicolor'\n",
      " 'Iris-versicolor' 'Iris-versicolor' 'Iris-versicolor' 'Iris-versicolor'\n",
      " 'Iris-versicolor' 'Iris-versicolor' 'Iris-virginica' 'Iris-virginica'\n",
      " 'Iris-virginica' 'Iris-virginica' 'Iris-virginica' 'Iris-virginica'\n",
      " 'Iris-versicolor' 'Iris-virginica' 'Iris-virginica' 'Iris-virginica'\n",
      " 'Iris-virginica' 'Iris-virginica' 'Iris-virginica' 'Iris-virginica'\n",
      " 'Iris-virginica' 'Iris-virginica' 'Iris-virginica' 'Iris-virginica'\n",
      " 'Iris-virginica' 'Iris-versicolor' 'Iris-virginica' 'Iris-virginica'\n",
      " 'Iris-virginica' 'Iris-virginica' 'Iris-virginica' 'Iris-virginica'\n",
      " 'Iris-virginica' 'Iris-virginica' 'Iris-virginica' 'Iris-virginica'\n",
      " 'Iris-virginica' 'Iris-virginica' 'Iris-virginica' 'Iris-versicolor'\n",
      " 'Iris-virginica' 'Iris-virginica' 'Iris-virginica' 'Iris-virginica'\n",
      " 'Iris-virginica' 'Iris-virginica' 'Iris-virginica' 'Iris-virginica'\n",
      " 'Iris-virginica' 'Iris-virginica' 'Iris-virginica' 'Iris-virginica'\n",
      " 'Iris-virginica' 'Iris-virginica' 'Iris-virginica' 'Iris-virginica']\n"
     ]
    }
   ],
   "source": [
    "result = clf.predict(X)\n",
    "print (result)"
   ]
  },
  {
   "cell_type": "markdown",
   "metadata": {},
   "source": [
    "Une première évaluation de la qualité de la prédiction peut se faire avec le calcul de l'*accuracy* (pourcentage de prédictions correctes). "
   ]
  },
  {
   "cell_type": "code",
   "execution_count": 8,
   "metadata": {},
   "outputs": [
    {
     "name": "stdout",
     "output_type": "stream",
     "text": [
      "accuracy:  0.96\n"
     ]
    }
   ],
   "source": [
    "from sklearn.metrics import accuracy_score\n",
    "\n",
    "\n",
    "print ('accuracy: ',accuracy_score(result, y))\n",
    "\n"
   ]
  },
  {
   "cell_type": "markdown",
   "metadata": {},
   "source": [
    "Comme nous pouvons le constater, même sur le jeu d'apprentissage il y a des erreurs dans le modèle appris.\n",
    "Pour connaître les objets mal classés :"
   ]
  },
  {
   "cell_type": "code",
   "execution_count": 9,
   "metadata": {},
   "outputs": [
    {
     "name": "stdout",
     "output_type": "stream",
     "text": [
      "Les objets mal classés sont :\n",
      "\n",
      " 52     Iris-versicolor\n",
      "70     Iris-versicolor\n",
      "77     Iris-versicolor\n",
      "106     Iris-virginica\n",
      "119     Iris-virginica\n",
      "133     Iris-virginica\n",
      "Name: Species, dtype: object\n",
      "\n",
      "\n",
      "\n",
      " [ 52  70  77 106 119 133] classé en  ['Iris-virginica' 'Iris-virginica' 'Iris-virginica' 'Iris-versicolor'\n",
      " 'Iris-versicolor' 'Iris-versicolor'] \n",
      "\n",
      "\n",
      "\n"
     ]
    }
   ],
   "source": [
    "y = np.asarray(y)\n",
    "#misclassified = np.where(y_test != clf.predict(X_test))\n",
    "misclassified = np.where(y != clf.predict(X))\n",
    "\n",
    "\n",
    "print('Les objets mal classés sont :')\n",
    "\n",
    "i=0\n",
    "for i in misclassified:\n",
    "    #print('\\n','o',i,\" \",df.iloc[i,:],\" \",y[i])\n",
    "    print('\\n',df.iloc[i,:]['Species'])\n",
    "    #print('\\n',df.iloc[i,:],\" \",y[i])\n",
    "    print ('\\n')\n",
    "\n",
    "for i in misclassified: \n",
    "    print ('\\n', i,'classé en ',clf.predict(X)[i],'\\n')\n",
    "    print ('\\n')"
   ]
  },
  {
   "cell_type": "markdown",
   "metadata": {},
   "source": [
    "## Jeu d'apprentissage et de test "
   ]
  },
  {
   "cell_type": "code",
   "execution_count": 10,
   "metadata": {},
   "outputs": [],
   "source": [
    "import pandas as pd \n",
    "#https://archive.ics.uci.edu/ml/machine-learning-databases/iris/iris.data\n",
    "url=\"https://archive.ics.uci.edu/ml/machine-learning-databases/iris/iris.data\"\n",
    "names = ['SepalLengthCm', 'SepalWidthCm',\n",
    "         'PetalLengthCm', 'PetalWidthCm', \n",
    "         'Species']\n",
    "\n",
    "df = pd.read_csv(url, names=names)\n",
    "\n",
    "array = df.values\n",
    "X = array[:,0:4] \n",
    "y = array[:,4]\n"
   ]
  },
  {
   "cell_type": "markdown",
   "metadata": {},
   "source": [
    "En classification, il est indispensable de créer un jeu d'apprentissage sur lequel un modèle est appris et un jeu de test pour évaluer le modèle.\n",
    "La fonction *train_test_split* permet de décomposer le jeu de données en 2 groupes : les données pour l'apprentissage et les données pour les tests.\n",
    "\n",
    "Le paramètre *train_size* indique la taille du jeu d'apprentissage qui sera utilisé.  \n",
    "le paramètre *random_state* spécifie un entier germe du nombre aléatoire pour le tirage. S'il n'est pas spécifié sickit learn utilise un générateur de nombre aléatoire à partir de np.random.   \n",
    "\n",
    "Depuis la version 0.21 il est également nécessaire de préciser la taille du jeu \n",
    "de test_size. De manière classique ce nombre est égal à la différence entre la taille du jeu de données - le test_size (1-test_size). Via cette fonctionnalité sickit learn permet de faire de l'échantillonage sur le jeu d'apprentissage.   \n",
    "\n",
    "Dans notre exemple nous prenons 30% du jeu de données comme jeu de test.\n",
    "\n",
    "\n"
   ]
  },
  {
   "cell_type": "code",
   "execution_count": 11,
   "metadata": {},
   "outputs": [],
   "source": [
    "from sklearn.model_selection import train_test_split \n",
    "\n",
    "validation_size=0.3 #30% du jeu de données pour le test\n",
    "\n",
    "testsize= 1-validation_size\n",
    "seed=30\n",
    "X_train,X_test,y_train,y_test=train_test_split(X, \n",
    "                                               y, \n",
    "                                               train_size=validation_size, \n",
    "                                               random_state=seed,\n",
    "                                               test_size=testsize)\n"
   ]
  },
  {
   "cell_type": "markdown",
   "metadata": {},
   "source": [
    "L'apprentissage du modèle se fait comme précédemment"
   ]
  },
  {
   "cell_type": "code",
   "execution_count": 12,
   "metadata": {},
   "outputs": [
    {
     "data": {
      "text/plain": [
       "GaussianNB(priors=None, var_smoothing=1e-09)"
      ]
     },
     "execution_count": 12,
     "metadata": {},
     "output_type": "execute_result"
    }
   ],
   "source": [
    "clf = GaussianNB()\n",
    "clf.fit(X_train, y_train)\n"
   ]
  },
  {
   "cell_type": "markdown",
   "metadata": {},
   "source": [
    "De même pour la prédiction"
   ]
  },
  {
   "cell_type": "code",
   "execution_count": 13,
   "metadata": {},
   "outputs": [
    {
     "name": "stdout",
     "output_type": "stream",
     "text": [
      "\n",
      " accuracy : 0.9428571428571428 \n",
      "\n"
     ]
    }
   ],
   "source": [
    "from sklearn.metrics import accuracy_score\n",
    "\n",
    "result = clf.predict(X_test)\n",
    "print('\\n accuracy :', accuracy_score(result, y_test),'\\n')\n"
   ]
  },
  {
   "cell_type": "markdown",
   "metadata": {},
   "source": [
    "Le problème essentiel de cette approche est que le modèle est appris sur un seul jeu de données et qu'en fonction de la sélection les résultats peuvent être très différents.\n",
    "La bonne solution consiste à utiliser la **cross validation**.\n",
    "Dans notre cas, nous allons utiliser une 10-fold cross validation pour évaluer la qualité. \n",
    "Le jeu de données sera découpé en 10 partie, entrainé sur 9, testé sur 1 et cela sera répété pour toutes les combinaisons du découpage. "
   ]
  },
  {
   "cell_type": "code",
   "execution_count": 14,
   "metadata": {},
   "outputs": [],
   "source": [
    "from sklearn.model_selection import KFold\n",
    "from sklearn.model_selection import cross_val_score\n",
    "seed=7\n",
    "k_fold = KFold(n_splits=10, shuffle=True, random_state=seed)"
   ]
  },
  {
   "cell_type": "code",
   "execution_count": 15,
   "metadata": {},
   "outputs": [
    {
     "name": "stdout",
     "output_type": "stream",
     "text": [
      "Les différentes accuracy pour les 10 évaluations sont : \n",
      " [0.8        0.86666667 1.         1.         0.93333333 1.\n",
      " 1.         1.         0.93333333 1.        ] \n",
      "\n",
      "Accuracy moyenne :  0.9533333333333334  standard deviation 0.06699917080747259\n"
     ]
    }
   ],
   "source": [
    "clf = GaussianNB()\n",
    "\n",
    "scoring = 'accuracy'\n",
    "score = cross_val_score(clf, X, y, cv=k_fold, scoring=scoring)\n",
    "\n",
    "print('Les différentes accuracy pour les 10 évaluations sont : \\n',\n",
    "      score,'\\n')\n",
    "print ('Accuracy moyenne : ',score.mean(), \n",
    "       ' standard deviation', score.std())\n"
   ]
  },
  {
   "cell_type": "markdown",
   "metadata": {},
   "source": [
    "L'écart type (standard deviation) est très important car il montre les grandes variations qui peuvent exister par rapport aux jeux de données."
   ]
  },
  {
   "cell_type": "markdown",
   "metadata": {},
   "source": [
    "Il est également possible d'utiliser le **LeaveOneOut** (ou LOO) qui est une simple validation croisée. Chaque ensemble d'apprentissage est créé en prenant tous les échantillons sauf un, l'ensemble de test étant l'échantillon laissé de côté. Ainsi, pour les échantillons, nous avons différents ensembles d'apprentissages et différents ensembles de tests. Il est cependant préférable d'utiliser la **cross validation** qui offre de meilleurs résultats."
   ]
  },
  {
   "cell_type": "code",
   "execution_count": 16,
   "metadata": {},
   "outputs": [
    {
     "name": "stdout",
     "output_type": "stream",
     "text": [
      "Les différentes accuracy en leaveoneout sont : \n",
      " [1. 1. 1. 1. 1. 1. 1. 1. 1. 1. 1. 1. 1. 1. 1. 1. 1. 1. 1. 1. 1. 1. 1. 1.\n",
      " 1. 1. 1. 1. 1. 1. 1. 1. 1. 1. 1. 1. 1. 1. 1. 1. 1. 1. 1. 1. 1. 1. 1. 1.\n",
      " 1. 1. 1. 1. 0. 1. 1. 1. 1. 1. 1. 1. 1. 1. 1. 1. 1. 1. 1. 1. 1. 1. 0. 1.\n",
      " 1. 1. 1. 1. 1. 0. 1. 1. 1. 1. 1. 1. 1. 1. 1. 1. 1. 1. 1. 1. 1. 1. 1. 1.\n",
      " 1. 1. 1. 1. 1. 1. 1. 1. 1. 1. 0. 1. 1. 1. 1. 1. 1. 1. 1. 1. 1. 1. 1. 0.\n",
      " 1. 1. 1. 1. 1. 1. 1. 1. 1. 1. 1. 1. 1. 0. 0. 1. 1. 1. 1. 1. 1. 1. 1. 1.\n",
      " 1. 1. 1. 1. 1. 1.] \n",
      "\n",
      "Accuracy moyenne :  0.9533333333333334  standard deviation 0.21092389359408498\n"
     ]
    }
   ],
   "source": [
    "from sklearn.model_selection import LeaveOneOut\n",
    "\n",
    "loo = LeaveOneOut()\n",
    "clf = GaussianNB()\n",
    "\n",
    "scoring = 'accuracy'\n",
    "score = cross_val_score(clf, X, y, cv=loo, scoring=scoring)\n",
    "print('Les différentes accuracy en leaveoneout sont : \\n',\n",
    "      score,'\\n')\n",
    "print ('Accuracy moyenne : ',score.mean(), \n",
    "       ' standard deviation', score.std())\n"
   ]
  },
  {
   "cell_type": "markdown",
   "metadata": {},
   "source": [
    "## Plus loin sur l'évaluation d'un modèle "
   ]
  },
  {
   "cell_type": "markdown",
   "metadata": {},
   "source": [
    "L'accuracy (nombre d'objets correctement classés) est la métrique la plus simple pour comprendre le \n",
    "résultat de la classification mais ne tient pas du tout compte de la distribution des données et ne permet pas d'indiquer les erreurs. Par exemple avec des classes très déséquilibrées (1 vs 99), nous pouvons avoir un modèle avec une accuracy de 99% mais lorsque qu'un objet de la classe intervient nous ne pouvons pas le retrouver.  \n",
    "\n",
    "Par la suite, par simplification, nous reprenons une classification réalisée sans cross validation mais le principe est évidemment le même avec cross validation. Nous introduisons la matrice de correlation et les différentes mesures : precision, rappel et F1-score."
   ]
  },
  {
   "cell_type": "code",
   "execution_count": 16,
   "metadata": {},
   "outputs": [
    {
     "name": "stdout",
     "output_type": "stream",
     "text": [
      "\n",
      " accuracy: 0.9428571428571428 \n",
      "\n"
     ]
    }
   ],
   "source": [
    "import pandas as pd \n",
    "from sklearn.model_selection import train_test_split \n",
    "from sklearn.metrics import accuracy_score\n",
    "url=\"https://archive.ics.uci.edu/ml/machine-learning-databases/iris/iris.data\"\n",
    "names = ['SepalLengthCm', 'SepalWidthCm', \n",
    "         'PetalLengthCm', 'PetalWidthCm', 'Species']\n",
    "df = pd.read_csv(url, names=names)\n",
    "array = df.values\n",
    "X = array[:,0:4] \n",
    "y = array[:,4]\n",
    "\n",
    "validation_size=0.3 #30% du jeu de données pour le test\n",
    "\n",
    "testsize= 1-validation_size\n",
    "seed=30\n",
    "X_train,X_test,y_train,y_test=train_test_split(X, y, \n",
    "                                               train_size=validation_size, \n",
    "                                               random_state=seed,\n",
    "                                               test_size=testsize)\n",
    "clf = GaussianNB()\n",
    "clf.fit(X_train, y_train)\n",
    "result = clf.predict(X_test)\n",
    "\n",
    "print('\\n accuracy:',accuracy_score(result, y_test),'\\n')"
   ]
  },
  {
   "cell_type": "markdown",
   "metadata": {},
   "source": [
    "La matrice de confusion permet de connaître les objets bien ou mal classés. Il suffit d'utiliser la fonction *confusion_matrix*."
   ]
  },
  {
   "cell_type": "code",
   "execution_count": 17,
   "metadata": {},
   "outputs": [
    {
     "name": "stdout",
     "output_type": "stream",
     "text": [
      "\n",
      " matrice de confusion \n",
      " [[34  0  0]\n",
      " [ 0 33  5]\n",
      " [ 0  1 32]]\n"
     ]
    }
   ],
   "source": [
    "from sklearn.metrics import confusion_matrix\n",
    "\n",
    "conf = confusion_matrix(y_test, result)\n",
    "print ('\\n matrice de confusion \\n',conf)\n"
   ]
  },
  {
   "cell_type": "markdown",
   "metadata": {},
   "source": [
    "Il est possible d'obtenir plus d'information : *precision*, *recall* et  *f1-measure* à l'aide de *classification_report*."
   ]
  },
  {
   "cell_type": "code",
   "execution_count": 18,
   "metadata": {},
   "outputs": [
    {
     "name": "stdout",
     "output_type": "stream",
     "text": [
      "\n",
      " matrice de confusion \n",
      " [[34  0  0]\n",
      " [ 0 33  5]\n",
      " [ 0  1 32]]\n",
      "\n",
      "                  precision    recall  f1-score   support\n",
      "\n",
      "    Iris-setosa       1.00      1.00      1.00        34\n",
      "Iris-versicolor       0.97      0.87      0.92        38\n",
      " Iris-virginica       0.86      0.97      0.91        33\n",
      "\n",
      "      micro avg       0.94      0.94      0.94       105\n",
      "      macro avg       0.95      0.95      0.94       105\n",
      "   weighted avg       0.95      0.94      0.94       105\n",
      "\n"
     ]
    }
   ],
   "source": [
    "from sklearn.metrics import classification_report\n",
    "conf = confusion_matrix(y_test, result)\n",
    "print ('\\n matrice de confusion \\n',conf)\n",
    "print ('\\n',classification_report(y_test, result))"
   ]
  },
  {
   "cell_type": "markdown",
   "metadata": {},
   "source": [
    "**Rappel** :  \n",
    "Considérons une matrice de confusion dans un cas binaire. Par exemple présence de SPAM ou non dans des mails.   \n",
    "\n",
    "  $$  \\begin{array}{|c|c|c|}\n",
    "  \\hline\n",
    "  N= & {\\bf PREDIT} & {\\bf PREDIT}  \\\\\n",
    "  115& {\\bf NON} & {\\bf OUI} \\\\\n",
    "  \\hline\n",
    "  {\\bf REEL} & 60 & 10 \\\\\n",
    "  {\\bf NON} & & \\\\\n",
    "  \\hline\n",
    " {\\bf REEL} & 5 & 40 \\\\\n",
    "  {\\bf OUI} & & \\\\\n",
    "  \\hline\n",
    "\\end{array}$$\n",
    "\n",
    "La matrice nous permet de voir qu'il y a deux classes prédites (OUI ou NON). Le classifieur fait un total de 115 prédictions. Sur ces 115 cas, le classifieur a prédit  OUI 50 fois et NON 65 fois. En fait 45 documents sont des SPAMS et 70 ne le sont pas. \n",
    "\n",
    "\n",
    "**TP** (True positive) : il s'agit des objets qui étaient prédits OUI (il s'agit de SPAM) et qui sont effectivement des SPAM.  \n",
    "**TN** (True negative) : il s'agit des objets qui étaient prédits NON (il ne s'agit pas de SPAM) et qui effectivement ne sont pas des SPAM.  \n",
    "**FP** (False positive) : il s'agit des objets qui étaient prédits comme SPAM mais qui en fait n'étaient pas des SPAM.  \n",
    "**FN** (False negative) : il s'agit des objets qui étaient prédits comme non SPAM qui en fait s'avèrent être des SPAM.  \n",
    "Dans la matrice ci-dessous ces éléments sont reportés :  \n",
    "\n",
    "$$  \\begin{array}{|c|c|c|c|}\n",
    "  \\hline\n",
    "  N= & {\\bf PREDIT} & {\\bf PREDIT} & \\\\\n",
    "  115& {\\bf NON} & {\\bf OUI} & \\\\\n",
    "  \\hline\n",
    "  {\\bf REEL} & TN=60 & FP=10 & 70\\\\\n",
    "  {\\bf NON} & & \\\\\n",
    "  \\hline\n",
    " {\\bf REEL} & FN=5 & TP=40 & 45\\\\\n",
    "  {\\bf OUI} & & \\\\\n",
    "  \\hline\n",
    "  & 65 & 50 &\\\\\n",
    "  \\hline\n",
    "\\end{array}$$\n",
    "\n",
    "L'**accuracy**  (ou justesse) correspond au pourcentage de prédiction correcte. Elle est définie par \n",
    "$$\\frac{TP+TN}{TN+FP+FN+TP}=\\frac{40+60}{60+10+5+40}=0.86.$$  \n",
    "Le **recall** (ou sensitivity ou True Positive Rate ou rappel) correspond au nombre d' objets pertinents retrouvés par rapport aux nombres d'objets pertinents du jeu de données. Dans notre cas, pour tous les OUI présents combien de fois le OUI a t'il été prédit ?\n",
    "\n",
    "$$recall=\\frac{Nombre\\ de\\ SPAM\\ correctement\\ reconnus}{Nombre\\ total\\ de\\ SPAM\\ dans\\ le\\ jeu\\ de\\ données} = \\frac{TP}{FN+TP}=\\frac{40}{40+5}=0.88.$$  \n",
    "La **precision** correspond à la proportion d'objets pertinents parmi les objets sélectionné. Tous les objets retournés non pertinents constituent du bruit. \n",
    "$$precision=\\frac{Nombre\\ de\\ SPAM\\ correctement\\ reconnus}{Nombre\\ de\\ fois\\ où\\ un\\ objet\\ a\\ été\\ prédit\\ SPAM} = \\frac{TP}{TP+FP}=\\frac{40}{40+10}=0.8.$$  \n",
    "\n",
    "Le **f1-score** (ou f-measure) est la moyenne harmonique du rappel et de la précision.\n",
    "$$f1-score=2\\times\\frac{precision \\times recall}{precision + recall}=2\\times\\frac{0.8 \\times 0.88}{0.8+0.88}.$$  \n",
    "\n",
    "Dans le cas d'une classification multiclasse, à partir de la matrice de confusion, la precision est calculée, pour une colonne $i$, par :  \n",
    "$$precision_i = \\frac{M_{ii}}{\\sum_j M_{ji}}$$\n",
    "et le recall par : \n",
    "$$ recall_i = \\frac{M_{ii}}{\\sum_j M_{ij}}$$  \n",
    "\n",
    "Pour la matrice de confusion suivante : \n",
    "\\begin{array}{cccc}\n",
    "Iris-setosa &34 & 0 & 0\\\\\n",
    "Iris-versicolor & 0 &33 & 5\\\\\n",
    "Iris-virginica & 0 & 1 &32\\\\\n",
    "\\end{array}\n",
    "\n",
    "classification_report retourne le résultat suivant :  \n",
    "\n",
    " \\begin{array}{ccccc}\n",
    "           &   precision  &  recall & f1-score &  support\\\\\n",
    "\\\\\n",
    "    Iris-setosa    &   1.00  &    1.00  &    1.00   &     34\\\\\n",
    "Iris-versicolor   &    0.97 &     0.87  &    0.92  &      38\\\\\n",
    " Iris-virginica   &    0.86  &    0.97  &    0.91  &      33\\\\\n",
    "\\\\\n",
    "    avg / total    &   0.95  &    0.94  &    0.94   &    105\\\\\n",
    "\\end{array}    \n",
    "\n",
    "La precision d'Iris-versicolor est obtenue par : \n",
    "$$precision_i = \\frac{M_{ii}}{\\sum_j M_{ji}}=\\frac{33}{33+1}=0.97.$$\n",
    "Le rappel d'Iris-versicolor est obtenue par : \n",
    "$$ recall_i = \\frac{M_{ii}}{\\sum_j M_{ij}}=\\frac{33}{33+5}=0.87.$$\n",
    "La precision d'Iris-virginica est obtenue par : \n",
    "$$precision_i = \\frac{M_{ii}}{\\sum_j M_{ji}}=\\frac{32}{32+5}=0.86.$$\n",
    "Le rappel d'Iris-versicolor est obtenue par : \n",
    "$$ recall_i = \\frac{M_{ii}}{\\sum_j M_{ij}}=\\frac{32}{32+1}=0.96.$$"
   ]
  },
  {
   "cell_type": "markdown",
   "metadata": {},
   "source": [
    "**Le cas particulier de la classification binaire **  \n",
    "\n",
    "Dans le cas de la classification binaire, il est également possible d'utiliser la courbre ROC (*Receiver operating characteristic*). Il s'agit d'un graphique qui représente les performances d'un modèle de classification (tracé des vrais positifs en fonction du taux de faux positifs).  \n",
    "\n",
    "Le taux de vrais positifs correspond au rappel (*recall*) : \n",
    "$$TTP = \\frac{TP}{FN+TP}$$  \n",
    "Le taux de faux positifs correspond à :  \n",
    "$$TFP = \\frac{FP}{FP+TP}$$\n",
    "est un graphique représentant les performances d'un modèle de classification pour tous les seuils de classification. Cette courbe trace le taux de vrais positifs en fonction du taux de faux positifs :\n",
    "\n",
    "Taux de vrais positifs\n",
    "Taux de faux positifs\n",
    "Le taux de vrais positifs (TVP) est l'équivalent du rappel."
   ]
  },
  {
   "cell_type": "code",
   "execution_count": 20,
   "metadata": {},
   "outputs": [
    {
     "name": "stdout",
     "output_type": "stream",
     "text": [
      "Area under the ROC curve : 0.797101\n"
     ]
    },
    {
     "data": {
      "image/png": "[encoded data removed]",
      "text/plain": [
       "<Figure size 432x288 with 1 Axes>"
      ]
     },
     "metadata": {},
     "output_type": "display_data"
    }
   ],
   "source": [
    "import numpy as np\n",
    "import pylab as pl\n",
    "from sklearn import svm, datasets\n",
    "from sklearn.utils import shuffle\n",
    "from sklearn.metrics import roc_curve, auc\n",
    "\n",
    "random_state = np.random.RandomState(0)\n",
    "\n",
    "# Import some data to play with\n",
    "iris = datasets.load_iris()\n",
    "X = iris.data\n",
    "y = iris.target\n",
    "\n",
    "# Make it a binary classification problem by removing the third class\n",
    "X, y = X[y != 2], y[y != 2]\n",
    "n_samples, n_features = X.shape\n",
    "\n",
    "# Add noisy features to make the problem harder\n",
    "X = np.c_[X, random_state.randn(n_samples, 200 * n_features)]\n",
    "\n",
    "# shuffle and split training and test sets\n",
    "X, y = shuffle(X, y, random_state=random_state)\n",
    "half = int(n_samples / 2)\n",
    "X_train, X_test = X[:half], X[half:]\n",
    "y_train, y_test = y[:half], y[half:]\n",
    "\n",
    "# Run classifier\n",
    "classifier = svm.SVC(kernel='linear', probability=True)\n",
    "probas_ = classifier.fit(X_train, y_train).predict_proba(X_test)\n",
    "\n",
    "# Compute ROC curve and area the curve\n",
    "fpr, tpr, thresholds = roc_curve(y_test, probas_[:, 1])\n",
    "roc_auc = auc(fpr, tpr)\n",
    "print (\"Area under the ROC curve : %f\" % roc_auc)\n",
    "\n",
    "# Plot ROC curve\n",
    "pl.clf()\n",
    "pl.plot(fpr, tpr, label='ROC curve (area = %0.2f)' % roc_auc)\n",
    "pl.plot([0, 1], [0, 1], 'k--')\n",
    "pl.xlim([0.0, 1.0])\n",
    "pl.ylim([0.0, 1.0])\n",
    "pl.xlabel('False Positive Rate')\n",
    "pl.ylabel('True Positive Rate')\n",
    "pl.title('Receiver operating characteristic example')\n",
    "pl.legend(loc=\"lower right\")\n",
    "pl.show()"
   ]
  },
  {
   "cell_type": "markdown",
   "metadata": {},
   "source": [
    "Pour connaître les objets mal classés :"
   ]
  },
  {
   "cell_type": "code",
   "execution_count": 19,
   "metadata": {},
   "outputs": [
    {
     "name": "stdout",
     "output_type": "stream",
     "text": [
      "Les objets mal classés sont :\n",
      "\n",
      " 52     Iris-versicolor\n",
      "56     Iris-versicolor\n",
      "70     Iris-versicolor\n",
      "77     Iris-versicolor\n",
      "83     Iris-versicolor\n",
      "106     Iris-virginica\n",
      "119     Iris-virginica\n",
      "Name: Species, dtype: object\n",
      "\n",
      "\n",
      "\n",
      " [ 52  56  70  77  83 106 119] classé en  ['Iris-virginica' 'Iris-virginica' 'Iris-virginica' 'Iris-virginica'\n",
      " 'Iris-virginica' 'Iris-versicolor' 'Iris-versicolor'] \n",
      "\n"
     ]
    }
   ],
   "source": [
    "misclassified = np.where(y != clf.predict(X))\n",
    "\n",
    "print('Les objets mal classés sont :')\n",
    "\n",
    "i=0\n",
    "for i in misclassified:\n",
    "    print('\\n',df.iloc[i,:]['Species'])\n",
    "    print ('\\n')\n",
    "\n",
    "for i in misclassified: \n",
    "    print ('\\n', i,'classé en ',clf.predict(X)[i],'\\n')\n",
    "    "
   ]
  },
  {
   "cell_type": "markdown",
   "metadata": {},
   "source": [
    "Pour afficher, avec seaborn, la matrice de confusion."
   ]
  },
  {
   "cell_type": "code",
   "execution_count": 20,
   "metadata": {},
   "outputs": [
    {
     "data": {
      "text/plain": [
       "<Figure size 1000x600 with 2 Axes>"
      ]
     },
     "metadata": {},
     "output_type": "display_data"
    }
   ],
   "source": [
    "import seaborn as sns\n",
    "import matplotlib.pyplot as plt\n",
    "\n",
    "labels = ['Iris-setosa', 'Iris-versicolor','Iris-virginica']\n",
    "fig, ax = plt.subplots(1, 1, figsize=(10,6))\n",
    "hm = sns.heatmap(conf, \n",
    "                 ax=ax,           # Axes où afficher\n",
    "                 xticklabels=labels, #labels sur les x\n",
    "                 yticklabels=labels, #labels sur les colonnes\n",
    "                 cmap=\"YlGnBu\", # Couleur\n",
    "                 square=True,    # Si True, toutes les cellules \n",
    "                                 #ont le même aspect carré\n",
    "                 annot=True      # Pour afficher les valeurs\n",
    "                )\n",
    "fig.suptitle('GaussianNB\\nAccuracy:{0:.3f}'.format(accuracy_score(result,y_test)), \n",
    "              fontsize=12, \n",
    "              fontweight='bold')\n",
    "plt.show()"
   ]
  },
  {
   "cell_type": "markdown",
   "metadata": {},
   "source": [
    "Les métriques peuvent être appelées indépendamment. Par exemple   \n",
    "*from sklearn.metrics import precision_score  \n",
    "print(\"Precision score: {}\".format(precision_score(y_true,y_pred)))*   \n",
    "ou à l'aide de la fonction *precision_recall_fscore_support*"
   ]
  },
  {
   "cell_type": "code",
   "execution_count": 21,
   "metadata": {},
   "outputs": [
    {
     "name": "stdout",
     "output_type": "stream",
     "text": [
      "precision: [1.         0.97058824 0.86486486]\n",
      "recall: [1.         0.86842105 0.96969697]\n",
      "fscore: [1.         0.91666667 0.91428571]\n",
      "support: [34 38 33]\n"
     ]
    }
   ],
   "source": [
    "from sklearn.metrics import precision_recall_fscore_support as score\n",
    "\n",
    "precision, recall, fscore, support = score(y_test, result)\n",
    "\n",
    "print('precision: {}'.format(precision))\n",
    "print('recall: {}'.format(recall))\n",
    "print('fscore: {}'.format(fscore))\n",
    "print('support: {}'.format(support))"
   ]
  },
  {
   "cell_type": "markdown",
   "metadata": {},
   "source": [
    "## Utiliser plusieurs classifiers"
   ]
  },
  {
   "cell_type": "markdown",
   "metadata": {},
   "source": [
    "Comme l'indique le NO FREE LUNCH THEOREM il n'existe pas un classifieur universel et en fonction des données il est souvent nécessaire d'en évaluer plusieurs pour retenir le plus efficace. Le principe est similaire au précédent, il suffit de les mettre dans une structure et de boucler dessus."
   ]
  },
  {
   "cell_type": "code",
   "execution_count": 22,
   "metadata": {},
   "outputs": [],
   "source": [
    "#preparation des données\n",
    "import pandas as pd \n",
    "from sklearn.model_selection import train_test_split \n",
    "from sklearn.metrics import accuracy_score\n",
    "url = \"https://archive.ics.uci.edu/ml/machine-learning-databases/iris/iris.data\"\n",
    "names = ['SepalLengthCm', 'SepalWidthCm', 'PetalLengthCm', 'PetalWidthCm', 'Species']\n",
    "df = pd.read_csv(url, names=names)\n",
    "array = df.values\n",
    "X = array[:,0:4] \n",
    "y = array[:,4]\n",
    "\n",
    "validation_size=0.3 #30% du jeu de données pour le test\n",
    "\n",
    "testsize= 1-validation_size\n",
    "seed=30\n",
    "X_train, X_test, y_train, y_test = train_test_split(X, y, train_size=validation_size, random_state=seed,test_size=testsize)\n"
   ]
  },
  {
   "cell_type": "markdown",
   "metadata": {},
   "source": [
    "Dans l'exemple, nous utilison LogisticRegression, DecisionTree, KNeighbors, GaussianNB et SVM.   \n",
    "Les paramètres utilisés pour chacune des approches sont ceux par défaut. \n",
    "Pour chaque approche nous faisons une cross validation de 10."
   ]
  },
  {
   "cell_type": "code",
   "execution_count": 23,
   "metadata": {},
   "outputs": [],
   "source": [
    "from sklearn.linear_model import LogisticRegression\n",
    "from sklearn.tree import DecisionTreeClassifier\n",
    "from sklearn.neighbors import KNeighborsClassifier\n",
    "from sklearn.naive_bayes import GaussianNB\n",
    "from sklearn.svm import SVC\n",
    "\n",
    "seed = 7\n",
    "scoring = 'accuracy'\n",
    "models = []\n",
    "models.append(('LR', LogisticRegression(solver='lbfgs')))\n",
    "models.append(('KNN', KNeighborsClassifier()))\n",
    "models.append(('CART', DecisionTreeClassifier()))\n",
    "models.append(('NB', GaussianNB()))\n",
    "models.append(('SVM', SVC(gamma='auto')))\n",
    "\n"
   ]
  },
  {
   "cell_type": "code",
   "execution_count": 24,
   "metadata": {},
   "outputs": [
    {
     "name": "stdout",
     "output_type": "stream",
     "text": [
      "Time pour LR   0.1513993740081787\n",
      "LR: 0.900000 (0.116428)\n",
      "Time pour KNN   0.01901412010192871\n",
      "KNN: 0.933333 (0.084327)\n",
      "Time pour CART   0.01136636734008789\n",
      "CART: 0.946667 (0.065320)\n",
      "Time pour NB   0.018451929092407227\n",
      "NB: 0.946667 (0.058119)\n",
      "Time pour SVM   0.012649774551391602\n",
      "SVM: 0.953333 (0.052068)\n"
     ]
    }
   ],
   "source": [
    "from sklearn.metrics import confusion_matrix\n",
    "from sklearn.metrics import classification_report\n",
    "from sklearn.model_selection import KFold\n",
    "from sklearn.model_selection import cross_val_score\n",
    "import time\n",
    "results = []\n",
    "names = []\n",
    "for name,model in models:\n",
    "    kfold = KFold(n_splits=10, random_state=seed)\n",
    "    start_time = time.time()\n",
    "    cv_results = cross_val_score(model, X, y, cv=kfold, scoring=scoring)\n",
    "    #pour avoir les paramètres utilisés dans le modèle enlever commentaire ligne suivante\n",
    "    #print (model.get_params())\n",
    "    print (\"Time pour\",name,\" \",time.time() - start_time)\n",
    "    results.append(cv_results)\n",
    "    names.append(name)\n",
    "    msg = \"%s: %f (%f)\" % (name, cv_results.mean(), cv_results.std())\n",
    "    print(msg)       "
   ]
  },
  {
   "cell_type": "code",
   "execution_count": 25,
   "metadata": {},
   "outputs": [
    {
     "data": {
      "text/plain": [
       "[Text(0, 0, 'LR'),\n",
       " Text(0, 0, 'KNN'),\n",
       " Text(0, 0, 'CART'),\n",
       " Text(0, 0, 'NB'),\n",
       " Text(0, 0, 'SVM')]"
      ]
     },
     "execution_count": 25,
     "metadata": {},
     "output_type": "execute_result"
    },
    {
     "data": {
      "image/png": "[encoded data removed]",
      "text/plain": [
       "<Figure size 432x288 with 1 Axes>"
      ]
     },
     "metadata": {},
     "output_type": "display_data"
    }
   ],
   "source": [
    "fig = plt.figure()\n",
    "fig.suptitle('Comparaison des algorithmes')\n",
    "ax = fig.add_subplot(111)\n",
    "plt.boxplot(results)\n",
    "ax.set_xticklabels(names)"
   ]
  },
  {
   "cell_type": "markdown",
   "metadata": {},
   "source": [
    "Comme SVM donne des meilleurs résultats, nous pouvons l'utiliser comme modèle de prédiction."
   ]
  },
  {
   "cell_type": "code",
   "execution_count": 26,
   "metadata": {
    "scrolled": true
   },
   "outputs": [
    {
     "name": "stdout",
     "output_type": "stream",
     "text": [
      "\n",
      " accuracy:  0.9619047619047619 \n",
      "\n",
      "\n",
      " matrice de confusion \n",
      " [[34  0  0]\n",
      " [ 0 34  4]\n",
      " [ 0  0 33]]\n",
      "\n",
      "                  precision    recall  f1-score   support\n",
      "\n",
      "    Iris-setosa       1.00      1.00      1.00        34\n",
      "Iris-versicolor       1.00      0.89      0.94        38\n",
      " Iris-virginica       0.89      1.00      0.94        33\n",
      "\n",
      "      micro avg       0.96      0.96      0.96       105\n",
      "      macro avg       0.96      0.96      0.96       105\n",
      "   weighted avg       0.97      0.96      0.96       105\n",
      "\n"
     ]
    }
   ],
   "source": [
    "from sklearn.metrics import accuracy_score\n",
    "from sklearn.metrics import confusion_matrix\n",
    "from sklearn.metrics import classification_report\n",
    "clf = SVC(gamma='auto')\n",
    "clf.fit(X_train, y_train)\n",
    "result = clf.predict(X_test)\n",
    "\n",
    "print('\\n accuracy: ', accuracy_score(result, y_test),'\\n')\n",
    "\n",
    "conf = confusion_matrix(y_test, result)\n",
    "print ('\\n matrice de confusion \\n',conf)\n",
    "print ('\\n',classification_report(y_test, result))"
   ]
  },
  {
   "cell_type": "markdown",
   "metadata": {},
   "source": [
    "## Les hyperparamètres\n"
   ]
  },
  {
   "cell_type": "markdown",
   "metadata": {},
   "source": [
    "Dans l'approche précédente nous avons pris les valeurs par défaut pour les différents classifieurs. Cependant en fonction des paramètres du classifieur les résultats peuvent être complétement différents (choix du noyeau SVM, nombre de K dans KNeighbors, etc. ). Sikit learn permet de pouvoir faire une recherche exhaustive (grid search) pour trouver les paramètres les plus pertinents pour un classifieur."
   ]
  },
  {
   "cell_type": "code",
   "execution_count": 27,
   "metadata": {},
   "outputs": [],
   "source": [
    "#preparation des données\n",
    "import pandas as pd \n",
    "from sklearn.model_selection import train_test_split \n",
    "from sklearn.metrics import accuracy_score\n",
    "url = \"https://archive.ics.uci.edu/ml/machine-learning-databases/iris/iris.data\"\n",
    "names = ['SepalLengthCm', 'SepalWidthCm', 'PetalLengthCm', 'PetalWidthCm', 'Species']\n",
    "df = pd.read_csv(url, names=names)\n",
    "array = df.values\n",
    "X = array[:,0:4] \n",
    "y = array[:,4]\n",
    "\n",
    "validation_size=0.3 #30% du jeu de données pour le test\n",
    "\n",
    "testsize= 1-validation_size\n",
    "seed=30\n",
    "X_train, X_test, y_train, y_test = train_test_split(X, y, \n",
    "                                                    train_size=validation_size, \n",
    "                                                    random_state=seed,\n",
    "                                                    test_size=testsize)\n",
    "\n"
   ]
  },
  {
   "cell_type": "markdown",
   "metadata": {},
   "source": [
    "Considérons un arbre de décision. Les principaux paramètres sont le critère pour découper (gini ou entropy), la profondeur maximale de l'arbre, et le nombre d'échantillons par feuille. Il faut, dans un premier temps, initialiser les variables à tester dans un dictionnaire.  \n",
    "Le test de toutes les valeurs se fait à l'aide de la fonction *GridSearchCV*.\n",
    "Ele prend commme paramètre le classifieur, le dictionnaire ds paramètre, le type de scoring, le nombre de crossvalidation.  \n",
    "\n",
    "Quelques paramètres souvent utilisés :  \n",
    "-  *n_jobs* : (par défaut 1) nombre de coeurs à utiliser pour effectuer les calculs, dépend du cpu. Si la machine possède plusieurs coeurs, il est possible d'indiquer de tous les utiliser en mettant *n_jobs=-1*  \n",
    "-  *verbose* : affichage du déroulement des calculs, 0 = silent.\n",
    "- *random_state* : si le classifieur utilisé utilise de l'aléatoire, random_state permet de fixer le générateur pour reproduire les résultats.   \n",
    "\n",
    "\n",
    "Un grid search est long à obtenir dans la mesure où il faut essayer l'ensemble des cas. La possibilité de répartir sur plusieurs processeur permet de faire gagner beaucoup de temps. "
   ]
  },
  {
   "cell_type": "code",
   "execution_count": 28,
   "metadata": {},
   "outputs": [
    {
     "data": {
      "text/plain": [
       "GridSearchCV(cv=5, error_score='raise-deprecating',\n",
       "       estimator=DecisionTreeClassifier(class_weight=None, criterion='gini', max_depth=None,\n",
       "            max_features=None, max_leaf_nodes=None,\n",
       "            min_impurity_decrease=0.0, min_impurity_split=None,\n",
       "            min_samples_leaf=1, min_samples_split=2,\n",
       "            min_weight_fraction_leaf=0.0, presort=False, random_state=None,\n",
       "            splitter='best'),\n",
       "       fit_params=None, iid=True, n_jobs=-1,\n",
       "       param_grid={'max_depth': [1, 2, 3, 4, 5, 6, 7, 8, 9, 10], 'criterion': ['gini', 'entropy'], 'min_samples_leaf': [1, 2, 3, 4, 5, 6, 7, 8, 9, 10]},\n",
       "       pre_dispatch='2*n_jobs', refit=True, return_train_score=True,\n",
       "       scoring='accuracy', verbose=0)"
      ]
     },
     "execution_count": 28,
     "metadata": {},
     "output_type": "execute_result"
    }
   ],
   "source": [
    "from sklearn.tree import DecisionTreeClassifier\n",
    "from sklearn.model_selection import GridSearchCV\n",
    "\n",
    "grid_param = {  \n",
    "    'max_depth': [1,2,3,4,5,6,7,8,9,10],\n",
    "    'criterion': ['gini', 'entropy'],\n",
    "    'min_samples_leaf': [1,2,3,4,5,6,7,8,9,10]\n",
    "}\n",
    "\n",
    "\n",
    "gd_sr = GridSearchCV(estimator=DecisionTreeClassifier(),  \n",
    "                     param_grid=grid_param,\n",
    "                     scoring='accuracy',\n",
    "                     cv=5,\n",
    "                     n_jobs=-1,\n",
    "                    iid=True,\n",
    "                    return_train_score=True)\n",
    "\n",
    "gd_sr.fit(X_train, y_train)  \n",
    "\n"
   ]
  },
  {
   "cell_type": "markdown",
   "metadata": {},
   "source": [
    "Pour connaître les meilleures conditions : "
   ]
  },
  {
   "cell_type": "code",
   "execution_count": 29,
   "metadata": {},
   "outputs": [
    {
     "name": "stdout",
     "output_type": "stream",
     "text": [
      "meilleur score  0.9777777777777777 \n",
      "\n",
      "meilleurs paramètres {'criterion': 'gini', 'max_depth': 2, 'min_samples_leaf': 1} \n",
      "\n",
      "meilleur estimateur DecisionTreeClassifier(class_weight=None, criterion='gini', max_depth=2,\n",
      "            max_features=None, max_leaf_nodes=None,\n",
      "            min_impurity_decrease=0.0, min_impurity_split=None,\n",
      "            min_samples_leaf=1, min_samples_split=2,\n",
      "            min_weight_fraction_leaf=0.0, presort=False, random_state=None,\n",
      "            splitter='best') \n",
      "\n"
     ]
    }
   ],
   "source": [
    "print ('meilleur score ',gd_sr.best_score_,'\\n')\n",
    "print ('meilleurs paramètres', gd_sr.best_params_,'\\n')\n",
    "print ('meilleur estimateur',gd_sr.best_estimator_,'\\n')"
   ]
  },
  {
   "cell_type": "markdown",
   "metadata": {},
   "source": [
    "Avec KNeighborsClassifier()"
   ]
  },
  {
   "cell_type": "code",
   "execution_count": 30,
   "metadata": {},
   "outputs": [
    {
     "name": "stdout",
     "output_type": "stream",
     "text": [
      "meilleur score  1.0 \n",
      "\n",
      "meilleurs paramètres {'metric': 'minkowski', 'n_neighbors': 1} \n",
      "\n",
      "meilleur estimateur KNeighborsClassifier(algorithm='auto', leaf_size=30, metric='minkowski',\n",
      "           metric_params=None, n_jobs=None, n_neighbors=1, p=2,\n",
      "           weights='uniform') \n",
      "\n"
     ]
    }
   ],
   "source": [
    "from sklearn.neighbors import KNeighborsClassifier\n",
    "grid_param = {  \n",
    "    'n_neighbors': list(range(1,15)),\n",
    "    'metric': ['minkowski','euclidean','manhattan']\n",
    "}\n",
    "                        \n",
    "gd_sr = GridSearchCV(estimator=KNeighborsClassifier(),  \n",
    "                     param_grid=grid_param,\n",
    "                     scoring='accuracy',\n",
    "                     cv=5,\n",
    "                     n_jobs=-1,\n",
    "                    iid=True,\n",
    "                    return_train_score=True)\n",
    "\n",
    "gd_sr.fit(X_train, y_train)  \n",
    "\n",
    "print ('meilleur score ',gd_sr.best_score_,'\\n')\n",
    "print ('meilleurs paramètres', gd_sr.best_params_,'\\n')\n",
    "print ('meilleur estimateur',gd_sr.best_estimator_,'\\n')\n"
   ]
  },
  {
   "cell_type": "markdown",
   "metadata": {},
   "source": [
    "Avec SVM "
   ]
  },
  {
   "cell_type": "code",
   "execution_count": 31,
   "metadata": {},
   "outputs": [
    {
     "name": "stdout",
     "output_type": "stream",
     "text": [
      "meilleur score  1.0 \n",
      "\n",
      "meilleurs paramètres {'C': 1, 'gamma': 0.001, 'kernel': 'linear'} \n",
      "\n",
      "meilleur estimateur SVC(C=1, cache_size=200, class_weight=None, coef0=0.0,\n",
      "  decision_function_shape='ovr', degree=3, gamma=0.001, kernel='linear',\n",
      "  max_iter=-1, probability=False, random_state=None, shrinking=True,\n",
      "  tol=0.001, verbose=False) \n",
      "\n"
     ]
    }
   ],
   "source": [
    "from sklearn.svm import SVC\n",
    "grid_param = {\n",
    "    'C': [0.001, 0.01, 0.1, 1, 10], \n",
    "    'gamma' : [0.001, 0.01, 0.1, 1], \n",
    "    'kernel': ['linear','rbf']}\n",
    "\n",
    "gd_sr = GridSearchCV(estimator=SVC(),  \n",
    "                     param_grid=grid_param,\n",
    "                     scoring='accuracy',\n",
    "                     cv=5,\n",
    "                     n_jobs=1,\n",
    "                     iid=True,\n",
    "                    return_train_score=True)\n",
    "\n",
    "gd_sr.fit(X_train, y_train)  \n",
    "\n",
    "print ('meilleur score ',gd_sr.best_score_,'\\n')\n",
    "print ('meilleurs paramètres', gd_sr.best_params_,'\\n')\n",
    "print ('meilleur estimateur',gd_sr.best_estimator_,'\\n')\n"
   ]
  },
  {
   "cell_type": "markdown",
   "metadata": {},
   "source": [
    "Pour voir l'ensemble des évaluations effectuées par GridSearchCV : "
   ]
  },
  {
   "cell_type": "code",
   "execution_count": 32,
   "metadata": {},
   "outputs": [
    {
     "data": {
      "text/html": [
       "<div>\n",
       "<style scoped>\n",
       "    .dataframe tbody tr th:only-of-type {\n",
       "        vertical-align: middle;\n",
       "    }\n",
       "\n",
       "    .dataframe tbody tr th {\n",
       "        vertical-align: top;\n",
       "    }\n",
       "\n",
       "    .dataframe thead th {\n",
       "        text-align: right;\n",
       "    }\n",
       "</style>\n",
       "<table border=\"1\" class=\"dataframe\">\n",
       "  <thead>\n",
       "    <tr style=\"text-align: right;\">\n",
       "      <th></th>\n",
       "      <th>mean_fit_time</th>\n",
       "      <th>mean_score_time</th>\n",
       "      <th>mean_test_score</th>\n",
       "      <th>mean_train_score</th>\n",
       "      <th>param_C</th>\n",
       "      <th>param_gamma</th>\n",
       "      <th>param_kernel</th>\n",
       "      <th>params</th>\n",
       "      <th>rank_test_score</th>\n",
       "      <th>split0_test_score</th>\n",
       "      <th>...</th>\n",
       "      <th>split2_test_score</th>\n",
       "      <th>split2_train_score</th>\n",
       "      <th>split3_test_score</th>\n",
       "      <th>split3_train_score</th>\n",
       "      <th>split4_test_score</th>\n",
       "      <th>split4_train_score</th>\n",
       "      <th>std_fit_time</th>\n",
       "      <th>std_score_time</th>\n",
       "      <th>std_test_score</th>\n",
       "      <th>std_train_score</th>\n",
       "    </tr>\n",
       "  </thead>\n",
       "  <tbody>\n",
       "    <tr>\n",
       "      <th>0</th>\n",
       "      <td>0.000950</td>\n",
       "      <td>0.000479</td>\n",
       "      <td>0.444444</td>\n",
       "      <td>0.452069</td>\n",
       "      <td>0.001</td>\n",
       "      <td>0.001</td>\n",
       "      <td>linear</td>\n",
       "      <td>{'C': 0.001, 'gamma': 0.001, 'kernel': 'linear'}</td>\n",
       "      <td>26</td>\n",
       "      <td>0.363636</td>\n",
       "      <td>...</td>\n",
       "      <td>0.375</td>\n",
       "      <td>0.378378</td>\n",
       "      <td>0.375</td>\n",
       "      <td>0.378378</td>\n",
       "      <td>0.375</td>\n",
       "      <td>0.378378</td>\n",
       "      <td>0.000347</td>\n",
       "      <td>0.000152</td>\n",
       "      <td>0.136679</td>\n",
       "      <td>0.145402</td>\n",
       "    </tr>\n",
       "    <tr>\n",
       "      <th>1</th>\n",
       "      <td>0.000517</td>\n",
       "      <td>0.000292</td>\n",
       "      <td>0.444444</td>\n",
       "      <td>0.452069</td>\n",
       "      <td>0.001</td>\n",
       "      <td>0.001</td>\n",
       "      <td>rbf</td>\n",
       "      <td>{'C': 0.001, 'gamma': 0.001, 'kernel': 'rbf'}</td>\n",
       "      <td>26</td>\n",
       "      <td>0.363636</td>\n",
       "      <td>...</td>\n",
       "      <td>0.375</td>\n",
       "      <td>0.378378</td>\n",
       "      <td>0.375</td>\n",
       "      <td>0.378378</td>\n",
       "      <td>0.375</td>\n",
       "      <td>0.378378</td>\n",
       "      <td>0.000163</td>\n",
       "      <td>0.000024</td>\n",
       "      <td>0.136679</td>\n",
       "      <td>0.145402</td>\n",
       "    </tr>\n",
       "    <tr>\n",
       "      <th>2</th>\n",
       "      <td>0.000436</td>\n",
       "      <td>0.000277</td>\n",
       "      <td>0.444444</td>\n",
       "      <td>0.452069</td>\n",
       "      <td>0.001</td>\n",
       "      <td>0.01</td>\n",
       "      <td>linear</td>\n",
       "      <td>{'C': 0.001, 'gamma': 0.01, 'kernel': 'linear'}</td>\n",
       "      <td>26</td>\n",
       "      <td>0.363636</td>\n",
       "      <td>...</td>\n",
       "      <td>0.375</td>\n",
       "      <td>0.378378</td>\n",
       "      <td>0.375</td>\n",
       "      <td>0.378378</td>\n",
       "      <td>0.375</td>\n",
       "      <td>0.378378</td>\n",
       "      <td>0.000064</td>\n",
       "      <td>0.000014</td>\n",
       "      <td>0.136679</td>\n",
       "      <td>0.145402</td>\n",
       "    </tr>\n",
       "    <tr>\n",
       "      <th>3</th>\n",
       "      <td>0.000468</td>\n",
       "      <td>0.000308</td>\n",
       "      <td>0.444444</td>\n",
       "      <td>0.452069</td>\n",
       "      <td>0.001</td>\n",
       "      <td>0.01</td>\n",
       "      <td>rbf</td>\n",
       "      <td>{'C': 0.001, 'gamma': 0.01, 'kernel': 'rbf'}</td>\n",
       "      <td>26</td>\n",
       "      <td>0.363636</td>\n",
       "      <td>...</td>\n",
       "      <td>0.375</td>\n",
       "      <td>0.378378</td>\n",
       "      <td>0.375</td>\n",
       "      <td>0.378378</td>\n",
       "      <td>0.375</td>\n",
       "      <td>0.378378</td>\n",
       "      <td>0.000113</td>\n",
       "      <td>0.000052</td>\n",
       "      <td>0.136679</td>\n",
       "      <td>0.145402</td>\n",
       "    </tr>\n",
       "    <tr>\n",
       "      <th>4</th>\n",
       "      <td>0.000377</td>\n",
       "      <td>0.000345</td>\n",
       "      <td>0.444444</td>\n",
       "      <td>0.452069</td>\n",
       "      <td>0.001</td>\n",
       "      <td>0.1</td>\n",
       "      <td>linear</td>\n",
       "      <td>{'C': 0.001, 'gamma': 0.1, 'kernel': 'linear'}</td>\n",
       "      <td>26</td>\n",
       "      <td>0.363636</td>\n",
       "      <td>...</td>\n",
       "      <td>0.375</td>\n",
       "      <td>0.378378</td>\n",
       "      <td>0.375</td>\n",
       "      <td>0.378378</td>\n",
       "      <td>0.375</td>\n",
       "      <td>0.378378</td>\n",
       "      <td>0.000019</td>\n",
       "      <td>0.000112</td>\n",
       "      <td>0.136679</td>\n",
       "      <td>0.145402</td>\n",
       "    </tr>\n",
       "  </tbody>\n",
       "</table>\n",
       "<p>5 rows × 23 columns</p>\n",
       "</div>"
      ],
      "text/plain": [
       "   mean_fit_time  mean_score_time  mean_test_score  mean_train_score param_C  \\\n",
       "0       0.000950         0.000479         0.444444          0.452069   0.001   \n",
       "1       0.000517         0.000292         0.444444          0.452069   0.001   \n",
       "2       0.000436         0.000277         0.444444          0.452069   0.001   \n",
       "3       0.000468         0.000308         0.444444          0.452069   0.001   \n",
       "4       0.000377         0.000345         0.444444          0.452069   0.001   \n",
       "\n",
       "  param_gamma param_kernel                                            params  \\\n",
       "0       0.001       linear  {'C': 0.001, 'gamma': 0.001, 'kernel': 'linear'}   \n",
       "1       0.001          rbf     {'C': 0.001, 'gamma': 0.001, 'kernel': 'rbf'}   \n",
       "2        0.01       linear   {'C': 0.001, 'gamma': 0.01, 'kernel': 'linear'}   \n",
       "3        0.01          rbf      {'C': 0.001, 'gamma': 0.01, 'kernel': 'rbf'}   \n",
       "4         0.1       linear    {'C': 0.001, 'gamma': 0.1, 'kernel': 'linear'}   \n",
       "\n",
       "   rank_test_score  split0_test_score       ...         split2_test_score  \\\n",
       "0               26           0.363636       ...                     0.375   \n",
       "1               26           0.363636       ...                     0.375   \n",
       "2               26           0.363636       ...                     0.375   \n",
       "3               26           0.363636       ...                     0.375   \n",
       "4               26           0.363636       ...                     0.375   \n",
       "\n",
       "   split2_train_score  split3_test_score  split3_train_score  \\\n",
       "0            0.378378              0.375            0.378378   \n",
       "1            0.378378              0.375            0.378378   \n",
       "2            0.378378              0.375            0.378378   \n",
       "3            0.378378              0.375            0.378378   \n",
       "4            0.378378              0.375            0.378378   \n",
       "\n",
       "   split4_test_score  split4_train_score  std_fit_time  std_score_time  \\\n",
       "0              0.375            0.378378      0.000347        0.000152   \n",
       "1              0.375            0.378378      0.000163        0.000024   \n",
       "2              0.375            0.378378      0.000064        0.000014   \n",
       "3              0.375            0.378378      0.000113        0.000052   \n",
       "4              0.375            0.378378      0.000019        0.000112   \n",
       "\n",
       "   std_test_score  std_train_score  \n",
       "0        0.136679         0.145402  \n",
       "1        0.136679         0.145402  \n",
       "2        0.136679         0.145402  \n",
       "3        0.136679         0.145402  \n",
       "4        0.136679         0.145402  \n",
       "\n",
       "[5 rows x 23 columns]"
      ]
     },
     "metadata": {},
     "output_type": "display_data"
    }
   ],
   "source": [
    "\n",
    "# convertion en DataFrame\n",
    "results = pd.DataFrame(gd_sr.cv_results_) \n",
    "# Affichage des 5 premières lignes\n",
    "display(results.head())\n"
   ]
  },
  {
   "cell_type": "markdown",
   "metadata": {},
   "source": [
    "L'avantage de GridSearchCV est qu'il va parcourir toutes les conditions et retourner celles qui sont les meilleures pour la ou les mesures de scoring recherchée (dans notre cas nous avons privilégié l'accuracy).\n",
    "Cela est très pratique mais est malheureusement impossible dans certains cas car beaucoup trop long à mettre en place.\n",
    "Une solution possible est d'utiliser *RandomizedSearchCV* qui parcourt de manière aléatoire l'espace de recherche. \n",
    "Il suffit dans ce cas de spécifier des tirages aléatoires pour les valeurs possibles des paramètres et de préciser le nombre d'itérations voulues.\n",
    "Le second usage de *RandomizedSearchCV* est, lorsque l'on n'a pas une très bonne idée de ce que cela peut donner ou des paramètres à utiliser de faire appel à lui pour avoir des valeurs qui peuvent être significatives et de faire suivre à partir de ces valeurs une recherche via *GridSearchCV*.\n",
    "\n",
    "\n"
   ]
  },
  {
   "cell_type": "code",
   "execution_count": 33,
   "metadata": {},
   "outputs": [
    {
     "name": "stdout",
     "output_type": "stream",
     "text": [
      "meilleur score  0.9555555555555556 \n",
      "\n",
      "meilleurs paramètres {'criterion': 'entropy', 'max_depth': 16, 'min_samples_leaf': 1} \n",
      "\n",
      "meilleur estimateur DecisionTreeClassifier(class_weight=None, criterion='entropy', max_depth=16,\n",
      "            max_features=None, max_leaf_nodes=None,\n",
      "            min_impurity_decrease=0.0, min_impurity_split=None,\n",
      "            min_samples_leaf=1, min_samples_split=2,\n",
      "            min_weight_fraction_leaf=0.0, presort=False, random_state=None,\n",
      "            splitter='best') \n",
      "\n"
     ]
    },
    {
     "data": {
      "text/html": [
       "<div>\n",
       "<style scoped>\n",
       "    .dataframe tbody tr th:only-of-type {\n",
       "        vertical-align: middle;\n",
       "    }\n",
       "\n",
       "    .dataframe tbody tr th {\n",
       "        vertical-align: top;\n",
       "    }\n",
       "\n",
       "    .dataframe thead th {\n",
       "        text-align: right;\n",
       "    }\n",
       "</style>\n",
       "<table border=\"1\" class=\"dataframe\">\n",
       "  <thead>\n",
       "    <tr style=\"text-align: right;\">\n",
       "      <th></th>\n",
       "      <th>mean_fit_time</th>\n",
       "      <th>mean_score_time</th>\n",
       "      <th>mean_test_score</th>\n",
       "      <th>mean_train_score</th>\n",
       "      <th>param_criterion</th>\n",
       "      <th>param_max_depth</th>\n",
       "      <th>param_min_samples_leaf</th>\n",
       "      <th>params</th>\n",
       "      <th>rank_test_score</th>\n",
       "      <th>split0_test_score</th>\n",
       "      <th>split0_train_score</th>\n",
       "      <th>split1_test_score</th>\n",
       "      <th>split1_train_score</th>\n",
       "      <th>split2_test_score</th>\n",
       "      <th>split2_train_score</th>\n",
       "      <th>std_fit_time</th>\n",
       "      <th>std_score_time</th>\n",
       "      <th>std_test_score</th>\n",
       "      <th>std_train_score</th>\n",
       "    </tr>\n",
       "  </thead>\n",
       "  <tbody>\n",
       "    <tr>\n",
       "      <th>0</th>\n",
       "      <td>0.000518</td>\n",
       "      <td>0.000348</td>\n",
       "      <td>0.733333</td>\n",
       "      <td>0.733136</td>\n",
       "      <td>entropy</td>\n",
       "      <td>12</td>\n",
       "      <td>13</td>\n",
       "      <td>{'criterion': 'entropy', 'max_depth': 12, 'min...</td>\n",
       "      <td>9</td>\n",
       "      <td>0.7500</td>\n",
       "      <td>0.724138</td>\n",
       "      <td>0.733333</td>\n",
       "      <td>0.733333</td>\n",
       "      <td>0.714286</td>\n",
       "      <td>0.741935</td>\n",
       "      <td>0.000051</td>\n",
       "      <td>0.000074</td>\n",
       "      <td>0.014548</td>\n",
       "      <td>0.007267</td>\n",
       "    </tr>\n",
       "    <tr>\n",
       "      <th>1</th>\n",
       "      <td>0.000512</td>\n",
       "      <td>0.000590</td>\n",
       "      <td>0.733333</td>\n",
       "      <td>0.733136</td>\n",
       "      <td>gini</td>\n",
       "      <td>10</td>\n",
       "      <td>12</td>\n",
       "      <td>{'criterion': 'gini', 'max_depth': 10, 'min_sa...</td>\n",
       "      <td>9</td>\n",
       "      <td>0.7500</td>\n",
       "      <td>0.724138</td>\n",
       "      <td>0.733333</td>\n",
       "      <td>0.733333</td>\n",
       "      <td>0.714286</td>\n",
       "      <td>0.741935</td>\n",
       "      <td>0.000065</td>\n",
       "      <td>0.000243</td>\n",
       "      <td>0.014548</td>\n",
       "      <td>0.007267</td>\n",
       "    </tr>\n",
       "    <tr>\n",
       "      <th>2</th>\n",
       "      <td>0.000421</td>\n",
       "      <td>0.000315</td>\n",
       "      <td>0.955556</td>\n",
       "      <td>1.000000</td>\n",
       "      <td>entropy</td>\n",
       "      <td>16</td>\n",
       "      <td>1</td>\n",
       "      <td>{'criterion': 'entropy', 'max_depth': 16, 'min...</td>\n",
       "      <td>1</td>\n",
       "      <td>0.9375</td>\n",
       "      <td>1.000000</td>\n",
       "      <td>0.933333</td>\n",
       "      <td>1.000000</td>\n",
       "      <td>1.000000</td>\n",
       "      <td>1.000000</td>\n",
       "      <td>0.000056</td>\n",
       "      <td>0.000025</td>\n",
       "      <td>0.029918</td>\n",
       "      <td>0.000000</td>\n",
       "    </tr>\n",
       "    <tr>\n",
       "      <th>3</th>\n",
       "      <td>0.000503</td>\n",
       "      <td>0.000392</td>\n",
       "      <td>0.733333</td>\n",
       "      <td>0.733136</td>\n",
       "      <td>gini</td>\n",
       "      <td>2</td>\n",
       "      <td>13</td>\n",
       "      <td>{'criterion': 'gini', 'max_depth': 2, 'min_sam...</td>\n",
       "      <td>9</td>\n",
       "      <td>0.7500</td>\n",
       "      <td>0.724138</td>\n",
       "      <td>0.733333</td>\n",
       "      <td>0.733333</td>\n",
       "      <td>0.714286</td>\n",
       "      <td>0.741935</td>\n",
       "      <td>0.000145</td>\n",
       "      <td>0.000063</td>\n",
       "      <td>0.014548</td>\n",
       "      <td>0.007267</td>\n",
       "    </tr>\n",
       "    <tr>\n",
       "      <th>4</th>\n",
       "      <td>0.000288</td>\n",
       "      <td>0.000228</td>\n",
       "      <td>0.955556</td>\n",
       "      <td>1.000000</td>\n",
       "      <td>entropy</td>\n",
       "      <td>14</td>\n",
       "      <td>7</td>\n",
       "      <td>{'criterion': 'entropy', 'max_depth': 14, 'min...</td>\n",
       "      <td>1</td>\n",
       "      <td>0.9375</td>\n",
       "      <td>1.000000</td>\n",
       "      <td>0.933333</td>\n",
       "      <td>1.000000</td>\n",
       "      <td>1.000000</td>\n",
       "      <td>1.000000</td>\n",
       "      <td>0.000023</td>\n",
       "      <td>0.000011</td>\n",
       "      <td>0.029918</td>\n",
       "      <td>0.000000</td>\n",
       "    </tr>\n",
       "  </tbody>\n",
       "</table>\n",
       "</div>"
      ],
      "text/plain": [
       "   mean_fit_time  mean_score_time  mean_test_score  mean_train_score  \\\n",
       "0       0.000518         0.000348         0.733333          0.733136   \n",
       "1       0.000512         0.000590         0.733333          0.733136   \n",
       "2       0.000421         0.000315         0.955556          1.000000   \n",
       "3       0.000503         0.000392         0.733333          0.733136   \n",
       "4       0.000288         0.000228         0.955556          1.000000   \n",
       "\n",
       "  param_criterion param_max_depth param_min_samples_leaf  \\\n",
       "0         entropy              12                     13   \n",
       "1            gini              10                     12   \n",
       "2         entropy              16                      1   \n",
       "3            gini               2                     13   \n",
       "4         entropy              14                      7   \n",
       "\n",
       "                                              params  rank_test_score  \\\n",
       "0  {'criterion': 'entropy', 'max_depth': 12, 'min...                9   \n",
       "1  {'criterion': 'gini', 'max_depth': 10, 'min_sa...                9   \n",
       "2  {'criterion': 'entropy', 'max_depth': 16, 'min...                1   \n",
       "3  {'criterion': 'gini', 'max_depth': 2, 'min_sam...                9   \n",
       "4  {'criterion': 'entropy', 'max_depth': 14, 'min...                1   \n",
       "\n",
       "   split0_test_score  split0_train_score  split1_test_score  \\\n",
       "0             0.7500            0.724138           0.733333   \n",
       "1             0.7500            0.724138           0.733333   \n",
       "2             0.9375            1.000000           0.933333   \n",
       "3             0.7500            0.724138           0.733333   \n",
       "4             0.9375            1.000000           0.933333   \n",
       "\n",
       "   split1_train_score  split2_test_score  split2_train_score  std_fit_time  \\\n",
       "0            0.733333           0.714286            0.741935      0.000051   \n",
       "1            0.733333           0.714286            0.741935      0.000065   \n",
       "2            1.000000           1.000000            1.000000      0.000056   \n",
       "3            0.733333           0.714286            0.741935      0.000145   \n",
       "4            1.000000           1.000000            1.000000      0.000023   \n",
       "\n",
       "   std_score_time  std_test_score  std_train_score  \n",
       "0        0.000074        0.014548         0.007267  \n",
       "1        0.000243        0.014548         0.007267  \n",
       "2        0.000025        0.029918         0.000000  \n",
       "3        0.000063        0.014548         0.007267  \n",
       "4        0.000011        0.029918         0.000000  "
      ]
     },
     "metadata": {},
     "output_type": "display_data"
    }
   ],
   "source": [
    "from sklearn.tree import DecisionTreeClassifier\n",
    "from sklearn.model_selection import RandomizedSearchCV\n",
    "from scipy.stats import randint\n",
    "\n",
    "rand_param = {  \n",
    "    'max_depth': randint(1, 20),\n",
    "    'criterion': ['gini', 'entropy'],\n",
    "    'min_samples_leaf': randint(1, 20)\n",
    "}\n",
    "\n",
    "\n",
    "rand_sr = RandomizedSearchCV(estimator=DecisionTreeClassifier(), \n",
    "                             param_distributions = rand_param, \n",
    "                             random_state=1, \n",
    "                             n_iter=20, \n",
    "                             cv=3, \n",
    "                             n_jobs=-1,\n",
    "                             scoring='accuracy',\n",
    "                             iid=True,\n",
    "                             return_train_score=True)\n",
    "\n",
    "rand_sr.fit(X_train, y_train)  \n",
    "\n",
    "print ('meilleur score ',rand_sr.best_score_,'\\n')\n",
    "print ('meilleurs paramètres', rand_sr.best_params_,'\\n')\n",
    "print ('meilleur estimateur',rand_sr.best_estimator_,'\\n')\n",
    "\n",
    "# convertion en DataFrame\n",
    "results = pd.DataFrame(rand_sr.cv_results_) \n",
    "# Affichage des 5 premières lignes\n",
    "display(results.head())\n",
    "\n"
   ]
  },
  {
   "cell_type": "markdown",
   "metadata": {},
   "source": [
    "## Gridsearch et plusieurs classifieurs"
   ]
  },
  {
   "cell_type": "markdown",
   "metadata": {},
   "source": [
    "Il est tout à fait possible d'utiliser Gridsearch avec plusieurs classifieurs. Il suffit pour cela d'initaliser les classifiers dans un biblitothèse et faire de même pour les paramètres."
   ]
  },
  {
   "cell_type": "code",
   "execution_count": 34,
   "metadata": {},
   "outputs": [],
   "source": [
    "\n",
    "from sklearn.tree import DecisionTreeClassifier\n",
    "from sklearn.neighbors import KNeighborsClassifier\n",
    "from sklearn.svm import SVC\n",
    "\n",
    "classifiers = {\n",
    "    'KNeighborsClassifier': KNeighborsClassifier(),\n",
    "    'DecisionTreeClassifier': DecisionTreeClassifier(),\n",
    "    'SVC': SVC()\n",
    "}\n",
    "\n",
    "params = {'KNeighborsClassifier' : [{'n_neighbors': list(range(1,15))},\n",
    "    {'metric': ['minkowski','euclidean','manhattan']}],\n",
    "           'DecisionTreeClassifier': [{'max_depth': [1,2,3,4,5,6,7,8,9,10]},\n",
    "    {'criterion': ['gini', 'entropy']},\n",
    "    {'min_samples_leaf': [1,2,3,4,5,6,7,8,9,10]}],\n",
    "       'SVC':[{'C': [0.001, 0.01, 0.1, 1, 10], \n",
    "    'gamma' : [0.001, 0.01, 0.1, 1], \n",
    "    'kernel': ['linear','rbf']}]  }\n",
    "\n"
   ]
  },
  {
   "cell_type": "code",
   "execution_count": 35,
   "metadata": {},
   "outputs": [
    {
     "name": "stdout",
     "output_type": "stream",
     "text": [
      "Le meilleur resultat : \n",
      "\n",
      "Classifier :  KNeighborsClassifier  score 1.00  avec  KNeighborsClassifier(algorithm='auto', leaf_size=30, metric='minkowski',\n",
      "           metric_params=None, n_jobs=None, n_neighbors=1, p=2,\n",
      "           weights='uniform') \n",
      "\n",
      "Tous les résultats : \n",
      "\n",
      "Classifier :  KNeighborsClassifier  score 1.00  avec  KNeighborsClassifier(algorithm='auto', leaf_size=30, metric='minkowski',\n",
      "           metric_params=None, n_jobs=None, n_neighbors=1, p=2,\n",
      "           weights='uniform') \n",
      "\n",
      "Classifier :  SVC  score 1.00  avec  SVC(C=1, cache_size=200, class_weight=None, coef0=0.0,\n",
      "  decision_function_shape='ovr', degree=3, gamma=0.001, kernel='linear',\n",
      "  max_iter=-1, probability=False, random_state=None, shrinking=True,\n",
      "  tol=0.001, verbose=False) \n",
      "\n",
      "Classifier :  DecisionTreeClassifier  score 0.98  avec  DecisionTreeClassifier(class_weight=None, criterion='gini', max_depth=2,\n",
      "            max_features=None, max_leaf_nodes=None,\n",
      "            min_impurity_decrease=0.0, min_impurity_split=None,\n",
      "            min_samples_leaf=1, min_samples_split=2,\n",
      "            min_weight_fraction_leaf=0.0, presort=False, random_state=None,\n",
      "            splitter='best') \n",
      "\n"
     ]
    }
   ],
   "source": [
    "class Result:\n",
    "     def __init__(self,name, score, parameters):\n",
    "         self.name = name\n",
    "         self.score = score\n",
    "         self.parameters = parameters\n",
    "     def __repr__(self):\n",
    "         return repr((self.name, self.score, self.parameters))\n",
    "\n",
    "       \n",
    "results = []\n",
    "for key,value in classifiers.items():\n",
    "    gd_sr = GridSearchCV(estimator=value,  \n",
    "                     param_grid=params[key],\n",
    "                     scoring='accuracy',\n",
    "                     cv=5,\n",
    "                     n_jobs=1,\n",
    "                     iid=True)\n",
    "    gd_sr.fit(X_train, y_train)  \n",
    "    result=Result(key,gd_sr.best_score_,gd_sr.best_estimator_)\n",
    "    results.append(result)   \n",
    "    \n",
    "    \n",
    "    \n",
    "results=sorted(results, key=lambda result: result.score, reverse=True) \n",
    "\n",
    "print ('Le meilleur resultat : \\n')\n",
    "print ('Classifier : ',results[0].name, \n",
    "       ' score %0.2f' %results[0].score, \n",
    "       ' avec ',results[0].parameters,'\\n')\n",
    "\n",
    "print ('Tous les résultats : \\n')\n",
    "for result in results:\n",
    "    print ('Classifier : ',result.name, \n",
    "           ' score %0.2f' %result.score, \n",
    "           ' avec ',result.parameters,'\\n')\n",
    "    \n"
   ]
  },
  {
   "cell_type": "markdown",
   "metadata": {},
   "source": [
    "## Les pipelines "
   ]
  },
  {
   "cell_type": "markdown",
   "metadata": {},
   "source": [
    "Il peut arriver que différentes combinaisons de pré-traitements puissent être utilisées. Par exemple il est possible d'utiliser du changement d'échelle, du PCA (projection sur un nombre différent de dimensions), de faire du remplacement de valeurs manquantes ...  \n",
    "\n",
    "L'objectif du pipeline est de pouvoir regrouper l'ensemble de ces prétraitements et de pouvoir les faire suivre par le classifier.\n",
    "Le principe consiste à d'abord mettre la chaîne de pré-traitement, d'ensuite mettre le classifier et d'utiliser directement le pipeline.\n",
    "\n",
    "** Attention ** les pipelines sont très importants lorsque l'on sauvegarde un modèle. En effet comme ils prennent en compte les pré-traitements tout est sauvegardé. Cela veut dire que dans le cas de nouvelles données à évaluer avec un modèle lors de la prédiction les données seront automatiquement transformées. (Voir partie utiliser de nouvelles données plus bas).\n",
    "\n",
    "L'exemple suivant illustre un pipeline où un standard scaling est réalisé puis un PCA et enfin un DecisionTree est appliqué."
   ]
  },
  {
   "cell_type": "code",
   "execution_count": 36,
   "metadata": {},
   "outputs": [
    {
     "name": "stdout",
     "output_type": "stream",
     "text": [
      "Création du pipeline \n",
      "\n",
      "\n",
      " accuracy: 0.9142857142857143 \n",
      "\n"
     ]
    }
   ],
   "source": [
    "from sklearn.model_selection import train_test_split\n",
    "from sklearn.preprocessing import StandardScaler\n",
    "from sklearn.decomposition import PCA\n",
    "from sklearn.pipeline import Pipeline\n",
    "from sklearn.tree import DecisionTreeClassifier\n",
    "\n",
    "from sklearn.preprocessing import LabelEncoder\n",
    "\n",
    "import pandas as pd \n",
    "from sklearn.model_selection import train_test_split \n",
    "from sklearn.metrics import accuracy_score\n",
    "url = \"https://archive.ics.uci.edu/ml/machine-learning-databases/iris/iris.data\"\n",
    "names = ['SepalLengthCm', 'SepalWidthCm', \n",
    "         'PetalLengthCm', 'PetalWidthCm', 'Species']\n",
    "df = pd.read_csv(url, names=names)\n",
    "\n",
    "#transformation de Species en float pour StantardScaler\n",
    "class_label_encoder = LabelEncoder()\n",
    "df['Species']=class_label_encoder.fit_transform(df['Species'].values)\n",
    "\n",
    "\n",
    "array = df.values\n",
    "X = array[:,0:4] \n",
    "y = array[:,4]\n",
    "\n",
    "\n",
    "print ('Création du pipeline \\n')\n",
    "pipeline = Pipeline([('scl', StandardScaler()),\n",
    "                    ('pca', PCA(n_components=2)),\n",
    "                    ('clf', DecisionTreeClassifier(random_state=42))])\n",
    "\n",
    "validation_size=0.3 #30% du jeu de données pour le test\n",
    "\n",
    "testsize= 1-validation_size\n",
    "seed=30\n",
    "X_train,X_test,y_train,y_test=train_test_split(X, y, \n",
    "                                               train_size=validation_size, \n",
    "                                               random_state=seed,\n",
    "                                               test_size=testsize)\n",
    "\n",
    "\n",
    "pipeline.fit(X_train, y_train)\n",
    "result = pipeline.predict(X_test)\n",
    "\n",
    "print('\\n accuracy:',accuracy_score(result, y_test),'\\n')\n"
   ]
  },
  {
   "cell_type": "markdown",
   "metadata": {},
   "source": [
    "Il est possible d'utiliser GridSearch pour chercher les meilleures valeurs dans un pré-traitement."
   ]
  },
  {
   "cell_type": "code",
   "execution_count": 37,
   "metadata": {},
   "outputs": [
    {
     "name": "stdout",
     "output_type": "stream",
     "text": [
      "Création du pipeline \n",
      "\n",
      "meilleur score  0.9555555555555556 \n",
      "\n",
      "meilleurs paramètres {'pca__n_components': 2} \n",
      "\n",
      "meilleur estimateur Pipeline(memory=None,\n",
      "     steps=[('pca', PCA(copy=True, iterated_power='auto', n_components=2, random_state=None,\n",
      "  svd_solver='auto', tol=0.0, whiten=False)), ('clf', DecisionTreeClassifier(class_weight=None, criterion='gini', max_depth=None,\n",
      "            max_features=None, max_leaf_nodes=None,\n",
      "            min_impurity_decrease=0.0, min_impurity_split=None,\n",
      "            min_samples_leaf=1, min_samples_split=2,\n",
      "            min_weight_fraction_leaf=0.0, presort=False, random_state=42,\n",
      "            splitter='best'))]) \n",
      "\n"
     ]
    }
   ],
   "source": [
    "from sklearn.model_selection import GridSearchCV\n",
    "print ('Création du pipeline \\n')\n",
    "pipeline = Pipeline([('pca', PCA()),\n",
    "                    ('clf', DecisionTreeClassifier(random_state=42))])\n",
    "\n",
    "grid_param = {\n",
    "    'pca__n_components': [2,3]\n",
    "}\n",
    "\n",
    "\n",
    "gd_sr = GridSearchCV(pipeline,  \n",
    "                     param_grid=grid_param,\n",
    "                     scoring='accuracy',\n",
    "                     cv=5,\n",
    "                     n_jobs=1,\n",
    "                     iid=True,\n",
    "                    return_train_score=True)\n",
    "\n",
    "gd_sr.fit(X_train, y_train)  \n",
    "\n",
    "print ('meilleur score ',gd_sr.best_score_,'\\n')\n",
    "print ('meilleurs paramètres', gd_sr.best_params_,'\\n')\n",
    "print ('meilleur estimateur',gd_sr.best_estimator_,'\\n')"
   ]
  },
  {
   "cell_type": "markdown",
   "metadata": {},
   "source": [
    "Ou bien de faire les deux en même temps. "
   ]
  },
  {
   "cell_type": "code",
   "execution_count": 38,
   "metadata": {},
   "outputs": [
    {
     "name": "stdout",
     "output_type": "stream",
     "text": [
      "meilleur score  0.9555555555555556 \n",
      "\n",
      "meilleurs paramètres {'pca__n_components': 2} \n",
      "\n",
      "meilleur estimateur Pipeline(memory=None,\n",
      "     steps=[('pca', PCA(copy=True, iterated_power='auto', n_components=2, random_state=None,\n",
      "  svd_solver='auto', tol=0.0, whiten=False)), ('clf', DecisionTreeClassifier(class_weight=None, criterion='gini', max_depth=None,\n",
      "            max_features=None, max_leaf_nodes=None,\n",
      "            min_impurity_decrease=0.0, min_impurity_split=None,\n",
      "            min_samples_leaf=1, min_samples_split=2,\n",
      "            min_weight_fraction_leaf=0.0, presort=False, random_state=None,\n",
      "            splitter='best'))]) \n",
      "\n"
     ]
    }
   ],
   "source": [
    "import pandas as pd \n",
    "from sklearn.model_selection import train_test_split \n",
    "from sklearn.metrics import accuracy_score\n",
    "url = \"https://archive.ics.uci.edu/ml/machine-learning-databases/iris/iris.data\"\n",
    "names = ['SepalLengthCm', 'SepalWidthCm', \n",
    "         'PetalLengthCm', 'PetalWidthCm', 'Species']\n",
    "df = pd.read_csv(url, names=names)\n",
    "\n",
    "#transformation de Species en float pour StantardScaler\n",
    "class_label_encoder = LabelEncoder()\n",
    "df['Species']=class_label_encoder.fit_transform(df['Species'].values)\n",
    "\n",
    "\n",
    "array = df.values\n",
    "X = array[:,0:4] \n",
    "y = array[:,4]\n",
    "\n",
    "pipeline = Pipeline([('pca', PCA()),\n",
    "                    ('clf', DecisionTreeClassifier())])\n",
    "\n",
    "\n",
    "\n",
    "grid_param = [{'pca__n_components': [2,3]},\n",
    "                {'clf': [DecisionTreeClassifier()],\n",
    "                 'clf__max_depth': [1,2,3,4,5,6,7,8,9,10],\n",
    "                 'clf__criterion': ['gini', 'entropy'],\n",
    "                 'clf__min_samples_leaf': [1,2,3,4,5,6,7,8,9,10]\n",
    "                }]\n",
    "\n",
    "\n",
    "\n",
    "gd_sr = GridSearchCV(estimator=pipeline,  \n",
    "                     param_grid=grid_param,\n",
    "                     scoring='accuracy',\n",
    "                     cv=5,\n",
    "                     n_jobs=-1,\n",
    "                    iid=True,\n",
    "                    return_train_score=True)\n",
    "\n",
    "gd_sr.fit(X_train, y_train)  \n",
    "print ('meilleur score ',gd_sr.best_score_,'\\n')\n",
    "print ('meilleurs paramètres', gd_sr.best_params_,'\\n')\n",
    "print ('meilleur estimateur',gd_sr.best_estimator_,'\\n')"
   ]
  },
  {
   "cell_type": "markdown",
   "metadata": {},
   "source": [
    "## Sauvegarder le modèle appris "
   ]
  },
  {
   "cell_type": "markdown",
   "metadata": {},
   "source": [
    "Une fois un modèle appris il est possible de le sauvegarder pour pouvoir lui appliquer d'autres données à prédire. Deux librairies existent : **pickle** et **joblib**.    \n",
    "Pickle est la librairie Python standard pour sérialiser-désérialiser des objets. standard Python tool for object (de)serialization. Joblib propose également de sérialiser-désérialiser des objets lorsque ceux-ci sont très volumineux.   \n",
    "Le choix des deux dépend des usages.  "
   ]
  },
  {
   "cell_type": "code",
   "execution_count": 39,
   "metadata": {},
   "outputs": [
    {
     "data": {
      "text/plain": [
       "GaussianNB(priors=None, var_smoothing=1e-09)"
      ]
     },
     "execution_count": 39,
     "metadata": {},
     "output_type": "execute_result"
    }
   ],
   "source": [
    "#preparation des données\n",
    "import pandas as pd \n",
    "from sklearn.model_selection import train_test_split \n",
    "from sklearn.metrics import accuracy_score\n",
    "from sklearn.naive_bayes import GaussianNB\n",
    "url = \"https://archive.ics.uci.edu/ml/machine-learning-databases/iris/iris.data\"\n",
    "names = ['SepalLengthCm', 'SepalWidthCm', \n",
    "         'PetalLengthCm', 'PetalWidthCm', 'Species']\n",
    "df = pd.read_csv(url, names=names)\n",
    "array = df.values\n",
    "X = array[:,0:4] \n",
    "y = array[:,4]\n",
    "\n",
    "validation_size=0.3 #30% du jeu de données pour le test\n",
    "\n",
    "testsize= 1-validation_size\n",
    "seed=30\n",
    "X_train,X_test,y_train,y_test=train_test_split(X, \n",
    "                                               y, \n",
    "                                               train_size=validation_size, \n",
    "                                               random_state=seed,\n",
    "                                               test_size=testsize)\n",
    "\n",
    "clf = GaussianNB()\n",
    "clf.fit(X_train, y_train)\n"
   ]
  },
  {
   "cell_type": "markdown",
   "metadata": {},
   "source": [
    "**pickle**"
   ]
  },
  {
   "cell_type": "markdown",
   "metadata": {},
   "source": [
    "Pour sérialiser et sauvegarder le modèle appris :"
   ]
  },
  {
   "cell_type": "code",
   "execution_count": 40,
   "metadata": {},
   "outputs": [],
   "source": [
    "import pickle\n",
    "filename = 'pkl_modelNB.sav'\n",
    "pickle.dump(clf, open(filename, 'wb'))"
   ]
  },
  {
   "cell_type": "markdown",
   "metadata": {},
   "source": [
    "Pour utiliser le modèle sauvegardé : "
   ]
  },
  {
   "cell_type": "code",
   "execution_count": 41,
   "metadata": {},
   "outputs": [
    {
     "name": "stdout",
     "output_type": "stream",
     "text": [
      "Modèle chargé GaussianNB(priors=None, var_smoothing=1e-09) \n",
      "\n",
      "\n",
      " accuracy:\n",
      "\n",
      "0.9428571428571428 \n",
      "\n",
      "\n",
      " matrice de confusion \n",
      " [[34  0  0]\n",
      " [ 0 33  5]\n",
      " [ 0  1 32]]\n",
      "\n",
      "                  precision    recall  f1-score   support\n",
      "\n",
      "    Iris-setosa       1.00      1.00      1.00        34\n",
      "Iris-versicolor       0.97      0.87      0.92        38\n",
      " Iris-virginica       0.86      0.97      0.91        33\n",
      "\n",
      "      micro avg       0.94      0.94      0.94       105\n",
      "      macro avg       0.95      0.95      0.94       105\n",
      "   weighted avg       0.95      0.94      0.94       105\n",
      "\n",
      "\n",
      "La prédiction du modèle pour [ 5.0,  3.6,  1.4,  0.2] est ['Iris-setosa']\n"
     ]
    }
   ],
   "source": [
    "from sklearn.metrics import accuracy_score\n",
    "from sklearn.metrics import confusion_matrix\n",
    "from sklearn.metrics import classification_report\n",
    "\n",
    "clf_loaded = pickle.load(open(filename, 'rb'))\n",
    "print ('Modèle chargé',clf_loaded,'\\n')\n",
    "result = clf_loaded.predict(X_test)\n",
    "\n",
    "print('\\n accuracy:\\n')\n",
    "print (accuracy_score(result, y_test),'\\n')\n",
    "\n",
    "conf = confusion_matrix(y_test, result)\n",
    "print ('\\n matrice de confusion \\n',conf)\n",
    "print ('\\n',classification_report(y_test, result))\n",
    "\n",
    "result = clf_loaded.predict([[ 5.0,  3.6,  1.4,  0.2]])\n",
    "print ('\\nLa prédiction du modèle pour [ 5.0,  3.6,  1.4,  0.2] est', \n",
    "       result)"
   ]
  },
  {
   "cell_type": "markdown",
   "metadata": {},
   "source": [
    "**joblib**"
   ]
  },
  {
   "cell_type": "markdown",
   "metadata": {},
   "source": [
    "Pour sérialiser et sauvegarder le modèle appris :"
   ]
  },
  {
   "cell_type": "code",
   "execution_count": 42,
   "metadata": {},
   "outputs": [
    {
     "data": {
      "text/plain": [
       "['job_modelNB.sav']"
      ]
     },
     "execution_count": 42,
     "metadata": {},
     "output_type": "execute_result"
    }
   ],
   "source": [
    "from sklearn.externals import joblib\n",
    "filename = 'job_modelNB.sav'\n",
    "joblib.dump(clf, filename)"
   ]
  },
  {
   "cell_type": "markdown",
   "metadata": {},
   "source": [
    "Pour utiliser le modèle sauvegardé :"
   ]
  },
  {
   "cell_type": "code",
   "execution_count": 43,
   "metadata": {},
   "outputs": [
    {
     "name": "stdout",
     "output_type": "stream",
     "text": [
      "GaussianNB(priors=None, var_smoothing=1e-09)\n",
      "\n",
      " accuracy:\n",
      "\n",
      "0.9428571428571428 \n",
      "\n"
     ]
    }
   ],
   "source": [
    "from sklearn.metrics import accuracy_score\n",
    "from sklearn.metrics import confusion_matrix\n",
    "from sklearn.metrics import classification_report\n",
    "\n",
    "clf_loaded = joblib.load(filename)\n",
    "print (clf_loaded)\n",
    "#result = clf_loaded.score(X_test, y_test)\n",
    "#print(result)\n",
    "\n",
    "result = clf_loaded.predict(X_test)\n",
    "\n",
    "print('\\n accuracy:\\n')\n",
    "print (accuracy_score(result, y_test),'\\n')\n",
    "\n"
   ]
  },
  {
   "cell_type": "markdown",
   "metadata": {},
   "source": [
    "## Utiliser de nouvelles données "
   ]
  },
  {
   "cell_type": "markdown",
   "metadata": {},
   "source": [
    "A partir d'un modèle sauvegardé, il est donc possible d'appliquer la fonction predict pour connaître la prédiction du modèle.   \n",
    "\n",
    "Dans le cas de nouvelles données il faut faire attention car des pré-traitements ont sans doute été effectués avec les données initiales (changement d'échelle, normalisation, etc) et une matrice a été obtenue pour apprendre un modèle.   \n",
    "\n",
    "Il est impératif que les nouvelles données suivent le même traitement. Nous présentons par la suite un exemple d'utilisation à l'aide des données IRIS. Cette fois-ci nous utilisons iris qui est disponible directement dans scikit learn."
   ]
  },
  {
   "cell_type": "code",
   "execution_count": 44,
   "metadata": {},
   "outputs": [],
   "source": [
    "from sklearn import svm\n",
    "from sklearn import datasets\n",
    "from sklearn import preprocessing\n",
    "from sklearn.metrics import accuracy_score\n",
    "from sklearn.model_selection import train_test_split \n",
    "from sklearn.metrics import accuracy_score\n",
    "import pickle\n",
    "from sklearn.linear_model import SGDClassifier\n",
    "from sklearn.pipeline import Pipeline\n",
    "from sklearn.feature_extraction.text import TfidfTransformer\n",
    "from sklearn.metrics import accuracy_score, confusion_matrix\n",
    "from time import time\n",
    "from sklearn.metrics import classification_report\n",
    "\n"
   ]
  },
  {
   "cell_type": "markdown",
   "metadata": {},
   "source": [
    "Lecture de la base iris et utilisation de SVM comme classifieur"
   ]
  },
  {
   "cell_type": "code",
   "execution_count": 45,
   "metadata": {},
   "outputs": [],
   "source": [
    "clf = svm.SVC(gamma='scale')\n",
    "iris = datasets.load_iris()\n"
   ]
  },
  {
   "cell_type": "markdown",
   "metadata": {},
   "source": [
    "Dans un premier temps nous ajoutons du bruit dans la base iris en mettant pour trois colonnes des valeurs supérieures à 1000. L'objectif ici est de montrer que les valeurs sont trop différentes pour obtenir de bons résultats de classification. Nous avons vu (Ingénierie des données) que SVM était très sensible à la standardisation."
   ]
  },
  {
   "cell_type": "code",
   "execution_count": 46,
   "metadata": {},
   "outputs": [],
   "source": [
    "for i in range (len(iris.data)):\n",
    "    for j in range (0,2):\n",
    "        val = iris.data[i][j]\n",
    "        value = val*1000\n",
    "        iris.data[i][j]=value"
   ]
  },
  {
   "cell_type": "markdown",
   "metadata": {},
   "source": [
    "Définition de X et de y"
   ]
  },
  {
   "cell_type": "code",
   "execution_count": 47,
   "metadata": {},
   "outputs": [],
   "source": [
    "X = iris.data\n",
    "y = iris.target"
   ]
  },
  {
   "cell_type": "code",
   "execution_count": 48,
   "metadata": {},
   "outputs": [],
   "source": [
    "validation_size=0.3 #30% du jeu de données pour le test\n",
    "\n",
    "testsize= 1-validation_size\n",
    "seed=30\n",
    "X_train,X_test,y_train,y_test=train_test_split(X, \n",
    "                                               y, \n",
    "                                               train_size=validation_size, \n",
    "                                               random_state=seed,\n",
    "                                               test_size=testsize)"
   ]
  },
  {
   "cell_type": "markdown",
   "metadata": {},
   "source": [
    "Fonction de comptage pour voir combien d'instances sont mal classés après la classification."
   ]
  },
  {
   "cell_type": "code",
   "execution_count": 49,
   "metadata": {},
   "outputs": [],
   "source": [
    "def cpt_mal_classes(y_test,result):\n",
    "    nb=0\n",
    "    for i in range(len(y_test)):\n",
    "        if y_test[i] != result [i]:\n",
    "            nb=nb+1\n",
    "    return nb       \n",
    "\n",
    "def print_nb_classes (taille,nb):\n",
    "    print (\"Taille des données\",\n",
    "       taille, \n",
    "       \" mal classés\",nb)    "
   ]
  },
  {
   "cell_type": "markdown",
   "metadata": {},
   "source": [
    "Première classification avec SVM. L'objectif ici est de montrer que SVM est très sensible à la standardisation. Il suffit de regarder l'accuracy pour s'en convaincre."
   ]
  },
  {
   "cell_type": "code",
   "execution_count": 50,
   "metadata": {},
   "outputs": [
    {
     "name": "stdout",
     "output_type": "stream",
     "text": [
      "Taille des données 105  mal classés 46\n",
      "\n",
      " accuracy : 0.5619047619047619 \n",
      "\n"
     ]
    }
   ],
   "source": [
    "clf.fit(X_train, y_train)\n",
    "\n",
    "from sklearn.metrics import accuracy_score\n",
    "\n",
    "result = clf.predict(X_test)\n",
    "nb=cpt_mal_classes(y_test,result)\n",
    "taille=len(y_test)\n",
    "print_nb_classes (len(y_test),nb)\n",
    "print('\\n accuracy :', accuracy_score(result, y_test),'\\n')\n"
   ]
  },
  {
   "cell_type": "markdown",
   "metadata": {},
   "source": [
    "Par la suite nous allons donc utiliser MinMaxScaler () pour standardiser les données.   \n",
    "\n",
    "Nous sauvegardons également le jeu de test (X_save=X_test.copy()). L'objectif est de sauvegarder le modèle pour évaluer en le rechargeant si le nombre d'instances bien classées est le même que celui qui a été prédit lors de l'apprentissage. "
   ]
  },
  {
   "cell_type": "code",
   "execution_count": 51,
   "metadata": {},
   "outputs": [],
   "source": [
    "validation_size=0.3 #30% du jeu de données pour le test\n",
    "\n",
    "testsize= 1-validation_size\n",
    "seed=30\n",
    "X_train,X_test,y_train,y_test=train_test_split(X, \n",
    "                                               y, \n",
    "                                               train_size=validation_size, \n",
    "                                               random_state=seed,\n",
    "                                               test_size=testsize)"
   ]
  },
  {
   "cell_type": "markdown",
   "metadata": {},
   "source": [
    "Standadisation des données et sauvegarde du jeu de test avant le passage par la standardisation. La standardisation a été faite car les valeurs du jeu de données ne permettait pas de pouvoir utiliser le classifieur directement. En sauvegardant le jeu avant la standardisation nous simulons le fait que nous arrivons avec un nouveau jeu de données d'iris."
   ]
  },
  {
   "cell_type": "code",
   "execution_count": 52,
   "metadata": {},
   "outputs": [],
   "source": [
    "scaler = preprocessing.MinMaxScaler()\n",
    "X_train = scaler.fit_transform(X_train)\n",
    "X_save=X_test.copy()\n",
    "X_test = scaler.fit_transform(X_test)"
   ]
  },
  {
   "cell_type": "code",
   "execution_count": 53,
   "metadata": {},
   "outputs": [
    {
     "name": "stdout",
     "output_type": "stream",
     "text": [
      "Taille des données 105  mal classés 5\n",
      "\n",
      " accuracy : 0.9523809523809523 \n",
      "\n"
     ]
    }
   ],
   "source": [
    "clf.fit(X_train, y_train)\n",
    "\n",
    "result = clf.predict(X_test)\n",
    "nb=cpt_mal_classes(y_test,result)\n",
    "taille=len(y_test)\n",
    "print_nb_classes (len(y_test),nb)\n",
    "print('\\n accuracy :', accuracy_score(result, y_test),'\\n')"
   ]
  },
  {
   "cell_type": "markdown",
   "metadata": {},
   "source": [
    "Sauvegarde du modèle appris"
   ]
  },
  {
   "cell_type": "code",
   "execution_count": 54,
   "metadata": {},
   "outputs": [
    {
     "name": "stdout",
     "output_type": "stream",
     "text": [
      "\n",
      "Sauvegarde du modèle\n"
     ]
    }
   ],
   "source": [
    "print(\"\\nSauvegarde du modèle\") \n",
    "filename = 'firstmodel.pkl'\n",
    "pickle.dump(clf, open(filename, 'wb'))\n",
    "\n"
   ]
  },
  {
   "cell_type": "markdown",
   "metadata": {},
   "source": [
    "Ouverture du modèle pour le tester. Ici nous reprenons le jeu de test qui n'a pas eu l'étape de standardisation comme nouvelles données, i.e. nous avons de nouveaux IRIS. Si le modèle est bien appris le nombre d'objets mal classés devrait être le même."
   ]
  },
  {
   "cell_type": "code",
   "execution_count": 55,
   "metadata": {},
   "outputs": [
    {
     "name": "stdout",
     "output_type": "stream",
     "text": [
      "Chargement du modèle \n",
      "\n",
      "Taille des données 105  mal classés 72\n"
     ]
    }
   ],
   "source": [
    "print (\"Chargement du modèle \\n\")\n",
    "filename = 'firstmodel.pkl'\n",
    "clf_loaded = pickle.load(open(filename, 'rb'))\n",
    "\n",
    "result=clf_loaded.predict(X_save)\n",
    "\n",
    "nb=cpt_mal_classes(y_test,result)\n",
    "taille=len(y_test)\n",
    "print_nb_classes (len(y_test),nb)"
   ]
  },
  {
   "cell_type": "markdown",
   "metadata": {},
   "source": [
    "Nous pouvons constater qu'il y a plus d'objets mal classés. Comme nous avons fait une standardisation dans les étapes précédentes celle là n'a pas pu être faite pour les nouvelles données. La standardisation doit donc être faite pour les nouvelles données mais elle nécessite de pouvoir récupérer les anciennes valeurs pour tout standardiser.   \n",
    "\n",
    "Les pipelines sont donc utiles\n",
    "pour pouvoir tout sauvegarder (l'étape de standardisation et l'application du modèle). "
   ]
  },
  {
   "cell_type": "code",
   "execution_count": 56,
   "metadata": {},
   "outputs": [
    {
     "name": "stdout",
     "output_type": "stream",
     "text": [
      "Taille des données 105  mal classés 5\n",
      "\n",
      " accuracy: 0.9523809523809523 \n",
      "\n",
      "\n",
      "Sauvegarde du pipeline \n"
     ]
    }
   ],
   "source": [
    "pipeline = Pipeline([('vect', preprocessing.MinMaxScaler()),\n",
    "                ('clf', svm.SVC(gamma='scale')),\n",
    "               ])\n",
    "\n",
    "\n",
    "\n",
    "\n",
    "X=iris.data\n",
    "y=iris.target\n",
    "\n",
    "\n",
    "X_train,X_test,y_train,y_test=train_test_split(X, \n",
    "                                               y, \n",
    "                                               train_size=validation_size, \n",
    "                                               random_state=seed,\n",
    "                                               test_size=testsize)\n",
    "\n",
    "X_save=X_test.copy()\n",
    "\n",
    "pipeline.fit(X_train, y_train)\n",
    "\n",
    "result = pipeline.predict(X_test)\n",
    "\n",
    "nb=cpt_mal_classes(y_test,result)\n",
    "taille=len(y_test)\n",
    "print_nb_classes (len(y_test),nb)\n",
    "print('\\n accuracy:',accuracy_score(result, y_test),'\\n')\n",
    "\n",
    "\n",
    "print(\"\\nSauvegarde du pipeline \") \n",
    "filename = 'avecscaler.pkl'\n",
    "pickle.dump(pipeline, open(filename, 'wb'))"
   ]
  },
  {
   "cell_type": "code",
   "execution_count": 57,
   "metadata": {},
   "outputs": [
    {
     "name": "stdout",
     "output_type": "stream",
     "text": [
      "Chargement du modèle \n",
      "\n",
      "Taille des données 105  mal classés 5\n"
     ]
    }
   ],
   "source": [
    "print (\"Chargement du modèle \\n\")\n",
    "filename = 'avecscaler.pkl'\n",
    "clf_loaded = pickle.load(open(filename, 'rb'))\n",
    "\n",
    "result=clf_loaded.predict(X_save)\n",
    "nb=cpt_mal_classes(y_test,result)\n",
    "taille=len(y_test)\n",
    "print_nb_classes (len(y_test),nb)\n",
    "\n"
   ]
  },
  {
   "cell_type": "code",
   "execution_count": null,
   "metadata": {},
   "outputs": [],
   "source": [
    "**"
   ]
  }
 ],
 "metadata": {
  "kernelspec": {
   "display_name": "Python 3",
   "language": "python",
   "name": "python3"
  },
  "language_info": {
   "codemirror_mode": {
    "name": "ipython",
    "version": 3
   },
   "file_extension": ".py",
   "mimetype": "text/x-python",
   "name": "python",
   "nbconvert_exporter": "python",
   "pygments_lexer": "ipython3",
   "version": "3.6.4"
  },
  "toc": {
   "base_numbering": 1,
   "nav_menu": {},
   "number_sections": true,
   "sideBar": true,
   "skip_h1_title": false,
   "title_cell": "Table of Contents",
   "title_sidebar": "Contents",
   "toc_cell": false,
   "toc_position": {},
   "toc_section_display": true,
   "toc_window_display": false
  }
 },
 "nbformat": 4,
 "nbformat_minor": 2
}
