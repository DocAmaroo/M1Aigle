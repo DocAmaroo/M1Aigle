{
 "cells": [
  {
   "cell_type": "markdown",
   "metadata": {},
   "source": [
    "<H1>Visualisation des données</H1>"
   ]
  },
  {
   "cell_type": "markdown",
   "metadata": {},
   "source": [
    "Il existe différentes librairies qui permettent de visualiser les données contenues dans un dataframe. Par exemple Matplotlib ou Seaborn.\n"
   ]
  },
  {
   "cell_type": "markdown",
   "metadata": {},
   "source": [
    "## Utilisation de Matplotlib"
   ]
  },
  {
   "cell_type": "markdown",
   "metadata": {},
   "source": [
    "Il faut tout d'abord importer la librairie maplotlib"
   ]
  },
  {
   "cell_type": "code",
   "execution_count": null,
   "metadata": {},
   "outputs": [],
   "source": [
    "import matplotlib.pyplot as plt"
   ]
  },
  {
   "cell_type": "markdown",
   "metadata": {},
   "source": [
    "La librairie permet via la commande plot d'afficher différentes visualization. \n",
    "\n",
    "df.plot(x=None, y=None, kind='line', ax=None, subplots=False, sharex=None, sharey=False, layout=None, figsize=None, use_index=True, title=None, grid=None, legend=True, style=None, logx=False, logy=False, loglog=False, xticks=None, yticks=None, xlim=None, ylim=None, rot=None, fontsize=None, colormap=None, table=False, yerr=None, xerr=None, secondary_y=False, sort_columns=False, **kwds)\n",
    "\n",
    "Parmi les principales :  \n",
    "*kind* permet de spécifier le type de visualisation avec les valeurs dans :  \n",
    "    ‘line’ : line plot (default)  \n",
    "    ‘bar’ : vertical bar plot  \n",
    "    ‘barh’ : horizontal bar plot  \n",
    "    ‘hist’ : histogram  \n",
    "    ‘box’ : boxplot  \n",
    "    ‘kde’ : Kernel Density Estimation plot  \n",
    "    ‘density’ : same as ‘kde’  \n",
    "    ‘area’ : area plot  \n",
    "    ‘pie’ : pie plot  \n",
    "    ‘scatter’ : scatter plot  \n",
    "    ‘hexbin’ : hexbin plot  \n",
    "\n",
    "*subplot* permet de spécifier qu'il s'agit d'une figure imbriquée dans une figure  \n",
    "*figsize* pour spécifier la taille de la figure via un tuple (width, height) en inches  \n",
    "*title* pour mettre un titre à la figure\n",
    "\n",
    "Se reporter à la documentation officielle pour connaître la liste de toutes les options : \n",
    "https://pandas.pydata.org/pandas-docs/stable/generated/pandas.DataFrame.plot.html"
   ]
  },
  {
   "cell_type": "markdown",
   "metadata": {},
   "source": [
    "Quelques exemples à l'aide de la base IRIS"
   ]
  },
  {
   "cell_type": "code",
   "execution_count": null,
   "metadata": {},
   "outputs": [],
   "source": [
    "import pandas as pd \n",
    "url = \"https://archive.ics.uci.edu/ml/machine-learning-databases/iris/iris.data\"\n",
    "names = ['SepalLengthCm', 'SepalWidthCm', \n",
    "         'PetalLengthCm', 'PetalWidthCm', 'Species']\n",
    "\n",
    "df = pd.read_csv(url, names=names)\n",
    "# 5 premières lignes du fichier\n",
    "df.head()\n"
   ]
  },
  {
   "cell_type": "markdown",
   "metadata": {},
   "source": [
    "### Affichage pour un attribut \n"
   ]
  },
  {
   "cell_type": "markdown",
   "metadata": {},
   "source": [
    "Dans cette partie nous considérons chaque attribut indépendamment.  \n",
    "\n",
    "** Affichage des valeurs **  \n",
    "Pour avoir une première idée des données manipulées"
   ]
  },
  {
   "cell_type": "code",
   "execution_count": null,
   "metadata": {},
   "outputs": [],
   "source": [
    "#Affichage des différentes valeurs \n",
    "# remarque : ici nous considérons uniquement les valeurs numériques\n",
    "# kind = 'line' pour avoir des histogrammes\n",
    "# subplots= True pour afficher les différentes vues dans une seule figure\n",
    "# layout = (4,4) permet d'afficher les 4 figures sur la même ligne. \n",
    "# Par exemple layout=(2,2) affiche 2 figures sur une même ligne\n",
    "# figzize = (6,6) indique la taille en inch. \n",
    "# Attention en fonction du layout la taille ne sera pas prise en compte pour \n",
    "# pouvoir insérer toutes les figures sur une ligne (layout = (4,4))\n",
    "# sharex=False pour indiquer de mettre l'axe des x à chaque figure\n",
    "# title='Valeurs des données' pour donner un titre à la figure\n",
    "df.plot(kind='line', subplots=True, \n",
    "        layout=(2,2), figsize=(6,6),\n",
    "        sharex=False, title='Valeurs des données')\n",
    "plt.show()"
   ]
  },
  {
   "cell_type": "markdown",
   "metadata": {},
   "source": [
    "**Histogramme**  \n",
    "Les histogrammes permettent de se faire une première idée de la distribution des données. "
   ]
  },
  {
   "cell_type": "code",
   "execution_count": null,
   "metadata": {},
   "outputs": [],
   "source": [
    "# Affichage des histogrammes des différentes valeurs \n",
    "# kind = 'hist' pour avoir des histogrammes\n",
    "# subplots= True pour afficher les différentes vues dans une seule figure\n",
    "# layout = (4,4) permet d'afficher les 4 figures sur la même ligne. \n",
    "# Par exemple layout=(2,2) affiche 2 figures sur une même ligne\n",
    "# figzize = (6,6) indique la taille en inch. \n",
    "# Attention en fonction du layout la taille ne sera pas prise en compte pour \n",
    "# pouvoir insérer toutes les figures sur une ligne (layout = (4,4))\n",
    "# sharex=False pour indiquer de mettre l'axe des x à chaque figure\n",
    "# title='Histogramme' pour donner un titre à la figure\n",
    "df.plot(kind='hist', subplots=True, \n",
    "        layout=(2,2), figsize=(6,6),\n",
    "        sharex=False, title='Histogramme')\n",
    "plt.show()"
   ]
  },
  {
   "cell_type": "markdown",
   "metadata": {},
   "source": [
    "** Affichage des densités**  \n",
    "Pour avoir une vue de la densité sous la forme de courbes."
   ]
  },
  {
   "cell_type": "code",
   "execution_count": null,
   "metadata": {},
   "outputs": [],
   "source": [
    "df.plot(kind='density', \n",
    "        subplots=True, layout=(2,2), \n",
    "        figsize=(6,6),sharex=False, title='Density')\n",
    "plt.show()"
   ]
  },
  {
   "cell_type": "markdown",
   "metadata": {},
   "source": [
    "** Affichage des boîtes à moustache **  \n",
    "Les boîtes à moustache (boxplot) permettent d'avoir plus d'information sur la distribution de chaque attribut et notamment les outliers. Une boîte à moustache est un graphique simple composé d’un rectangle duquel deux droites sortent afin de représenter certains éléments des données :  \n",
    "La valeur centrale du graphique est la médiane (il existe autant de valeur supérieures qu’inférieures à cette valeur dans l’échantillon).  \n",
    "Les bords du rectangle sont les quartiles (Pour le bord inférieur, un quart des observations ont des valeurs plus petites et trois quart ont des valeurs plus grandes, le bord supérieur suit le même raisonnement).  \n",
    "Les extrémités des moustaches sont calculées en utilisant 1.5 fois l’espace interquartile (la distance entre le 1er et le 3ème quartile).  "
   ]
  },
  {
   "cell_type": "code",
   "execution_count": null,
   "metadata": {},
   "outputs": [],
   "source": [
    "df.plot(kind='box', subplots=True, \n",
    "        layout=(2,2), figsize=(6,6),\n",
    "        sharex=False, title='Box-plot')\n",
    "plt.show()"
   ]
  },
  {
   "cell_type": "markdown",
   "metadata": {},
   "source": [
    "**Diagramme circulaire**  \n",
    "Les diagrammes circulaires (pie chart) permettent de connaître une répartition de valeurs."
   ]
  },
  {
   "cell_type": "code",
   "execution_count": null,
   "metadata": {},
   "outputs": [],
   "source": [
    "# Species n'est pas une valeur numérique, ici on compte combien de valeurs (value.count)\n",
    "# fontsize pour changer la taille de la font\n",
    "# legend=True pour afficher la légende\n",
    "df['Species'].value_counts().plot(kind='pie', \n",
    "                                  figsize=(6,6),\n",
    "                                  title='Pie', \n",
    "                                  fontsize=11, \n",
    "                                  legend=True)\n",
    "plt.show()"
   ]
  },
  {
   "cell_type": "markdown",
   "metadata": {},
   "source": [
    "### Travailler avec plusieurs attributs"
   ]
  },
  {
   "cell_type": "markdown",
   "metadata": {},
   "source": [
    "** Correlations et carte de chaleur**  \n",
    "Il est possible via la fonction correlation de déterminer les corrélations qui existent entre les différents attributs. Les cartes de chaleur (heatmap) peuvent être utilisées pour mettre en évidence ces corrélations.\n"
   ]
  },
  {
   "cell_type": "code",
   "execution_count": null,
   "metadata": {},
   "outputs": [],
   "source": [
    "import numpy\n",
    "\n",
    "\n",
    "correlations = df.corr()\n",
    "# Affichage des valeurs de corrélation\n",
    "print (correlations)\n",
    "\n",
    "# Transformation des données de Species en données catégorielles\n",
    "# pour pouvoir calculer aussi les corrélations avec les autres\n",
    "from sklearn.preprocessing import LabelEncoder\n",
    "le = LabelEncoder()\n",
    "y=df['Species']\n",
    "le.fit(y)\n",
    "df['Species'] = le.transform(y)\n",
    "\n",
    "\n",
    "# Affichage de la matrice de corrélation\n",
    "fig = plt.figure(figsize=(10,10))\n",
    "# Partie à droite pour montrer les variations de valeurs\n",
    "ax = fig.add_subplot(111)\n",
    "# Détermine les valeurs maximales et minimales à afficher et le thème Blues\n",
    "cax = ax.matshow(correlations, vmin=-1, \n",
    "                 vmax=1, \n",
    "                 cmap=plt.cm.Blues)\n",
    "# Récupération des couleurs en fonctions des valeurs \n",
    "fig.colorbar(cax)\n",
    "# Le tableau principal \n",
    "# debute à 0, taille 5 (5 valeurs à afficher), largeur d'une colonne 1\n",
    "ticks = numpy.arange(0,5,1)\n",
    "# mise en place \n",
    "ax.set_xticks(ticks)\n",
    "ax.set_yticks(ticks)\n",
    "ax.set_xticklabels(names)\n",
    "ax.set_yticklabels(names)\n",
    "plt.show()\n",
    "# La diagonale est forcément la plus foncée"
   ]
  },
  {
   "cell_type": "markdown",
   "metadata": {},
   "source": [
    "** Nuages de points**  \n",
    "Ce nuage affiche les valeurs de deux variables. Elle est particulièrement utile pour savoir si deux valeurs sont fortement corrélés (ou inversement corrélées). Celles qui sont fortement corrélées peuvent être sans doute supprimées du jeu de données.  \n"
   ]
  },
  {
   "cell_type": "code",
   "execution_count": null,
   "metadata": {},
   "outputs": [],
   "source": [
    "#df.plot(kind='scatter', subplots=True, layout=(2,2), figsize=(6,6),sharex=False, title='Valeurs des données')\n",
    "# Pour deux attributs il faut préciser le x et le y\n",
    "url = \"https://archive.ics.uci.edu/ml/machine-learning-databases/iris/iris.data\"\n",
    "names = ['SepalLengthCm', 'SepalWidthCm', 'PetalLengthCm', 'PetalWidthCm', 'Species']\n",
    "\n",
    "df = pd.read_csv(url, names=names)\n",
    "df.plot(kind='scatter', x='SepalLengthCm', \n",
    "        y='SepalWidthCm',figsize=(6,6),\n",
    "        sharex=False, title='Scatter')\n",
    "plt.show()\n",
    "\n",
    "# Pour mettre en avant les différentes espèces\n",
    "ax=df[df.Species=='Iris-setosa'].plot(kind='scatter', \n",
    "                                    x='SepalLengthCm', \n",
    "                                    y='SepalWidthCm', \n",
    "                                    color='red', \n",
    "                                    label='setosa')\n",
    "df[df.Species=='Iris-versicolor'].plot(kind='scatter', \n",
    "                                    x='SepalLengthCm', \n",
    "                                    y='SepalWidthCm', \n",
    "                                    color='green', \n",
    "                                    label='versicolor', \n",
    "                                    ax=ax)\n",
    "df[df.Species=='Iris-virginica'].plot(kind='scatter', \n",
    "                                      x='SepalLengthCm', \n",
    "                                      y='SepalWidthCm', \n",
    "                                      color='blue', \n",
    "                                      label='virginica', \n",
    "                                      ax=ax)\n",
    "ax.set_title(\"Scatter\")\n"
   ]
  },
  {
   "cell_type": "markdown",
   "metadata": {},
   "source": [
    "** Scatter plot matrix**    \n",
    "Cette matrice affiche toutes les valeurs en croisant les variables deux à deux. \n",
    "\n",
    "Dans pandas il est possible d'utiliser la fonction scatter_matrix (voir https://pandas.pydata.org/pandas-docs/stable/generated/pandas.plotting.scatter_matrix.html) qui offre toutes les fonctionnalités pour afficher le contenu de toutes les valeurs de la matrice."
   ]
  },
  {
   "cell_type": "code",
   "execution_count": null,
   "metadata": {},
   "outputs": [],
   "source": [
    "from pandas.plotting import scatter_matrix\n",
    "# Pour afficher toute la matrice\n",
    "scatter_matrix(df,figsize=(10,10))\n",
    "plt.show()\n",
    "\n",
    "# Pour afficher la matrice mais avec les densités plutôt que des histogrammes\n",
    "scatter_matrix(df,figsize=(10,10), diagonal='kde')\n",
    "plt.show()"
   ]
  },
  {
   "cell_type": "markdown",
   "metadata": {},
   "source": [
    "## Utilisation de Seaborn "
   ]
  },
  {
   "cell_type": "markdown",
   "metadata": {},
   "source": [
    "Seaborn est une librairie plus récente développée au dessus de Maplotlib qui permet de pouvoir améliorer les visualisations. Une documentation complète est disponible : \n",
    "    https://seaborn.pydata.org.  \n",
    "    Il faut importer la librairie seaborn"
   ]
  },
  {
   "cell_type": "code",
   "execution_count": null,
   "metadata": {},
   "outputs": [],
   "source": [
    "import seaborn as sns\n",
    "import matplotlib.pyplot as plt"
   ]
  },
  {
   "cell_type": "code",
   "execution_count": null,
   "metadata": {},
   "outputs": [],
   "source": [
    "import pandas as pd \n",
    "url = \"https://archive.ics.uci.edu/ml/machine-learning-databases/iris/iris.data\"\n",
    "names = ['SepalLengthCm', 'SepalWidthCm', \n",
    "         'PetalLengthCm', 'PetalWidthCm', 'Species']\n",
    "\n",
    "df = pd.read_csv(url, names=names)\n",
    "# 5 premières lignes du fichier\n",
    "df.head()\n",
    "\n"
   ]
  },
  {
   "cell_type": "markdown",
   "metadata": {},
   "source": [
    "### Affichage pour un attribut "
   ]
  },
  {
   "cell_type": "markdown",
   "metadata": {},
   "source": [
    "**Nombre de valeurs d'un attribut**"
   ]
  },
  {
   "cell_type": "code",
   "execution_count": null,
   "metadata": {},
   "outputs": [],
   "source": [
    "sns.countplot(x='Species', data=df)"
   ]
  },
  {
   "cell_type": "markdown",
   "metadata": {},
   "source": [
    "**Histogramme**"
   ]
  },
  {
   "cell_type": "code",
   "execution_count": null,
   "metadata": {},
   "outputs": [],
   "source": [
    "# Pour avoir un fond blanc avec grille\n",
    "sns.set(style=\"whitegrid\")\n",
    "# Avec une ligne verticale pour montrer chaque observation dans une distribution\n",
    "sns.distplot(df[\"SepalLengthCm\"])\n"
   ]
  },
  {
   "cell_type": "code",
   "execution_count": null,
   "metadata": {},
   "outputs": [],
   "source": [
    "# Sans ligne verticale \n",
    "sns.distplot(df[\"SepalLengthCm\"], kde=False)"
   ]
  },
  {
   "cell_type": "code",
   "execution_count": null,
   "metadata": {},
   "outputs": [],
   "source": [
    "# En choissant uniquement une partie de la courbe \n",
    "sns.set(style=\"whitegrid\")\n",
    "\n",
    "ax=sns.distplot(df[\"SepalLengthCm\"], \n",
    "                kde=True, kde_kws={'clip': (5, 7.5)})\n",
    "\n",
    "\n",
    "plt.show()"
   ]
  },
  {
   "cell_type": "code",
   "execution_count": null,
   "metadata": {},
   "outputs": [],
   "source": [
    "# Avec un titre \n",
    "# Pour avoir un fond blanc avec grille\n",
    "sns.set(style=\"whitegrid\")\n",
    "\n",
    "ax=sns.distplot(df[\"SepalLengthCm\"], kde=False)\n",
    "ax.set_title(\"Histogramme de Sepal Length\")\n",
    "\n",
    "plt.show()"
   ]
  },
  {
   "cell_type": "code",
   "execution_count": null,
   "metadata": {},
   "outputs": [],
   "source": [
    "f, axes = plt.subplots(2, 2, figsize=(10, 10), sharex=False)\n",
    "sns.distplot(df[\"SepalLengthCm\"], ax=axes[0, 0])\n",
    "sns.distplot(df[\"SepalWidthCm\"], ax=axes[0, 1])\n",
    "sns.distplot(df[\"PetalLengthCm\"], ax=axes[1, 0])\n",
    "sns.distplot(df[\"PetalWidthCm\"], ax=axes[1, 1])"
   ]
  },
  {
   "cell_type": "markdown",
   "metadata": {},
   "source": [
    "**Boîtes à moustache**  \n",
    "Il existe différentes manières de représenter les boîtes à moustache en seaborn."
   ]
  },
  {
   "cell_type": "code",
   "execution_count": null,
   "metadata": {},
   "outputs": [],
   "source": [
    "#sns.set(style=\"whitegrid\")\n",
    "# orient pour mettre la vue en vertical\n",
    "ax = sns.boxplot(x=df[\"SepalWidthCm\"], orient='v')\n"
   ]
  },
  {
   "cell_type": "code",
   "execution_count": null,
   "metadata": {},
   "outputs": [],
   "source": [
    "# palette = 'Set2' pour changer les couleurs\n",
    "ax = sns.boxplot(data=df, palette='Set2')"
   ]
  },
  {
   "cell_type": "markdown",
   "metadata": {},
   "source": [
    "Le mode violon est une combinaison de boîte à moustache et d'estimation de la densité. "
   ]
  },
  {
   "cell_type": "code",
   "execution_count": null,
   "metadata": {},
   "outputs": [],
   "source": [
    "# changer la taille de la figure\n",
    "fig, ax = plt.subplots(figsize=(6,6))\n",
    "# Affichage en violon\n",
    "ax=sns.violinplot(data=df)\n"
   ]
  },
  {
   "cell_type": "markdown",
   "metadata": {},
   "source": [
    "Les swarmplot indiquent une bonne représentation de la distribution des données (elles sont toutes présentées sans chevauchement) mais sont difficile à interpréter lorsqu'il y a beaucoup de données."
   ]
  },
  {
   "cell_type": "code",
   "execution_count": null,
   "metadata": {},
   "outputs": [],
   "source": [
    "ax = sns.swarmplot(x=df[\"SepalLengthCm\"])"
   ]
  },
  {
   "cell_type": "markdown",
   "metadata": {},
   "source": [
    "Il est possible de connaître les boîtes à mouchoir par rapport à une variable catégorielle.\n"
   ]
  },
  {
   "cell_type": "code",
   "execution_count": null,
   "metadata": {},
   "outputs": [],
   "source": [
    "ax = sns.boxplot(x=\"Species\", y=\"SepalLengthCm\", data=df)"
   ]
  },
  {
   "cell_type": "markdown",
   "metadata": {},
   "source": [
    "### Travailler avec plusieurs attributs "
   ]
  },
  {
   "cell_type": "code",
   "execution_count": null,
   "metadata": {},
   "outputs": [],
   "source": [
    " sns.factorplot(\"SepalLengthCm\",'Species', \n",
    "                data=df, kind=\"bar\",  legend=False)\n",
    "                   \n",
    "# Show plot\n",
    "plt.show()"
   ]
  },
  {
   "cell_type": "code",
   "execution_count": null,
   "metadata": {},
   "outputs": [],
   "source": [
    "corr = df.corr()\n",
    "corr"
   ]
  },
  {
   "cell_type": "code",
   "execution_count": null,
   "metadata": {},
   "outputs": [],
   "source": [
    "fig, ax = plt.subplots(1, 1, figsize=(10,6))\n",
    "\n",
    "hm = sns.heatmap(corr, \n",
    "                 ax=ax,           # Axes où afficher\n",
    "                 cmap=\"YlGnBu\", # Couleur\n",
    "                 square=True,    # Si True, toutes les cellules ont le même aspect carré\n",
    "                 annot=True      # Pour afficher les valeurs\n",
    "                )\n",
    "\n",
    "fig.suptitle(\"Correlation des attributs d'IRIS\", \n",
    "              fontsize=12, \n",
    "              fontweight='bold')"
   ]
  },
  {
   "cell_type": "markdown",
   "metadata": {},
   "source": [
    "**Scatter plot matrix**"
   ]
  },
  {
   "cell_type": "code",
   "execution_count": null,
   "metadata": {
    "scrolled": true
   },
   "outputs": [],
   "source": [
    "\n",
    "\n",
    "# Matrice de base\n",
    "g = sns.pairplot(df)\n",
    "\n"
   ]
  },
  {
   "cell_type": "code",
   "execution_count": null,
   "metadata": {},
   "outputs": [],
   "source": [
    "# Matrice réduite a un sous ensemble d'attributs\n",
    "print (\"Un exemple de variables fortements corrélées\")\n",
    "g = sns.pairplot(df, vars=[\"PetalWidthCm\", \n",
    "                           \"PetalLengthCm\"])\n",
    "\n"
   ]
  },
  {
   "cell_type": "code",
   "execution_count": null,
   "metadata": {},
   "outputs": [],
   "source": [
    "# En mettant en avant les espèces\n",
    "g = sns.pairplot(df,hue=\"Species\")"
   ]
  },
  {
   "cell_type": "code",
   "execution_count": null,
   "metadata": {},
   "outputs": [],
   "source": [
    "# En mettant en avant une estimation de la densité\n",
    "g = sns.pairplot(df, hue=\"Species\", diag_kind=\"kde\")"
   ]
  }
 ],
 "metadata": {
  "kernelspec": {
   "display_name": "Python 3",
   "language": "python",
   "name": "python3"
  },
  "language_info": {
   "codemirror_mode": {
    "name": "ipython",
    "version": 3
   },
   "file_extension": ".py",
   "mimetype": "text/x-python",
   "name": "python",
   "nbconvert_exporter": "python",
   "pygments_lexer": "ipython3",
   "version": "3.6.4"
  }
 },
 "nbformat": 4,
 "nbformat_minor": 2
}
